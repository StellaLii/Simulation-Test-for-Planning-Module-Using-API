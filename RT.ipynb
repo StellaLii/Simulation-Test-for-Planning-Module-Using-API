{
 "cells": [
  {
   "cell_type": "markdown",
   "metadata": {},
   "source": [
    "## Planning-prediction-Dev=0.63.6 仿真结果"
   ]
  },
  {
   "cell_type": "code",
   "execution_count": 22,
   "metadata": {},
   "outputs": [],
   "source": [
    "import os\n",
    "import sys\n",
    "sys.path.append(os.path.realpath('.'))\n",
    "sys.path.append(os.path.realpath('..'))\n"
   ]
  },
  {
   "cell_type": "code",
   "execution_count": 23,
   "metadata": {},
   "outputs": [],
   "source": [
    "from analysis import analysis\n",
    "import pandas as pd\n",
    "import markdown\n",
    "import datetime\n",
    "from IPython.display import display, HTML, Markdown\n",
    "import plotly.express as px\n",
    "from jupyter_dash import JupyterDash\n",
    "# from dash import dcc\n",
    "# import dash_core_components as dcc\n",
    "from dash import html\n",
    "from dash.dependencies import Input, Output\n",
    "import plotly.graph_objects as go\n",
    "ana = analysis()"
   ]
  },
  {
   "cell_type": "markdown",
   "metadata": {},
   "source": [
    "## Part1 0.63.6和0.63.3的整体版本表现对比"
   ]
  },
  {
   "cell_type": "code",
   "execution_count": 24,
   "metadata": {},
   "outputs": [
    {
     "data": {
      "text/html": [
       "<table border=\"1\" class=\"dataframe\">\n",
       "  <thead>\n",
       "    <tr style=\"text-align: right;\">\n",
       "      <th>scenarioResults</th>\n",
       "      <th>Count</th>\n",
       "      <th>Percent(%)</th>\n",
       "      <th>Version</th>\n",
       "      <th>Count</th>\n",
       "      <th>Percent(%)</th>\n",
       "      <th>Version</th>\n",
       "    </tr>\n",
       "  </thead>\n",
       "  <tbody>\n",
       "    <tr>\n",
       "      <td>False</td>\n",
       "      <td>1339</td>\n",
       "      <td>45.95</td>\n",
       "      <td>0.62.1</td>\n",
       "      <td>1479</td>\n",
       "      <td>50.31</td>\n",
       "      <td>0.63.3</td>\n",
       "    </tr>\n",
       "    <tr>\n",
       "      <td>True</td>\n",
       "      <td>1575</td>\n",
       "      <td>54.05</td>\n",
       "      <td>0.62.1</td>\n",
       "      <td>1461</td>\n",
       "      <td>49.69</td>\n",
       "      <td>0.63.3</td>\n",
       "    </tr>\n",
       "  </tbody>\n",
       "</table>"
      ],
      "text/plain": [
       "<IPython.core.display.HTML object>"
      ]
     },
     "metadata": {},
     "output_type": "display_data"
    }
   ],
   "source": [
    "display(HTML(ana.part_1a().to_html(index=False)))\n",
    "color_discrete_map={\"True\": 'green'}\n",
    "color_discrete_map={\"False\": 'red'}"
   ]
  },
  {
   "cell_type": "code",
   "execution_count": 28,
   "metadata": {},
   "outputs": [
    {
     "data": {
      "application/vnd.plotly.v1+json": {
       "config": {
        "plotlyServerURL": "https://plot.ly"
       },
       "data": [
        {
         "alignmentgroup": "True",
         "hovertemplate": "scenarioResults=False<br>Version=%{x}<br>Percent(%)=%{y}<extra></extra>",
         "legendgroup": "False",
         "marker": {
          "color": "#EF553B",
          "pattern": {
           "shape": ""
          }
         },
         "name": "False",
         "offsetgroup": "False",
         "orientation": "v",
         "showlegend": true,
         "textposition": "auto",
         "texttemplate": "%{y}",
         "type": "bar",
         "x": [
          "0.62.1",
          "0.63.3"
         ],
         "xaxis": "x",
         "y": [
          45.95,
          50.31
         ],
         "yaxis": "y"
        },
        {
         "alignmentgroup": "True",
         "hovertemplate": "scenarioResults=True<br>Version=%{x}<br>Percent(%)=%{y}<extra></extra>",
         "legendgroup": "True",
         "marker": {
          "color": "#00cc96",
          "pattern": {
           "shape": ""
          }
         },
         "name": "True",
         "offsetgroup": "True",
         "orientation": "v",
         "showlegend": true,
         "textposition": "auto",
         "texttemplate": "%{y}",
         "type": "bar",
         "x": [
          "0.62.1",
          "0.63.3"
         ],
         "xaxis": "x",
         "y": [
          54.05,
          49.69
         ],
         "yaxis": "y"
        }
       ],
       "layout": {
        "barmode": "relative",
        "legend": {
         "title": {
          "text": "scenarioResults"
         },
         "tracegroupgap": 0
        },
        "margin": {
         "t": 60
        },
        "template": {
         "data": {
          "bar": [
           {
            "error_x": {
             "color": "#2a3f5f"
            },
            "error_y": {
             "color": "#2a3f5f"
            },
            "marker": {
             "line": {
              "color": "#E5ECF6",
              "width": 0.5
             },
             "pattern": {
              "fillmode": "overlay",
              "size": 10,
              "solidity": 0.2
             }
            },
            "type": "bar"
           }
          ],
          "barpolar": [
           {
            "marker": {
             "line": {
              "color": "#E5ECF6",
              "width": 0.5
             },
             "pattern": {
              "fillmode": "overlay",
              "size": 10,
              "solidity": 0.2
             }
            },
            "type": "barpolar"
           }
          ],
          "carpet": [
           {
            "aaxis": {
             "endlinecolor": "#2a3f5f",
             "gridcolor": "white",
             "linecolor": "white",
             "minorgridcolor": "white",
             "startlinecolor": "#2a3f5f"
            },
            "baxis": {
             "endlinecolor": "#2a3f5f",
             "gridcolor": "white",
             "linecolor": "white",
             "minorgridcolor": "white",
             "startlinecolor": "#2a3f5f"
            },
            "type": "carpet"
           }
          ],
          "choropleth": [
           {
            "colorbar": {
             "outlinewidth": 0,
             "ticks": ""
            },
            "type": "choropleth"
           }
          ],
          "contour": [
           {
            "colorbar": {
             "outlinewidth": 0,
             "ticks": ""
            },
            "colorscale": [
             [
              0,
              "#0d0887"
             ],
             [
              0.1111111111111111,
              "#46039f"
             ],
             [
              0.2222222222222222,
              "#7201a8"
             ],
             [
              0.3333333333333333,
              "#9c179e"
             ],
             [
              0.4444444444444444,
              "#bd3786"
             ],
             [
              0.5555555555555556,
              "#d8576b"
             ],
             [
              0.6666666666666666,
              "#ed7953"
             ],
             [
              0.7777777777777778,
              "#fb9f3a"
             ],
             [
              0.8888888888888888,
              "#fdca26"
             ],
             [
              1,
              "#f0f921"
             ]
            ],
            "type": "contour"
           }
          ],
          "contourcarpet": [
           {
            "colorbar": {
             "outlinewidth": 0,
             "ticks": ""
            },
            "type": "contourcarpet"
           }
          ],
          "heatmap": [
           {
            "colorbar": {
             "outlinewidth": 0,
             "ticks": ""
            },
            "colorscale": [
             [
              0,
              "#0d0887"
             ],
             [
              0.1111111111111111,
              "#46039f"
             ],
             [
              0.2222222222222222,
              "#7201a8"
             ],
             [
              0.3333333333333333,
              "#9c179e"
             ],
             [
              0.4444444444444444,
              "#bd3786"
             ],
             [
              0.5555555555555556,
              "#d8576b"
             ],
             [
              0.6666666666666666,
              "#ed7953"
             ],
             [
              0.7777777777777778,
              "#fb9f3a"
             ],
             [
              0.8888888888888888,
              "#fdca26"
             ],
             [
              1,
              "#f0f921"
             ]
            ],
            "type": "heatmap"
           }
          ],
          "heatmapgl": [
           {
            "colorbar": {
             "outlinewidth": 0,
             "ticks": ""
            },
            "colorscale": [
             [
              0,
              "#0d0887"
             ],
             [
              0.1111111111111111,
              "#46039f"
             ],
             [
              0.2222222222222222,
              "#7201a8"
             ],
             [
              0.3333333333333333,
              "#9c179e"
             ],
             [
              0.4444444444444444,
              "#bd3786"
             ],
             [
              0.5555555555555556,
              "#d8576b"
             ],
             [
              0.6666666666666666,
              "#ed7953"
             ],
             [
              0.7777777777777778,
              "#fb9f3a"
             ],
             [
              0.8888888888888888,
              "#fdca26"
             ],
             [
              1,
              "#f0f921"
             ]
            ],
            "type": "heatmapgl"
           }
          ],
          "histogram": [
           {
            "marker": {
             "pattern": {
              "fillmode": "overlay",
              "size": 10,
              "solidity": 0.2
             }
            },
            "type": "histogram"
           }
          ],
          "histogram2d": [
           {
            "colorbar": {
             "outlinewidth": 0,
             "ticks": ""
            },
            "colorscale": [
             [
              0,
              "#0d0887"
             ],
             [
              0.1111111111111111,
              "#46039f"
             ],
             [
              0.2222222222222222,
              "#7201a8"
             ],
             [
              0.3333333333333333,
              "#9c179e"
             ],
             [
              0.4444444444444444,
              "#bd3786"
             ],
             [
              0.5555555555555556,
              "#d8576b"
             ],
             [
              0.6666666666666666,
              "#ed7953"
             ],
             [
              0.7777777777777778,
              "#fb9f3a"
             ],
             [
              0.8888888888888888,
              "#fdca26"
             ],
             [
              1,
              "#f0f921"
             ]
            ],
            "type": "histogram2d"
           }
          ],
          "histogram2dcontour": [
           {
            "colorbar": {
             "outlinewidth": 0,
             "ticks": ""
            },
            "colorscale": [
             [
              0,
              "#0d0887"
             ],
             [
              0.1111111111111111,
              "#46039f"
             ],
             [
              0.2222222222222222,
              "#7201a8"
             ],
             [
              0.3333333333333333,
              "#9c179e"
             ],
             [
              0.4444444444444444,
              "#bd3786"
             ],
             [
              0.5555555555555556,
              "#d8576b"
             ],
             [
              0.6666666666666666,
              "#ed7953"
             ],
             [
              0.7777777777777778,
              "#fb9f3a"
             ],
             [
              0.8888888888888888,
              "#fdca26"
             ],
             [
              1,
              "#f0f921"
             ]
            ],
            "type": "histogram2dcontour"
           }
          ],
          "mesh3d": [
           {
            "colorbar": {
             "outlinewidth": 0,
             "ticks": ""
            },
            "type": "mesh3d"
           }
          ],
          "parcoords": [
           {
            "line": {
             "colorbar": {
              "outlinewidth": 0,
              "ticks": ""
             }
            },
            "type": "parcoords"
           }
          ],
          "pie": [
           {
            "automargin": true,
            "type": "pie"
           }
          ],
          "scatter": [
           {
            "fillpattern": {
             "fillmode": "overlay",
             "size": 10,
             "solidity": 0.2
            },
            "type": "scatter"
           }
          ],
          "scatter3d": [
           {
            "line": {
             "colorbar": {
              "outlinewidth": 0,
              "ticks": ""
             }
            },
            "marker": {
             "colorbar": {
              "outlinewidth": 0,
              "ticks": ""
             }
            },
            "type": "scatter3d"
           }
          ],
          "scattercarpet": [
           {
            "marker": {
             "colorbar": {
              "outlinewidth": 0,
              "ticks": ""
             }
            },
            "type": "scattercarpet"
           }
          ],
          "scattergeo": [
           {
            "marker": {
             "colorbar": {
              "outlinewidth": 0,
              "ticks": ""
             }
            },
            "type": "scattergeo"
           }
          ],
          "scattergl": [
           {
            "marker": {
             "colorbar": {
              "outlinewidth": 0,
              "ticks": ""
             }
            },
            "type": "scattergl"
           }
          ],
          "scattermapbox": [
           {
            "marker": {
             "colorbar": {
              "outlinewidth": 0,
              "ticks": ""
             }
            },
            "type": "scattermapbox"
           }
          ],
          "scatterpolar": [
           {
            "marker": {
             "colorbar": {
              "outlinewidth": 0,
              "ticks": ""
             }
            },
            "type": "scatterpolar"
           }
          ],
          "scatterpolargl": [
           {
            "marker": {
             "colorbar": {
              "outlinewidth": 0,
              "ticks": ""
             }
            },
            "type": "scatterpolargl"
           }
          ],
          "scatterternary": [
           {
            "marker": {
             "colorbar": {
              "outlinewidth": 0,
              "ticks": ""
             }
            },
            "type": "scatterternary"
           }
          ],
          "surface": [
           {
            "colorbar": {
             "outlinewidth": 0,
             "ticks": ""
            },
            "colorscale": [
             [
              0,
              "#0d0887"
             ],
             [
              0.1111111111111111,
              "#46039f"
             ],
             [
              0.2222222222222222,
              "#7201a8"
             ],
             [
              0.3333333333333333,
              "#9c179e"
             ],
             [
              0.4444444444444444,
              "#bd3786"
             ],
             [
              0.5555555555555556,
              "#d8576b"
             ],
             [
              0.6666666666666666,
              "#ed7953"
             ],
             [
              0.7777777777777778,
              "#fb9f3a"
             ],
             [
              0.8888888888888888,
              "#fdca26"
             ],
             [
              1,
              "#f0f921"
             ]
            ],
            "type": "surface"
           }
          ],
          "table": [
           {
            "cells": {
             "fill": {
              "color": "#EBF0F8"
             },
             "line": {
              "color": "white"
             }
            },
            "header": {
             "fill": {
              "color": "#C8D4E3"
             },
             "line": {
              "color": "white"
             }
            },
            "type": "table"
           }
          ]
         },
         "layout": {
          "annotationdefaults": {
           "arrowcolor": "#2a3f5f",
           "arrowhead": 0,
           "arrowwidth": 1
          },
          "autotypenumbers": "strict",
          "coloraxis": {
           "colorbar": {
            "outlinewidth": 0,
            "ticks": ""
           }
          },
          "colorscale": {
           "diverging": [
            [
             0,
             "#8e0152"
            ],
            [
             0.1,
             "#c51b7d"
            ],
            [
             0.2,
             "#de77ae"
            ],
            [
             0.3,
             "#f1b6da"
            ],
            [
             0.4,
             "#fde0ef"
            ],
            [
             0.5,
             "#f7f7f7"
            ],
            [
             0.6,
             "#e6f5d0"
            ],
            [
             0.7,
             "#b8e186"
            ],
            [
             0.8,
             "#7fbc41"
            ],
            [
             0.9,
             "#4d9221"
            ],
            [
             1,
             "#276419"
            ]
           ],
           "sequential": [
            [
             0,
             "#0d0887"
            ],
            [
             0.1111111111111111,
             "#46039f"
            ],
            [
             0.2222222222222222,
             "#7201a8"
            ],
            [
             0.3333333333333333,
             "#9c179e"
            ],
            [
             0.4444444444444444,
             "#bd3786"
            ],
            [
             0.5555555555555556,
             "#d8576b"
            ],
            [
             0.6666666666666666,
             "#ed7953"
            ],
            [
             0.7777777777777778,
             "#fb9f3a"
            ],
            [
             0.8888888888888888,
             "#fdca26"
            ],
            [
             1,
             "#f0f921"
            ]
           ],
           "sequentialminus": [
            [
             0,
             "#0d0887"
            ],
            [
             0.1111111111111111,
             "#46039f"
            ],
            [
             0.2222222222222222,
             "#7201a8"
            ],
            [
             0.3333333333333333,
             "#9c179e"
            ],
            [
             0.4444444444444444,
             "#bd3786"
            ],
            [
             0.5555555555555556,
             "#d8576b"
            ],
            [
             0.6666666666666666,
             "#ed7953"
            ],
            [
             0.7777777777777778,
             "#fb9f3a"
            ],
            [
             0.8888888888888888,
             "#fdca26"
            ],
            [
             1,
             "#f0f921"
            ]
           ]
          },
          "colorway": [
           "#636efa",
           "#EF553B",
           "#00cc96",
           "#ab63fa",
           "#FFA15A",
           "#19d3f3",
           "#FF6692",
           "#B6E880",
           "#FF97FF",
           "#FECB52"
          ],
          "font": {
           "color": "#2a3f5f"
          },
          "geo": {
           "bgcolor": "white",
           "lakecolor": "white",
           "landcolor": "#E5ECF6",
           "showlakes": true,
           "showland": true,
           "subunitcolor": "white"
          },
          "hoverlabel": {
           "align": "left"
          },
          "hovermode": "closest",
          "mapbox": {
           "style": "light"
          },
          "paper_bgcolor": "white",
          "plot_bgcolor": "#E5ECF6",
          "polar": {
           "angularaxis": {
            "gridcolor": "white",
            "linecolor": "white",
            "ticks": ""
           },
           "bgcolor": "#E5ECF6",
           "radialaxis": {
            "gridcolor": "white",
            "linecolor": "white",
            "ticks": ""
           }
          },
          "scene": {
           "xaxis": {
            "backgroundcolor": "#E5ECF6",
            "gridcolor": "white",
            "gridwidth": 2,
            "linecolor": "white",
            "showbackground": true,
            "ticks": "",
            "zerolinecolor": "white"
           },
           "yaxis": {
            "backgroundcolor": "#E5ECF6",
            "gridcolor": "white",
            "gridwidth": 2,
            "linecolor": "white",
            "showbackground": true,
            "ticks": "",
            "zerolinecolor": "white"
           },
           "zaxis": {
            "backgroundcolor": "#E5ECF6",
            "gridcolor": "white",
            "gridwidth": 2,
            "linecolor": "white",
            "showbackground": true,
            "ticks": "",
            "zerolinecolor": "white"
           }
          },
          "shapedefaults": {
           "line": {
            "color": "#2a3f5f"
           }
          },
          "ternary": {
           "aaxis": {
            "gridcolor": "white",
            "linecolor": "white",
            "ticks": ""
           },
           "baxis": {
            "gridcolor": "white",
            "linecolor": "white",
            "ticks": ""
           },
           "bgcolor": "#E5ECF6",
           "caxis": {
            "gridcolor": "white",
            "linecolor": "white",
            "ticks": ""
           }
          },
          "title": {
           "x": 0.05
          },
          "xaxis": {
           "automargin": true,
           "gridcolor": "white",
           "linecolor": "white",
           "ticks": "",
           "title": {
            "standoff": 15
           },
           "zerolinecolor": "white",
           "zerolinewidth": 2
          },
          "yaxis": {
           "automargin": true,
           "gridcolor": "white",
           "linecolor": "white",
           "ticks": "",
           "title": {
            "standoff": 15
           },
           "zerolinecolor": "white",
           "zerolinewidth": 2
          }
         }
        },
        "xaxis": {
         "anchor": "y",
         "domain": [
          0,
          1
         ],
         "title": {
          "text": "Version"
         }
        },
        "yaxis": {
         "anchor": "x",
         "domain": [
          0,
          1
         ],
         "title": {
          "text": "Percent(%)"
         }
        }
       }
      }
     },
     "metadata": {},
     "output_type": "display_data"
    }
   ],
   "source": [
    "data = ana.part_1b()\n",
    "fig = px.bar(data,x=\"Version\", y=\"Percent(%)\", color=\"scenarioResults\", text_auto=True, color_discrete_map={\"True\": 'green'})\n",
    "fig.show()"
   ]
  },
  {
   "cell_type": "markdown",
   "metadata": {},
   "source": [
    "## Part2 0.63.3和0.62.1的针对path相关问题的版本表现对比"
   ]
  },
  {
   "cell_type": "code",
   "execution_count": 29,
   "metadata": {},
   "outputs": [
    {
     "data": {
      "application/vnd.plotly.v1+json": {
       "config": {
        "plotlyServerURL": "https://plot.ly"
       },
       "data": [
        {
         "alignmentgroup": "True",
         "hovertemplate": "scenarioResults=False<br>Type=Path相关<br>Version=%{x}<br>Percent(%)=%{y}<extra></extra>",
         "legendgroup": "False",
         "marker": {
          "color": "#EF553B",
          "pattern": {
           "shape": ""
          }
         },
         "name": "False",
         "offsetgroup": "False",
         "orientation": "v",
         "showlegend": true,
         "textposition": "auto",
         "texttemplate": "%{y}",
         "type": "bar",
         "x": [
          "0.62.1",
          "0.63.3"
         ],
         "xaxis": "x",
         "y": [
          33.1,
          40.67
         ],
         "yaxis": "y"
        },
        {
         "alignmentgroup": "True",
         "hovertemplate": "scenarioResults=True<br>Type=Path相关<br>Version=%{x}<br>Percent(%)=%{y}<extra></extra>",
         "legendgroup": "True",
         "marker": {
          "color": "#00cc96",
          "pattern": {
           "shape": ""
          }
         },
         "name": "True",
         "offsetgroup": "True",
         "orientation": "v",
         "showlegend": true,
         "textposition": "auto",
         "texttemplate": "%{y}",
         "type": "bar",
         "x": [
          "0.62.1",
          "0.63.3"
         ],
         "xaxis": "x",
         "y": [
          66.9,
          59.33
         ],
         "yaxis": "y"
        }
       ],
       "layout": {
        "annotations": [
         {
          "font": {},
          "showarrow": false,
          "text": "Type=Path相关",
          "x": 0.5,
          "xanchor": "center",
          "xref": "paper",
          "y": 1,
          "yanchor": "bottom",
          "yref": "paper"
         }
        ],
        "barmode": "relative",
        "legend": {
         "title": {
          "text": "scenarioResults"
         },
         "tracegroupgap": 0
        },
        "margin": {
         "t": 60
        },
        "template": {
         "data": {
          "bar": [
           {
            "error_x": {
             "color": "#2a3f5f"
            },
            "error_y": {
             "color": "#2a3f5f"
            },
            "marker": {
             "line": {
              "color": "#E5ECF6",
              "width": 0.5
             },
             "pattern": {
              "fillmode": "overlay",
              "size": 10,
              "solidity": 0.2
             }
            },
            "type": "bar"
           }
          ],
          "barpolar": [
           {
            "marker": {
             "line": {
              "color": "#E5ECF6",
              "width": 0.5
             },
             "pattern": {
              "fillmode": "overlay",
              "size": 10,
              "solidity": 0.2
             }
            },
            "type": "barpolar"
           }
          ],
          "carpet": [
           {
            "aaxis": {
             "endlinecolor": "#2a3f5f",
             "gridcolor": "white",
             "linecolor": "white",
             "minorgridcolor": "white",
             "startlinecolor": "#2a3f5f"
            },
            "baxis": {
             "endlinecolor": "#2a3f5f",
             "gridcolor": "white",
             "linecolor": "white",
             "minorgridcolor": "white",
             "startlinecolor": "#2a3f5f"
            },
            "type": "carpet"
           }
          ],
          "choropleth": [
           {
            "colorbar": {
             "outlinewidth": 0,
             "ticks": ""
            },
            "type": "choropleth"
           }
          ],
          "contour": [
           {
            "colorbar": {
             "outlinewidth": 0,
             "ticks": ""
            },
            "colorscale": [
             [
              0,
              "#0d0887"
             ],
             [
              0.1111111111111111,
              "#46039f"
             ],
             [
              0.2222222222222222,
              "#7201a8"
             ],
             [
              0.3333333333333333,
              "#9c179e"
             ],
             [
              0.4444444444444444,
              "#bd3786"
             ],
             [
              0.5555555555555556,
              "#d8576b"
             ],
             [
              0.6666666666666666,
              "#ed7953"
             ],
             [
              0.7777777777777778,
              "#fb9f3a"
             ],
             [
              0.8888888888888888,
              "#fdca26"
             ],
             [
              1,
              "#f0f921"
             ]
            ],
            "type": "contour"
           }
          ],
          "contourcarpet": [
           {
            "colorbar": {
             "outlinewidth": 0,
             "ticks": ""
            },
            "type": "contourcarpet"
           }
          ],
          "heatmap": [
           {
            "colorbar": {
             "outlinewidth": 0,
             "ticks": ""
            },
            "colorscale": [
             [
              0,
              "#0d0887"
             ],
             [
              0.1111111111111111,
              "#46039f"
             ],
             [
              0.2222222222222222,
              "#7201a8"
             ],
             [
              0.3333333333333333,
              "#9c179e"
             ],
             [
              0.4444444444444444,
              "#bd3786"
             ],
             [
              0.5555555555555556,
              "#d8576b"
             ],
             [
              0.6666666666666666,
              "#ed7953"
             ],
             [
              0.7777777777777778,
              "#fb9f3a"
             ],
             [
              0.8888888888888888,
              "#fdca26"
             ],
             [
              1,
              "#f0f921"
             ]
            ],
            "type": "heatmap"
           }
          ],
          "heatmapgl": [
           {
            "colorbar": {
             "outlinewidth": 0,
             "ticks": ""
            },
            "colorscale": [
             [
              0,
              "#0d0887"
             ],
             [
              0.1111111111111111,
              "#46039f"
             ],
             [
              0.2222222222222222,
              "#7201a8"
             ],
             [
              0.3333333333333333,
              "#9c179e"
             ],
             [
              0.4444444444444444,
              "#bd3786"
             ],
             [
              0.5555555555555556,
              "#d8576b"
             ],
             [
              0.6666666666666666,
              "#ed7953"
             ],
             [
              0.7777777777777778,
              "#fb9f3a"
             ],
             [
              0.8888888888888888,
              "#fdca26"
             ],
             [
              1,
              "#f0f921"
             ]
            ],
            "type": "heatmapgl"
           }
          ],
          "histogram": [
           {
            "marker": {
             "pattern": {
              "fillmode": "overlay",
              "size": 10,
              "solidity": 0.2
             }
            },
            "type": "histogram"
           }
          ],
          "histogram2d": [
           {
            "colorbar": {
             "outlinewidth": 0,
             "ticks": ""
            },
            "colorscale": [
             [
              0,
              "#0d0887"
             ],
             [
              0.1111111111111111,
              "#46039f"
             ],
             [
              0.2222222222222222,
              "#7201a8"
             ],
             [
              0.3333333333333333,
              "#9c179e"
             ],
             [
              0.4444444444444444,
              "#bd3786"
             ],
             [
              0.5555555555555556,
              "#d8576b"
             ],
             [
              0.6666666666666666,
              "#ed7953"
             ],
             [
              0.7777777777777778,
              "#fb9f3a"
             ],
             [
              0.8888888888888888,
              "#fdca26"
             ],
             [
              1,
              "#f0f921"
             ]
            ],
            "type": "histogram2d"
           }
          ],
          "histogram2dcontour": [
           {
            "colorbar": {
             "outlinewidth": 0,
             "ticks": ""
            },
            "colorscale": [
             [
              0,
              "#0d0887"
             ],
             [
              0.1111111111111111,
              "#46039f"
             ],
             [
              0.2222222222222222,
              "#7201a8"
             ],
             [
              0.3333333333333333,
              "#9c179e"
             ],
             [
              0.4444444444444444,
              "#bd3786"
             ],
             [
              0.5555555555555556,
              "#d8576b"
             ],
             [
              0.6666666666666666,
              "#ed7953"
             ],
             [
              0.7777777777777778,
              "#fb9f3a"
             ],
             [
              0.8888888888888888,
              "#fdca26"
             ],
             [
              1,
              "#f0f921"
             ]
            ],
            "type": "histogram2dcontour"
           }
          ],
          "mesh3d": [
           {
            "colorbar": {
             "outlinewidth": 0,
             "ticks": ""
            },
            "type": "mesh3d"
           }
          ],
          "parcoords": [
           {
            "line": {
             "colorbar": {
              "outlinewidth": 0,
              "ticks": ""
             }
            },
            "type": "parcoords"
           }
          ],
          "pie": [
           {
            "automargin": true,
            "type": "pie"
           }
          ],
          "scatter": [
           {
            "fillpattern": {
             "fillmode": "overlay",
             "size": 10,
             "solidity": 0.2
            },
            "type": "scatter"
           }
          ],
          "scatter3d": [
           {
            "line": {
             "colorbar": {
              "outlinewidth": 0,
              "ticks": ""
             }
            },
            "marker": {
             "colorbar": {
              "outlinewidth": 0,
              "ticks": ""
             }
            },
            "type": "scatter3d"
           }
          ],
          "scattercarpet": [
           {
            "marker": {
             "colorbar": {
              "outlinewidth": 0,
              "ticks": ""
             }
            },
            "type": "scattercarpet"
           }
          ],
          "scattergeo": [
           {
            "marker": {
             "colorbar": {
              "outlinewidth": 0,
              "ticks": ""
             }
            },
            "type": "scattergeo"
           }
          ],
          "scattergl": [
           {
            "marker": {
             "colorbar": {
              "outlinewidth": 0,
              "ticks": ""
             }
            },
            "type": "scattergl"
           }
          ],
          "scattermapbox": [
           {
            "marker": {
             "colorbar": {
              "outlinewidth": 0,
              "ticks": ""
             }
            },
            "type": "scattermapbox"
           }
          ],
          "scatterpolar": [
           {
            "marker": {
             "colorbar": {
              "outlinewidth": 0,
              "ticks": ""
             }
            },
            "type": "scatterpolar"
           }
          ],
          "scatterpolargl": [
           {
            "marker": {
             "colorbar": {
              "outlinewidth": 0,
              "ticks": ""
             }
            },
            "type": "scatterpolargl"
           }
          ],
          "scatterternary": [
           {
            "marker": {
             "colorbar": {
              "outlinewidth": 0,
              "ticks": ""
             }
            },
            "type": "scatterternary"
           }
          ],
          "surface": [
           {
            "colorbar": {
             "outlinewidth": 0,
             "ticks": ""
            },
            "colorscale": [
             [
              0,
              "#0d0887"
             ],
             [
              0.1111111111111111,
              "#46039f"
             ],
             [
              0.2222222222222222,
              "#7201a8"
             ],
             [
              0.3333333333333333,
              "#9c179e"
             ],
             [
              0.4444444444444444,
              "#bd3786"
             ],
             [
              0.5555555555555556,
              "#d8576b"
             ],
             [
              0.6666666666666666,
              "#ed7953"
             ],
             [
              0.7777777777777778,
              "#fb9f3a"
             ],
             [
              0.8888888888888888,
              "#fdca26"
             ],
             [
              1,
              "#f0f921"
             ]
            ],
            "type": "surface"
           }
          ],
          "table": [
           {
            "cells": {
             "fill": {
              "color": "#EBF0F8"
             },
             "line": {
              "color": "white"
             }
            },
            "header": {
             "fill": {
              "color": "#C8D4E3"
             },
             "line": {
              "color": "white"
             }
            },
            "type": "table"
           }
          ]
         },
         "layout": {
          "annotationdefaults": {
           "arrowcolor": "#2a3f5f",
           "arrowhead": 0,
           "arrowwidth": 1
          },
          "autotypenumbers": "strict",
          "coloraxis": {
           "colorbar": {
            "outlinewidth": 0,
            "ticks": ""
           }
          },
          "colorscale": {
           "diverging": [
            [
             0,
             "#8e0152"
            ],
            [
             0.1,
             "#c51b7d"
            ],
            [
             0.2,
             "#de77ae"
            ],
            [
             0.3,
             "#f1b6da"
            ],
            [
             0.4,
             "#fde0ef"
            ],
            [
             0.5,
             "#f7f7f7"
            ],
            [
             0.6,
             "#e6f5d0"
            ],
            [
             0.7,
             "#b8e186"
            ],
            [
             0.8,
             "#7fbc41"
            ],
            [
             0.9,
             "#4d9221"
            ],
            [
             1,
             "#276419"
            ]
           ],
           "sequential": [
            [
             0,
             "#0d0887"
            ],
            [
             0.1111111111111111,
             "#46039f"
            ],
            [
             0.2222222222222222,
             "#7201a8"
            ],
            [
             0.3333333333333333,
             "#9c179e"
            ],
            [
             0.4444444444444444,
             "#bd3786"
            ],
            [
             0.5555555555555556,
             "#d8576b"
            ],
            [
             0.6666666666666666,
             "#ed7953"
            ],
            [
             0.7777777777777778,
             "#fb9f3a"
            ],
            [
             0.8888888888888888,
             "#fdca26"
            ],
            [
             1,
             "#f0f921"
            ]
           ],
           "sequentialminus": [
            [
             0,
             "#0d0887"
            ],
            [
             0.1111111111111111,
             "#46039f"
            ],
            [
             0.2222222222222222,
             "#7201a8"
            ],
            [
             0.3333333333333333,
             "#9c179e"
            ],
            [
             0.4444444444444444,
             "#bd3786"
            ],
            [
             0.5555555555555556,
             "#d8576b"
            ],
            [
             0.6666666666666666,
             "#ed7953"
            ],
            [
             0.7777777777777778,
             "#fb9f3a"
            ],
            [
             0.8888888888888888,
             "#fdca26"
            ],
            [
             1,
             "#f0f921"
            ]
           ]
          },
          "colorway": [
           "#636efa",
           "#EF553B",
           "#00cc96",
           "#ab63fa",
           "#FFA15A",
           "#19d3f3",
           "#FF6692",
           "#B6E880",
           "#FF97FF",
           "#FECB52"
          ],
          "font": {
           "color": "#2a3f5f"
          },
          "geo": {
           "bgcolor": "white",
           "lakecolor": "white",
           "landcolor": "#E5ECF6",
           "showlakes": true,
           "showland": true,
           "subunitcolor": "white"
          },
          "hoverlabel": {
           "align": "left"
          },
          "hovermode": "closest",
          "mapbox": {
           "style": "light"
          },
          "paper_bgcolor": "white",
          "plot_bgcolor": "#E5ECF6",
          "polar": {
           "angularaxis": {
            "gridcolor": "white",
            "linecolor": "white",
            "ticks": ""
           },
           "bgcolor": "#E5ECF6",
           "radialaxis": {
            "gridcolor": "white",
            "linecolor": "white",
            "ticks": ""
           }
          },
          "scene": {
           "xaxis": {
            "backgroundcolor": "#E5ECF6",
            "gridcolor": "white",
            "gridwidth": 2,
            "linecolor": "white",
            "showbackground": true,
            "ticks": "",
            "zerolinecolor": "white"
           },
           "yaxis": {
            "backgroundcolor": "#E5ECF6",
            "gridcolor": "white",
            "gridwidth": 2,
            "linecolor": "white",
            "showbackground": true,
            "ticks": "",
            "zerolinecolor": "white"
           },
           "zaxis": {
            "backgroundcolor": "#E5ECF6",
            "gridcolor": "white",
            "gridwidth": 2,
            "linecolor": "white",
            "showbackground": true,
            "ticks": "",
            "zerolinecolor": "white"
           }
          },
          "shapedefaults": {
           "line": {
            "color": "#2a3f5f"
           }
          },
          "ternary": {
           "aaxis": {
            "gridcolor": "white",
            "linecolor": "white",
            "ticks": ""
           },
           "baxis": {
            "gridcolor": "white",
            "linecolor": "white",
            "ticks": ""
           },
           "bgcolor": "#E5ECF6",
           "caxis": {
            "gridcolor": "white",
            "linecolor": "white",
            "ticks": ""
           }
          },
          "title": {
           "x": 0.05
          },
          "xaxis": {
           "automargin": true,
           "gridcolor": "white",
           "linecolor": "white",
           "ticks": "",
           "title": {
            "standoff": 15
           },
           "zerolinecolor": "white",
           "zerolinewidth": 2
          },
          "yaxis": {
           "automargin": true,
           "gridcolor": "white",
           "linecolor": "white",
           "ticks": "",
           "title": {
            "standoff": 15
           },
           "zerolinecolor": "white",
           "zerolinewidth": 2
          }
         }
        },
        "xaxis": {
         "anchor": "y",
         "domain": [
          0,
          1
         ],
         "title": {
          "text": "Version"
         }
        },
        "yaxis": {
         "anchor": "x",
         "domain": [
          0,
          1
         ],
         "title": {
          "text": "Percent(%)"
         }
        }
       }
      }
     },
     "metadata": {},
     "output_type": "display_data"
    }
   ],
   "source": [
    "data = ana.part_2f()\n",
    "fig = px.bar(data,x=\"Version\", y=\"Percent(%)\", color=\"scenarioResults\", text_auto=True,\n",
    "            facet_col=\"Type\", color_discrete_map={\"True\": 'green'})\n",
    "\n",
    "\n",
    "fig.show()"
   ]
  },
  {
   "cell_type": "markdown",
   "metadata": {},
   "source": [
    "## Part3 新增问题类型分布"
   ]
  },
  {
   "cell_type": "code",
   "execution_count": 6,
   "metadata": {},
   "outputs": [
    {
     "data": {
      "application/vnd.plotly.v1+json": {
       "config": {
        "plotlyServerURL": "https://plot.ly"
       },
       "data": [
        {
         "domain": {
          "x": [
           0,
           1
          ],
          "y": [
           0,
           1
          ]
         },
         "hovertemplate": "label=%{label}<br>value=%{value}<extra></extra>",
         "labels": [
          "交规",
          "交规 - 不按规定路线行驶（OFF_ROUTING）",
          "交规 - 压实线/双黄线/半实半虚线行驶（ DRIVING_OVER_SOLID_LINE）",
          "体感",
          "体感 -  横向转向过大（ EXCESSIVE_LATERAL_STEER）",
          "体感 - 点刹（  SLIGHT_BRAKE）",
          "安全",
          "安全 -  太靠近行人（TOO_CLOSE_TO_PEDESTRIAN）",
          "安全 - 危险变道（DANGEROUS_LANE_CHANGE）",
          "安全 - 太靠近他车（TOO_CLOSE_TO_VEHICLE）",
          "安全 - 车辆摇晃 （WOBBLE） ",
          "未分类问题（ISSUE_UNCLASSIFIED）",
          "流程",
          "通行效率",
          "通行效率 -  不必要换道（UNNECESSARY_LANE_CHANGE）",
          "通行效率 - 不合理的停车（UNREASONABLE_STOP）",
          "通行效率 - 通行效率过低（ LOW_TRAFFIC_EFFICIENCY）"
         ],
         "legendgroup": "",
         "name": "",
         "showlegend": true,
         "textinfo": "percent+label",
         "textposition": "inside",
         "type": "pie",
         "values": [
          1,
          1,
          5,
          1,
          2,
          6,
          2,
          1,
          1,
          4,
          2,
          10,
          1,
          2,
          4,
          1,
          7
         ]
        }
       ],
       "layout": {
        "height": 1200,
        "legend": {
         "tracegroupgap": 0
        },
        "margin": {
         "t": 60
        },
        "template": {
         "data": {
          "bar": [
           {
            "error_x": {
             "color": "#2a3f5f"
            },
            "error_y": {
             "color": "#2a3f5f"
            },
            "marker": {
             "line": {
              "color": "#E5ECF6",
              "width": 0.5
             },
             "pattern": {
              "fillmode": "overlay",
              "size": 10,
              "solidity": 0.2
             }
            },
            "type": "bar"
           }
          ],
          "barpolar": [
           {
            "marker": {
             "line": {
              "color": "#E5ECF6",
              "width": 0.5
             },
             "pattern": {
              "fillmode": "overlay",
              "size": 10,
              "solidity": 0.2
             }
            },
            "type": "barpolar"
           }
          ],
          "carpet": [
           {
            "aaxis": {
             "endlinecolor": "#2a3f5f",
             "gridcolor": "white",
             "linecolor": "white",
             "minorgridcolor": "white",
             "startlinecolor": "#2a3f5f"
            },
            "baxis": {
             "endlinecolor": "#2a3f5f",
             "gridcolor": "white",
             "linecolor": "white",
             "minorgridcolor": "white",
             "startlinecolor": "#2a3f5f"
            },
            "type": "carpet"
           }
          ],
          "choropleth": [
           {
            "colorbar": {
             "outlinewidth": 0,
             "ticks": ""
            },
            "type": "choropleth"
           }
          ],
          "contour": [
           {
            "colorbar": {
             "outlinewidth": 0,
             "ticks": ""
            },
            "colorscale": [
             [
              0,
              "#0d0887"
             ],
             [
              0.1111111111111111,
              "#46039f"
             ],
             [
              0.2222222222222222,
              "#7201a8"
             ],
             [
              0.3333333333333333,
              "#9c179e"
             ],
             [
              0.4444444444444444,
              "#bd3786"
             ],
             [
              0.5555555555555556,
              "#d8576b"
             ],
             [
              0.6666666666666666,
              "#ed7953"
             ],
             [
              0.7777777777777778,
              "#fb9f3a"
             ],
             [
              0.8888888888888888,
              "#fdca26"
             ],
             [
              1,
              "#f0f921"
             ]
            ],
            "type": "contour"
           }
          ],
          "contourcarpet": [
           {
            "colorbar": {
             "outlinewidth": 0,
             "ticks": ""
            },
            "type": "contourcarpet"
           }
          ],
          "heatmap": [
           {
            "colorbar": {
             "outlinewidth": 0,
             "ticks": ""
            },
            "colorscale": [
             [
              0,
              "#0d0887"
             ],
             [
              0.1111111111111111,
              "#46039f"
             ],
             [
              0.2222222222222222,
              "#7201a8"
             ],
             [
              0.3333333333333333,
              "#9c179e"
             ],
             [
              0.4444444444444444,
              "#bd3786"
             ],
             [
              0.5555555555555556,
              "#d8576b"
             ],
             [
              0.6666666666666666,
              "#ed7953"
             ],
             [
              0.7777777777777778,
              "#fb9f3a"
             ],
             [
              0.8888888888888888,
              "#fdca26"
             ],
             [
              1,
              "#f0f921"
             ]
            ],
            "type": "heatmap"
           }
          ],
          "heatmapgl": [
           {
            "colorbar": {
             "outlinewidth": 0,
             "ticks": ""
            },
            "colorscale": [
             [
              0,
              "#0d0887"
             ],
             [
              0.1111111111111111,
              "#46039f"
             ],
             [
              0.2222222222222222,
              "#7201a8"
             ],
             [
              0.3333333333333333,
              "#9c179e"
             ],
             [
              0.4444444444444444,
              "#bd3786"
             ],
             [
              0.5555555555555556,
              "#d8576b"
             ],
             [
              0.6666666666666666,
              "#ed7953"
             ],
             [
              0.7777777777777778,
              "#fb9f3a"
             ],
             [
              0.8888888888888888,
              "#fdca26"
             ],
             [
              1,
              "#f0f921"
             ]
            ],
            "type": "heatmapgl"
           }
          ],
          "histogram": [
           {
            "marker": {
             "pattern": {
              "fillmode": "overlay",
              "size": 10,
              "solidity": 0.2
             }
            },
            "type": "histogram"
           }
          ],
          "histogram2d": [
           {
            "colorbar": {
             "outlinewidth": 0,
             "ticks": ""
            },
            "colorscale": [
             [
              0,
              "#0d0887"
             ],
             [
              0.1111111111111111,
              "#46039f"
             ],
             [
              0.2222222222222222,
              "#7201a8"
             ],
             [
              0.3333333333333333,
              "#9c179e"
             ],
             [
              0.4444444444444444,
              "#bd3786"
             ],
             [
              0.5555555555555556,
              "#d8576b"
             ],
             [
              0.6666666666666666,
              "#ed7953"
             ],
             [
              0.7777777777777778,
              "#fb9f3a"
             ],
             [
              0.8888888888888888,
              "#fdca26"
             ],
             [
              1,
              "#f0f921"
             ]
            ],
            "type": "histogram2d"
           }
          ],
          "histogram2dcontour": [
           {
            "colorbar": {
             "outlinewidth": 0,
             "ticks": ""
            },
            "colorscale": [
             [
              0,
              "#0d0887"
             ],
             [
              0.1111111111111111,
              "#46039f"
             ],
             [
              0.2222222222222222,
              "#7201a8"
             ],
             [
              0.3333333333333333,
              "#9c179e"
             ],
             [
              0.4444444444444444,
              "#bd3786"
             ],
             [
              0.5555555555555556,
              "#d8576b"
             ],
             [
              0.6666666666666666,
              "#ed7953"
             ],
             [
              0.7777777777777778,
              "#fb9f3a"
             ],
             [
              0.8888888888888888,
              "#fdca26"
             ],
             [
              1,
              "#f0f921"
             ]
            ],
            "type": "histogram2dcontour"
           }
          ],
          "mesh3d": [
           {
            "colorbar": {
             "outlinewidth": 0,
             "ticks": ""
            },
            "type": "mesh3d"
           }
          ],
          "parcoords": [
           {
            "line": {
             "colorbar": {
              "outlinewidth": 0,
              "ticks": ""
             }
            },
            "type": "parcoords"
           }
          ],
          "pie": [
           {
            "automargin": true,
            "type": "pie"
           }
          ],
          "scatter": [
           {
            "fillpattern": {
             "fillmode": "overlay",
             "size": 10,
             "solidity": 0.2
            },
            "type": "scatter"
           }
          ],
          "scatter3d": [
           {
            "line": {
             "colorbar": {
              "outlinewidth": 0,
              "ticks": ""
             }
            },
            "marker": {
             "colorbar": {
              "outlinewidth": 0,
              "ticks": ""
             }
            },
            "type": "scatter3d"
           }
          ],
          "scattercarpet": [
           {
            "marker": {
             "colorbar": {
              "outlinewidth": 0,
              "ticks": ""
             }
            },
            "type": "scattercarpet"
           }
          ],
          "scattergeo": [
           {
            "marker": {
             "colorbar": {
              "outlinewidth": 0,
              "ticks": ""
             }
            },
            "type": "scattergeo"
           }
          ],
          "scattergl": [
           {
            "marker": {
             "colorbar": {
              "outlinewidth": 0,
              "ticks": ""
             }
            },
            "type": "scattergl"
           }
          ],
          "scattermapbox": [
           {
            "marker": {
             "colorbar": {
              "outlinewidth": 0,
              "ticks": ""
             }
            },
            "type": "scattermapbox"
           }
          ],
          "scatterpolar": [
           {
            "marker": {
             "colorbar": {
              "outlinewidth": 0,
              "ticks": ""
             }
            },
            "type": "scatterpolar"
           }
          ],
          "scatterpolargl": [
           {
            "marker": {
             "colorbar": {
              "outlinewidth": 0,
              "ticks": ""
             }
            },
            "type": "scatterpolargl"
           }
          ],
          "scatterternary": [
           {
            "marker": {
             "colorbar": {
              "outlinewidth": 0,
              "ticks": ""
             }
            },
            "type": "scatterternary"
           }
          ],
          "surface": [
           {
            "colorbar": {
             "outlinewidth": 0,
             "ticks": ""
            },
            "colorscale": [
             [
              0,
              "#0d0887"
             ],
             [
              0.1111111111111111,
              "#46039f"
             ],
             [
              0.2222222222222222,
              "#7201a8"
             ],
             [
              0.3333333333333333,
              "#9c179e"
             ],
             [
              0.4444444444444444,
              "#bd3786"
             ],
             [
              0.5555555555555556,
              "#d8576b"
             ],
             [
              0.6666666666666666,
              "#ed7953"
             ],
             [
              0.7777777777777778,
              "#fb9f3a"
             ],
             [
              0.8888888888888888,
              "#fdca26"
             ],
             [
              1,
              "#f0f921"
             ]
            ],
            "type": "surface"
           }
          ],
          "table": [
           {
            "cells": {
             "fill": {
              "color": "#EBF0F8"
             },
             "line": {
              "color": "white"
             }
            },
            "header": {
             "fill": {
              "color": "#C8D4E3"
             },
             "line": {
              "color": "white"
             }
            },
            "type": "table"
           }
          ]
         },
         "layout": {
          "annotationdefaults": {
           "arrowcolor": "#2a3f5f",
           "arrowhead": 0,
           "arrowwidth": 1
          },
          "autotypenumbers": "strict",
          "coloraxis": {
           "colorbar": {
            "outlinewidth": 0,
            "ticks": ""
           }
          },
          "colorscale": {
           "diverging": [
            [
             0,
             "#8e0152"
            ],
            [
             0.1,
             "#c51b7d"
            ],
            [
             0.2,
             "#de77ae"
            ],
            [
             0.3,
             "#f1b6da"
            ],
            [
             0.4,
             "#fde0ef"
            ],
            [
             0.5,
             "#f7f7f7"
            ],
            [
             0.6,
             "#e6f5d0"
            ],
            [
             0.7,
             "#b8e186"
            ],
            [
             0.8,
             "#7fbc41"
            ],
            [
             0.9,
             "#4d9221"
            ],
            [
             1,
             "#276419"
            ]
           ],
           "sequential": [
            [
             0,
             "#0d0887"
            ],
            [
             0.1111111111111111,
             "#46039f"
            ],
            [
             0.2222222222222222,
             "#7201a8"
            ],
            [
             0.3333333333333333,
             "#9c179e"
            ],
            [
             0.4444444444444444,
             "#bd3786"
            ],
            [
             0.5555555555555556,
             "#d8576b"
            ],
            [
             0.6666666666666666,
             "#ed7953"
            ],
            [
             0.7777777777777778,
             "#fb9f3a"
            ],
            [
             0.8888888888888888,
             "#fdca26"
            ],
            [
             1,
             "#f0f921"
            ]
           ],
           "sequentialminus": [
            [
             0,
             "#0d0887"
            ],
            [
             0.1111111111111111,
             "#46039f"
            ],
            [
             0.2222222222222222,
             "#7201a8"
            ],
            [
             0.3333333333333333,
             "#9c179e"
            ],
            [
             0.4444444444444444,
             "#bd3786"
            ],
            [
             0.5555555555555556,
             "#d8576b"
            ],
            [
             0.6666666666666666,
             "#ed7953"
            ],
            [
             0.7777777777777778,
             "#fb9f3a"
            ],
            [
             0.8888888888888888,
             "#fdca26"
            ],
            [
             1,
             "#f0f921"
            ]
           ]
          },
          "colorway": [
           "#636efa",
           "#EF553B",
           "#00cc96",
           "#ab63fa",
           "#FFA15A",
           "#19d3f3",
           "#FF6692",
           "#B6E880",
           "#FF97FF",
           "#FECB52"
          ],
          "font": {
           "color": "#2a3f5f"
          },
          "geo": {
           "bgcolor": "white",
           "lakecolor": "white",
           "landcolor": "#E5ECF6",
           "showlakes": true,
           "showland": true,
           "subunitcolor": "white"
          },
          "hoverlabel": {
           "align": "left"
          },
          "hovermode": "closest",
          "mapbox": {
           "style": "light"
          },
          "paper_bgcolor": "white",
          "plot_bgcolor": "#E5ECF6",
          "polar": {
           "angularaxis": {
            "gridcolor": "white",
            "linecolor": "white",
            "ticks": ""
           },
           "bgcolor": "#E5ECF6",
           "radialaxis": {
            "gridcolor": "white",
            "linecolor": "white",
            "ticks": ""
           }
          },
          "scene": {
           "xaxis": {
            "backgroundcolor": "#E5ECF6",
            "gridcolor": "white",
            "gridwidth": 2,
            "linecolor": "white",
            "showbackground": true,
            "ticks": "",
            "zerolinecolor": "white"
           },
           "yaxis": {
            "backgroundcolor": "#E5ECF6",
            "gridcolor": "white",
            "gridwidth": 2,
            "linecolor": "white",
            "showbackground": true,
            "ticks": "",
            "zerolinecolor": "white"
           },
           "zaxis": {
            "backgroundcolor": "#E5ECF6",
            "gridcolor": "white",
            "gridwidth": 2,
            "linecolor": "white",
            "showbackground": true,
            "ticks": "",
            "zerolinecolor": "white"
           }
          },
          "shapedefaults": {
           "line": {
            "color": "#2a3f5f"
           }
          },
          "ternary": {
           "aaxis": {
            "gridcolor": "white",
            "linecolor": "white",
            "ticks": ""
           },
           "baxis": {
            "gridcolor": "white",
            "linecolor": "white",
            "ticks": ""
           },
           "bgcolor": "#E5ECF6",
           "caxis": {
            "gridcolor": "white",
            "linecolor": "white",
            "ticks": ""
           }
          },
          "title": {
           "x": 0.05
          },
          "xaxis": {
           "automargin": true,
           "gridcolor": "white",
           "linecolor": "white",
           "ticks": "",
           "title": {
            "standoff": 15
           },
           "zerolinecolor": "white",
           "zerolinewidth": 2
          },
          "yaxis": {
           "automargin": true,
           "gridcolor": "white",
           "linecolor": "white",
           "ticks": "",
           "title": {
            "standoff": 15
           },
           "zerolinecolor": "white",
           "zerolinewidth": 2
          }
         }
        },
        "title": {
         "text": "新增Issues类型分布",
         "x": 0.5,
         "xanchor": "center"
        },
        "width": 1500
       }
      }
     },
     "metadata": {},
     "output_type": "display_data"
    }
   ],
   "source": [
    "ana.part_3a().show()"
   ]
  },
  {
   "cell_type": "markdown",
   "metadata": {},
   "source": [
    "## Part4 Appendix\n",
    "### 4.1 表现更差的case"
   ]
  },
  {
   "cell_type": "code",
   "execution_count": 21,
   "metadata": {},
   "outputs": [
    {
     "data": {
      "text/markdown": [
       "|   scenarioId | jiraId                                                                  | 0.62.1   | 0.63.3   |\n",
       "|-------------:|:------------------------------------------------------------------------|:---------|:---------|\n",
       "|         5869 | [PLANNING-1464](https://jira.deeproute.ai/browse/PLANNING-1464)         | True     | False    |\n",
       "|         5935 | [PLANNING-2682](https://jira.deeproute.ai/browse/PLANNING-2682)         | True     | False    |\n",
       "|         6014 | [PLANNING-389](https://jira.deeproute.ai/browse/PLANNING-389)           | True     | False    |\n",
       "|         6024 | [PLANNING-2129](https://jira.deeproute.ai/browse/PLANNING-2129)         | True     | False    |\n",
       "|         6027 | [PLANNING-2134](https://jira.deeproute.ai/browse/PLANNING-2134)         | True     | False    |\n",
       "|         6044 | [PLANNING-2196](https://jira.deeproute.ai/browse/PLANNING-2196)         | True     | False    |\n",
       "|         6373 | [PLANNING-2934](https://jira.deeproute.ai/browse/PLANNING-2934)         | True     | False    |\n",
       "|         6812 | [XIAMEN-353](https://jira.deeproute.ai/browse/XIAMEN-353)               | True     | False    |\n",
       "|         6814 | [XIAMEN-354](https://jira.deeproute.ai/browse/XIAMEN-354)               | True     | False    |\n",
       "|         6897 | [PLANNING-4286](https://jira.deeproute.ai/browse/PLANNING-4286)         | True     | False    |\n",
       "|         6913 | [PLANNING-847](https://jira.deeproute.ai/browse/PLANNING-847)           | True     | False    |\n",
       "|         6939 | [PLANNING-2225](https://jira.deeproute.ai/browse/PLANNING-2225)         | True     | False    |\n",
       "|         7057 | [XIAMEN-360](https://jira.deeproute.ai/browse/XIAMEN-360)               | True     | False    |\n",
       "|         7276 | [XIAMEN-328](https://jira.deeproute.ai/browse/XIAMEN-328)               | True     | False    |\n",
       "|         7327 | [XIAMEN-713](https://jira.deeproute.ai/browse/XIAMEN-713)               | True     | False    |\n",
       "|         7339 | [PLANNING-2422](https://jira.deeproute.ai/browse/PLANNING-2422)         | True     | False    |\n",
       "|         7450 | [PLANNING-2621](https://jira.deeproute.ai/browse/PLANNING-2621)         | True     | False    |\n",
       "|         7507 | [PLANNING-541](https://jira.deeproute.ai/browse/PLANNING-541)           | True     | False    |\n",
       "|         7535 | [XIAMEN-475](https://jira.deeproute.ai/browse/XIAMEN-475)               | True     | False    |\n",
       "|         7563 | [PLANNING-2477](https://jira.deeproute.ai/browse/PLANNING-2477)         | True     | False    |\n",
       "|         7567 | [PLANNING-2449](https://jira.deeproute.ai/browse/PLANNING-2449)         | True     | False    |\n",
       "|         7647 | [PLANNING-3028](https://jira.deeproute.ai/browse/PLANNING-3028)         | True     | False    |\n",
       "|         8161 | [PLANNING-516](https://jira.deeproute.ai/browse/PLANNING-516)           | True     | False    |\n",
       "|         8277 | [PLANNING-3129](https://jira.deeproute.ai/browse/PLANNING-3129)         | True     | False    |\n",
       "|         8296 | [PLANNING-1029](https://jira.deeproute.ai/browse/PLANNING-1029)         | True     | False    |\n",
       "|         8312 | [PLANNING-1554](https://jira.deeproute.ai/browse/PLANNING-1554)         | True     | False    |\n",
       "|         8360 | [PLANNING-259](https://jira.deeproute.ai/browse/PLANNING-259)           | True     | False    |\n",
       "|         8383 | [None](https://jira.deeproute.ai/browse/None)                           | True     | False    |\n",
       "|         8461 | [PLANNING-3152](https://jira.deeproute.ai/browse/PLANNING-3152)         | True     | False    |\n",
       "|         8510 | [PLANNING-1900](https://jira.deeproute.ai/browse/PLANNING-1900)         | True     | False    |\n",
       "|         8735 | [PLANNING-2754](https://jira.deeproute.ai/browse/PLANNING-2754)         | True     | False    |\n",
       "|         8807 | [PLANNING-1359](https://jira.deeproute.ai/browse/PLANNING-1359)         | True     | False    |\n",
       "|         8877 | [PLANNING-1602](https://jira.deeproute.ai/browse/PLANNING-1602)         | True     | False    |\n",
       "|         8970 | [PLANNING-1683](https://jira.deeproute.ai/browse/PLANNING-1683)         | True     | False    |\n",
       "|         9060 | [PLANNING-2148](https://jira.deeproute.ai/browse/PLANNING-2148)         | True     | False    |\n",
       "|         9078 | [PLANNING-3112](https://jira.deeproute.ai/browse/PLANNING-3112)         | True     | False    |\n",
       "|         9088 | [PLANNING-3123](https://jira.deeproute.ai/browse/PLANNING-3123)         | True     | False    |\n",
       "|         9100 | [PLANNING-2976](https://jira.deeproute.ai/browse/PLANNING-2976)         | True     | False    |\n",
       "|         9299 | [PLANNING-2481](https://jira.deeproute.ai/browse/PLANNING-2481)         | True     | False    |\n",
       "|         9327 | [PLANNING-1226](https://jira.deeproute.ai/browse/PLANNING-1226)         | True     | False    |\n",
       "|         9340 | [PLANNING-2183](https://jira.deeproute.ai/browse/PLANNING-2183)         | True     | False    |\n",
       "|         9370 | [XIAMEN-384](https://jira.deeproute.ai/browse/XIAMEN-384)               | True     | False    |\n",
       "|         9712 | [PLANNING-992](https://jira.deeproute.ai/browse/PLANNING-992)           | True     | False    |\n",
       "|         9754 | [XIAMEN-446](https://jira.deeproute.ai/browse/XIAMEN-446)               | True     | False    |\n",
       "|         9852 | [PLANNING-1236](https://jira.deeproute.ai/browse/PLANNING-1236)         | True     | False    |\n",
       "|         9863 | [PLANNING-1236](https://jira.deeproute.ai/browse/PLANNING-1236)         | True     | False    |\n",
       "|         9886 | [None](https://jira.deeproute.ai/browse/None)                           | True     | False    |\n",
       "|         9972 | [PLANNING-2197](https://jira.deeproute.ai/browse/PLANNING-2197)         | True     | False    |\n",
       "|        10093 | [DEMO-118](https://jira.deeproute.ai/browse/DEMO-118)                   | True     | False    |\n",
       "|        10135 | [PLANNING-1447](https://jira.deeproute.ai/browse/PLANNING-1447)         | True     | False    |\n",
       "|        10225 | [PLANNING-3386](https://jira.deeproute.ai/browse/PLANNING-3386)         | True     | False    |\n",
       "|        10253 | [PLANNING-1393](https://jira.deeproute.ai/browse/PLANNING-1393)         | True     | False    |\n",
       "|        10544 | [PLANNING-3522](https://jira.deeproute.ai/browse/PLANNING-3522)         | True     | False    |\n",
       "|        10562 | [PLANNING-3528](https://jira.deeproute.ai/browse/PLANNING-3528)         | True     | False    |\n",
       "|        10777 | [XIAMEN-705](https://jira.deeproute.ai/browse/XIAMEN-705)               | True     | False    |\n",
       "|        11135 | [PLANNING-2559](https://jira.deeproute.ai/browse/PLANNING-2559)         | True     | False    |\n",
       "|        11208 | [PLANNING-2728](https://jira.deeproute.ai/browse/PLANNING-2728)         | True     | False    |\n",
       "|        11319 | [PLANNING-1999](https://jira.deeproute.ai/browse/PLANNING-1999)         | True     | False    |\n",
       "|        11413 | [PLANNING-1299](https://jira.deeproute.ai/browse/PLANNING-1299)         | True     | False    |\n",
       "|        11459 | [OP-69](https://jira.deeproute.ai/browse/OP-69)                         | True     | False    |\n",
       "|        11562 | [PLANNING-2211](https://jira.deeproute.ai/browse/PLANNING-2211)         | True     | False    |\n",
       "|        16588 | [None](https://jira.deeproute.ai/browse/None)                           | True     | False    |\n",
       "|        16630 | [PLANNING-3955](https://jira.deeproute.ai/browse/PLANNING-3955)         | True     | False    |\n",
       "|        16786 | [PLANNING-615](https://jira.deeproute.ai/browse/PLANNING-615)           | True     | False    |\n",
       "|        16970 | [PLANNING-3329](https://jira.deeproute.ai/browse/PLANNING-3329)         | True     | False    |\n",
       "|        16987 | [None](https://jira.deeproute.ai/browse/None)                           | True     | False    |\n",
       "|        17092 | [PLANNING-3375](https://jira.deeproute.ai/browse/PLANNING-3375)         | True     | False    |\n",
       "|        17137 | [PLANNING-1559](https://jira.deeproute.ai/browse/PLANNING-1559)         | True     | False    |\n",
       "|        17165 | [XIAMEN-466](https://jira.deeproute.ai/browse/XIAMEN-466)               | True     | False    |\n",
       "|        18521 | [PLANNING-4411](https://jira.deeproute.ai/browse/PLANNING-4411)         | True     | False    |\n",
       "|        26492 | [PLANNING-4736](https://jira.deeproute.ai/browse/PLANNING-4736)         | True     | False    |\n",
       "|        26539 | [PLANNING-4737](https://jira.deeproute.ai/browse/PLANNING-4737)         | True     | False    |\n",
       "|        27467 | [DEMO-301](https://jira.deeproute.ai/browse/DEMO-301)                   | True     | False    |\n",
       "|        28132 | [RoboTaxi-TakeOver](https://jira.deeproute.ai/browse/RoboTaxi-TakeOver) | True     | False    |\n",
       "|        28411 | [PLANNING-5453](https://jira.deeproute.ai/browse/PLANNING-5453)         | True     | False    |\n",
       "|        28531 | [PLANNING-5498](https://jira.deeproute.ai/browse/PLANNING-5498)         | True     | False    |\n",
       "|        29330 | [PLANNING-*](https://jira.deeproute.ai/browse/PLANNING-*)               | True     | False    |\n",
       "|        29381 | [PLANNING-5600](https://jira.deeproute.ai/browse/PLANNING-5600)         | True     | False    |\n",
       "|        29390 | [PLANNING-5600](https://jira.deeproute.ai/browse/PLANNING-5600)         | True     | False    |\n",
       "|        29532 | [PLANNING-5600](https://jira.deeproute.ai/browse/PLANNING-5600)         | True     | False    |\n",
       "|        29640 | [PLANNING-5781](https://jira.deeproute.ai/browse/PLANNING-5781)         | True     | False    |\n",
       "|        29663 | [PLANNING-5785](https://jira.deeproute.ai/browse/PLANNING-5785)         | True     | False    |\n",
       "|        29701 | [PLANNING-5804](https://jira.deeproute.ai/browse/PLANNING-5804)         | True     | False    |\n",
       "|        29760 | [PLANNING-5600](https://jira.deeproute.ai/browse/PLANNING-5600)         | True     | False    |\n",
       "|        29972 | [None](https://jira.deeproute.ai/browse/None)                           | True     | False    |\n",
       "|        30687 | [PLANNING-5915](https://jira.deeproute.ai/browse/PLANNING-5915)         | True     | False    |\n",
       "|        31621 | [PLANNING-6065](https://jira.deeproute.ai/browse/PLANNING-6065)         | True     | False    |\n",
       "|        31652 | [PLANNING-6067](https://jira.deeproute.ai/browse/PLANNING-6067)         | True     | False    |\n",
       "|        31662 | [PLANNING-6071](https://jira.deeproute.ai/browse/PLANNING-6071)         | True     | False    |\n",
       "|        31981 | [PLANNING-6096](https://jira.deeproute.ai/browse/PLANNING-6096)         | True     | False    |\n",
       "|        32274 | [PLANNING-6137](https://jira.deeproute.ai/browse/PLANNING-6137)         | True     | False    |\n",
       "|        32440 | [PLANNING-6152](https://jira.deeproute.ai/browse/PLANNING-6152)         | True     | False    |\n",
       "|        32867 | [PLANNING-6157](https://jira.deeproute.ai/browse/PLANNING-6157)         | True     | False    |\n",
       "|        36812 | [PLANNING-6462](https://jira.deeproute.ai/browse/PLANNING-6462)         | True     | False    |\n",
       "|        37029 | [PLANNING-6531](https://jira.deeproute.ai/browse/PLANNING-6531)         | True     | False    |\n",
       "|        37261 | [None](https://jira.deeproute.ai/browse/None)                           | True     | False    |\n",
       "|        37285 | [None](https://jira.deeproute.ai/browse/None)                           | True     | False    |\n",
       "|        37293 | [None](https://jira.deeproute.ai/browse/None)                           | True     | False    |\n",
       "|        37300 | [None](https://jira.deeproute.ai/browse/None)                           | True     | False    |\n",
       "|        37814 | [None](https://jira.deeproute.ai/browse/None)                           | True     | False    |\n",
       "|        37816 | [None](https://jira.deeproute.ai/browse/None)                           | True     | False    |\n",
       "|        37823 | [None](https://jira.deeproute.ai/browse/None)                           | True     | False    |\n",
       "|        37825 | [None](https://jira.deeproute.ai/browse/None)                           | True     | False    |\n",
       "|        37826 | [None](https://jira.deeproute.ai/browse/None)                           | True     | False    |\n",
       "|        37879 | [DEMO-366](https://jira.deeproute.ai/browse/DEMO-366)                   | True     | False    |\n",
       "|        37892 | [None](https://jira.deeproute.ai/browse/None)                           | True     | False    |\n",
       "|        37907 | [None](https://jira.deeproute.ai/browse/None)                           | True     | False    |\n",
       "|        37908 | [None](https://jira.deeproute.ai/browse/None)                           | True     | False    |\n",
       "|        37919 | [DEMO-370](https://jira.deeproute.ai/browse/DEMO-370)                   | True     | False    |\n",
       "|        38008 | [None](https://jira.deeproute.ai/browse/None)                           | True     | False    |\n",
       "|        38032 | [None](https://jira.deeproute.ai/browse/None)                           | True     | False    |\n",
       "|        38034 | [None](https://jira.deeproute.ai/browse/None)                           | True     | False    |\n",
       "|        38054 | [None](https://jira.deeproute.ai/browse/None)                           | True     | False    |\n",
       "|        38056 | [None](https://jira.deeproute.ai/browse/None)                           | True     | False    |\n",
       "|        38071 | [None](https://jira.deeproute.ai/browse/None)                           | True     | False    |\n",
       "|        38093 | [None](https://jira.deeproute.ai/browse/None)                           | True     | False    |\n",
       "|        38111 | [None](https://jira.deeproute.ai/browse/None)                           | True     | False    |\n",
       "|        38132 | [None](https://jira.deeproute.ai/browse/None)                           | True     | False    |\n",
       "|        38247 | [None](https://jira.deeproute.ai/browse/None)                           | True     | False    |\n",
       "|        38259 | [None](https://jira.deeproute.ai/browse/None)                           | True     | False    |\n",
       "|        38289 | [None](https://jira.deeproute.ai/browse/None)                           | True     | False    |\n",
       "|        38698 | [None](https://jira.deeproute.ai/browse/None)                           | True     | False    |\n",
       "|        38989 | [PLANNING-6876](https://jira.deeproute.ai/browse/PLANNING-6876)         | True     | False    |\n",
       "|        39085 | [PLANNING-6881](https://jira.deeproute.ai/browse/PLANNING-6881)         | True     | False    |\n",
       "|        39094 | [PLANNING-6884](https://jira.deeproute.ai/browse/PLANNING-6884)         | True     | False    |\n",
       "|        39143 | [PLANNING-6898](https://jira.deeproute.ai/browse/PLANNING-6898)         | True     | False    |\n",
       "|        39308 | [PLANNING-6910](https://jira.deeproute.ai/browse/PLANNING-6910)         | True     | False    |\n",
       "|        39334 | [PLANNING-6924](https://jira.deeproute.ai/browse/PLANNING-6924)         | True     | False    |\n",
       "|        39443 | [None](https://jira.deeproute.ai/browse/None)                           | True     | False    |\n",
       "|        39465 | [None](https://jira.deeproute.ai/browse/None)                           | True     | False    |\n",
       "|        39479 | [None](https://jira.deeproute.ai/browse/None)                           | True     | False    |\n",
       "|        40482 | [PLANNING-7004](https://jira.deeproute.ai/browse/PLANNING-7004)         | True     | False    |\n",
       "|        40635 | [PLANNING-7015](https://jira.deeproute.ai/browse/PLANNING-7015)         | True     | False    |\n",
       "|        41393 | [PLANNING-7191](https://jira.deeproute.ai/browse/PLANNING-7191)         | True     | False    |\n",
       "|        41638 | [PLANNING-7253](https://jira.deeproute.ai/browse/PLANNING-7253)         | True     | False    |\n",
       "|        41668 | [PLANNING-7261](https://jira.deeproute.ai/browse/PLANNING-7261)         | True     | False    |\n",
       "|        41717 | [PLANNING-7280](https://jira.deeproute.ai/browse/PLANNING-7280)         | True     | False    |\n",
       "|        41726 | [PLANNING-7288](https://jira.deeproute.ai/browse/PLANNING-7288)         | True     | False    |\n",
       "|        41849 | [PLANNING-7312](https://jira.deeproute.ai/browse/PLANNING-7312)         | True     | False    |\n",
       "|        41927 | [PLANNING-7356](https://jira.deeproute.ai/browse/PLANNING-7356)         | True     | False    |\n",
       "|        41934 | [PLANNING-7362](https://jira.deeproute.ai/browse/PLANNING-7362)         | True     | False    |\n",
       "|        42244 | [PLANNING-7440](https://jira.deeproute.ai/browse/PLANNING-7440)         | True     | False    |\n",
       "|        42331 | [PLANNING-7467](https://jira.deeproute.ai/browse/PLANNING-7467)         | True     | False    |\n",
       "|        42823 | [PLANNING-8211](https://jira.deeproute.ai/browse/PLANNING-8211)         | True     | False    |\n",
       "|        42836 | [PLANNING-8546](https://jira.deeproute.ai/browse/PLANNING-8546)         | True     | False    |\n",
       "|        42895 | [None](https://jira.deeproute.ai/browse/None)                           | True     | False    |\n",
       "|        42896 | [None](https://jira.deeproute.ai/browse/None)                           | True     | False    |\n",
       "|        42905 | [None](https://jira.deeproute.ai/browse/None)                           | True     | False    |\n",
       "|        42914 | [None](https://jira.deeproute.ai/browse/None)                           | True     | False    |\n",
       "|        42918 | [None](https://jira.deeproute.ai/browse/None)                           | True     | False    |\n",
       "|        42951 | [PLANNING-9043](https://jira.deeproute.ai/browse/PLANNING-9043)         | True     | False    |\n",
       "|        43080 | [PLANNING-9089](https://jira.deeproute.ai/browse/PLANNING-9089)         | True     | False    |\n",
       "|        43135 | [None](https://jira.deeproute.ai/browse/None)                           | True     | False    |\n",
       "|        43220 | [PLANNING-9170](https://jira.deeproute.ai/browse/PLANNING-9170)         | True     | False    |\n",
       "|        43286 | [PLANNING-9210](https://jira.deeproute.ai/browse/PLANNING-9210)         | True     | False    |\n",
       "|        43313 | [PLANNING-9225](https://jira.deeproute.ai/browse/PLANNING-9225)         | True     | False    |\n",
       "|        46934 | [PLANNING-9251](https://jira.deeproute.ai/browse/PLANNING-9251)         | True     | False    |\n",
       "|        46939 | [PLANNING-9262](https://jira.deeproute.ai/browse/PLANNING-9262)         | True     | False    |\n",
       "|        46989 | [PLANNING-9302](https://jira.deeproute.ai/browse/PLANNING-9302)         | True     | False    |\n",
       "|        47121 | [PLANNING-9320](https://jira.deeproute.ai/browse/PLANNING-9320)         | True     | False    |\n",
       "|        47218 | [PLANNING-9363](https://jira.deeproute.ai/browse/PLANNING-9363)         | True     | False    |\n",
       "|        47237 | [PLANNING-9379](https://jira.deeproute.ai/browse/PLANNING-9379)         | True     | False    |\n",
       "|        47249 | [PLANNING-9388](https://jira.deeproute.ai/browse/PLANNING-9388)         | True     | False    |\n",
       "|        47380 | [None](https://jira.deeproute.ai/browse/None)                           | True     | False    |\n",
       "|        47424 | [PLANNING-9493](https://jira.deeproute.ai/browse/PLANNING-9493)         | True     | False    |\n",
       "|        47439 | [PLANNING-9503](https://jira.deeproute.ai/browse/PLANNING-9503)         | True     | False    |\n",
       "|        47496 | [PLANNING-9540](https://jira.deeproute.ai/browse/PLANNING-9540)         | True     | False    |\n",
       "|        47499 | [PLANNING-9527](https://jira.deeproute.ai/browse/PLANNING-9527)         | True     | False    |\n",
       "|        47511 | [PLANNING-9545](https://jira.deeproute.ai/browse/PLANNING-9545)         | True     | False    |\n",
       "|        47649 | [None](https://jira.deeproute.ai/browse/None)                           | True     | False    |\n",
       "|        47651 | [None](https://jira.deeproute.ai/browse/None)                           | True     | False    |\n",
       "|        47694 | [None](https://jira.deeproute.ai/browse/None)                           | True     | False    |\n",
       "|        47702 | [PLANNING-9663](https://jira.deeproute.ai/browse/PLANNING-9663)         | True     | False    |\n",
       "|        47903 | [PLANNING-9816](https://jira.deeproute.ai/browse/PLANNING-9816)         | True     | False    |\n",
       "|        47965 | [None](https://jira.deeproute.ai/browse/None)                           | True     | False    |\n",
       "|        47967 | [None](https://jira.deeproute.ai/browse/None)                           | True     | False    |\n",
       "|        47978 | [PLANNING-9867](https://jira.deeproute.ai/browse/PLANNING-9867)         | True     | False    |\n",
       "|        48016 | [PLANNING-9904](https://jira.deeproute.ai/browse/PLANNING-9904)         | True     | False    |\n",
       "|        48102 | [ZYQK-240](https://jira.deeproute.ai/browse/ZYQK-240)                   | True     | False    |\n",
       "|        48118 | [PLANNING-9980](https://jira.deeproute.ai/browse/PLANNING-9980)         | True     | False    |\n",
       "|        48235 | [PLANNING-10061](https://jira.deeproute.ai/browse/PLANNING-10061)       | True     | False    |\n",
       "|        48399 | [PLANNING-10179](https://jira.deeproute.ai/browse/PLANNING-10179)       | True     | False    |\n",
       "|        48497 | [PLANNING-10273](https://jira.deeproute.ai/browse/PLANNING-10273)       | True     | False    |\n",
       "|        48609 | [PLANNING-10320](https://jira.deeproute.ai/browse/PLANNING-10320)       | True     | False    |\n",
       "|        48925 | [None](https://jira.deeproute.ai/browse/None)                           | True     | False    |\n",
       "|        49088 | [PLANNING-10599](https://jira.deeproute.ai/browse/PLANNING-10599)       | True     | False    |\n",
       "|        49141 | [PLANNING-10639](https://jira.deeproute.ai/browse/PLANNING-10639)       | True     | False    |\n",
       "|        49201 | [PLANNING-10694](https://jira.deeproute.ai/browse/PLANNING-10694)       | True     | False    |\n",
       "|        49252 | [PLANNING-10739](https://jira.deeproute.ai/browse/PLANNING-10739)       | True     | False    |\n",
       "|        49410 | [PLANNING-10806](https://jira.deeproute.ai/browse/PLANNING-10806)       | True     | False    |\n",
       "|        49566 | [PLANNING-10935](https://jira.deeproute.ai/browse/PLANNING-10935)       | True     | False    |\n",
       "|        49583 | [PLANNING-10948](https://jira.deeproute.ai/browse/PLANNING-10948)       | True     | False    |\n",
       "|        49587 | [PLANNING-10952](https://jira.deeproute.ai/browse/PLANNING-10952)       | True     | False    |\n",
       "|        49892 | [PLANNING-11208](https://jira.deeproute.ai/browse/PLANNING-11208)       | True     | False    |\n",
       "|        50022 | [PLANNING-11335](https://jira.deeproute.ai/browse/PLANNING-11335)       | True     | False    |\n",
       "|        50067 | [PLANNING-11376](https://jira.deeproute.ai/browse/PLANNING-11376)       | True     | False    |\n",
       "|        50355 | [PLANNING-11622](https://jira.deeproute.ai/browse/PLANNING-11622)       | True     | False    |\n",
       "|        50376 | [PLANNING-11636](https://jira.deeproute.ai/browse/PLANNING-11636)       | True     | False    |\n",
       "|        50380 | [PLANNING-11640](https://jira.deeproute.ai/browse/PLANNING-11640)       | True     | False    |\n",
       "|        50403 | [PLANNING-11653](https://jira.deeproute.ai/browse/PLANNING-11653)       | True     | False    |\n",
       "|        50482 | [PLANNING-11718](https://jira.deeproute.ai/browse/PLANNING-11718)       | True     | False    |\n",
       "|        50684 | [PLANNING-11867](https://jira.deeproute.ai/browse/PLANNING-11867)       | True     | False    |\n",
       "|        50697 | [PLANNING-11879](https://jira.deeproute.ai/browse/PLANNING-11879)       | True     | False    |\n",
       "|        50710 | [PLANNING-11891](https://jira.deeproute.ai/browse/PLANNING-11891)       | True     | False    |\n",
       "|        50731 | [PLANNING-11900](https://jira.deeproute.ai/browse/PLANNING-11900)       | True     | False    |\n",
       "|        50812 | [PLANNING-11968](https://jira.deeproute.ai/browse/PLANNING-11968)       | True     | False    |\n",
       "|        50960 | [None](https://jira.deeproute.ai/browse/None)                           | True     | False    |\n",
       "|        50961 | [None](https://jira.deeproute.ai/browse/None)                           | True     | False    |\n",
       "|        51101 | [PLANNING-12182](https://jira.deeproute.ai/browse/PLANNING-12182)       | True     | False    |\n",
       "|        51335 | [PLANNING-12300](https://jira.deeproute.ai/browse/PLANNING-12300)       | True     | False    |\n",
       "|        51354 | [PLANNING-12318](https://jira.deeproute.ai/browse/PLANNING-12318)       | True     | False    |\n",
       "|        51661 | [None](https://jira.deeproute.ai/browse/None)                           | True     | False    |\n",
       "|        51671 | [None](https://jira.deeproute.ai/browse/None)                           | True     | False    |\n",
       "|        51678 | [None](https://jira.deeproute.ai/browse/None)                           | True     | False    |\n",
       "|        51682 | [None](https://jira.deeproute.ai/browse/None)                           | True     | False    |\n",
       "|        51684 | [None](https://jira.deeproute.ai/browse/None)                           | True     | False    |\n",
       "|        51689 | [None](https://jira.deeproute.ai/browse/None)                           | True     | False    |\n",
       "|        51693 | [None](https://jira.deeproute.ai/browse/None)                           | True     | False    |\n",
       "|        51696 | [None](https://jira.deeproute.ai/browse/None)                           | True     | False    |\n",
       "|        51708 | [None](https://jira.deeproute.ai/browse/None)                           | True     | False    |\n",
       "|        51722 | [None](https://jira.deeproute.ai/browse/None)                           | True     | False    |\n",
       "|        51728 | [None](https://jira.deeproute.ai/browse/None)                           | True     | False    |\n",
       "|        51729 | [None](https://jira.deeproute.ai/browse/None)                           | True     | False    |\n",
       "|        51753 | [None](https://jira.deeproute.ai/browse/None)                           | True     | False    |\n",
       "|        51760 | [None](https://jira.deeproute.ai/browse/None)                           | True     | False    |\n",
       "|        51765 | [None](https://jira.deeproute.ai/browse/None)                           | True     | False    |\n",
       "|        51766 | [None](https://jira.deeproute.ai/browse/None)                           | True     | False    |\n",
       "|        51774 | [None](https://jira.deeproute.ai/browse/None)                           | True     | False    |\n",
       "|        51775 | [None](https://jira.deeproute.ai/browse/None)                           | True     | False    |\n",
       "|        51776 | [None](https://jira.deeproute.ai/browse/None)                           | True     | False    |\n",
       "|        51780 | [None](https://jira.deeproute.ai/browse/None)                           | True     | False    |\n",
       "|        51781 | [None](https://jira.deeproute.ai/browse/None)                           | True     | False    |\n",
       "|        51785 | [None](https://jira.deeproute.ai/browse/None)                           | True     | False    |\n",
       "|        51786 | [None](https://jira.deeproute.ai/browse/None)                           | True     | False    |\n",
       "|        51793 | [None](https://jira.deeproute.ai/browse/None)                           | True     | False    |\n",
       "|        51796 | [None](https://jira.deeproute.ai/browse/None)                           | True     | False    |\n",
       "|        51797 | [None](https://jira.deeproute.ai/browse/None)                           | True     | False    |\n",
       "|        51798 | [None](https://jira.deeproute.ai/browse/None)                           | True     | False    |\n",
       "|        51799 | [None](https://jira.deeproute.ai/browse/None)                           | True     | False    |\n",
       "|        51807 | [None](https://jira.deeproute.ai/browse/None)                           | True     | False    |\n",
       "|        51812 | [None](https://jira.deeproute.ai/browse/None)                           | True     | False    |\n",
       "|        51815 | [None](https://jira.deeproute.ai/browse/None)                           | True     | False    |\n",
       "|        51818 | [None](https://jira.deeproute.ai/browse/None)                           | True     | False    |\n",
       "|        51822 | [None](https://jira.deeproute.ai/browse/None)                           | True     | False    |\n",
       "|        51828 | [None](https://jira.deeproute.ai/browse/None)                           | True     | False    |\n",
       "|        51833 | [None](https://jira.deeproute.ai/browse/None)                           | True     | False    |\n",
       "|        51837 | [None](https://jira.deeproute.ai/browse/None)                           | True     | False    |\n",
       "|        51843 | [None](https://jira.deeproute.ai/browse/None)                           | True     | False    |\n",
       "|        51848 | [None](https://jira.deeproute.ai/browse/None)                           | True     | False    |\n",
       "|        51857 | [None](https://jira.deeproute.ai/browse/None)                           | True     | False    |\n",
       "|        51950 | [PLANNING-12473](https://jira.deeproute.ai/browse/PLANNING-12473)       | True     | False    |\n",
       "|        52052 | [PLANNING-12557](https://jira.deeproute.ai/browse/PLANNING-12557)       | True     | False    |\n",
       "|        52087 | [None](https://jira.deeproute.ai/browse/None)                           | True     | False    |\n",
       "|        52088 | [None](https://jira.deeproute.ai/browse/None)                           | True     | False    |\n",
       "|        52091 | [None](https://jira.deeproute.ai/browse/None)                           | True     | False    |\n",
       "|        52098 | [None](https://jira.deeproute.ai/browse/None)                           | True     | False    |\n",
       "|        52252 | [None](https://jira.deeproute.ai/browse/None)                           | True     | False    |\n",
       "|        52267 | [None](https://jira.deeproute.ai/browse/None)                           | True     | False    |\n",
       "|        52380 | [None](https://jira.deeproute.ai/browse/None)                           | True     | False    |\n",
       "|        52583 | [PLANNING-12795](https://jira.deeproute.ai/browse/PLANNING-12795)       | True     | False    |\n",
       "|        52685 | [PLANNING-12883](https://jira.deeproute.ai/browse/PLANNING-12883)       | True     | False    |\n",
       "|        52820 | [PLANNING-12969](https://jira.deeproute.ai/browse/PLANNING-12969)       | True     | False    |\n",
       "|        53451 | [None](https://jira.deeproute.ai/browse/None)                           | True     | False    |\n",
       "|         6217 | [PLANNING-2732](https://jira.deeproute.ai/browse/PLANNING-2732)         | True     | False    |\n",
       "|         6222 | [PLANNING-2730](https://jira.deeproute.ai/browse/PLANNING-2730)         | True     | False    |\n",
       "|         6749 | [PLANNING-1174](https://jira.deeproute.ai/browse/PLANNING-1174)         | True     | False    |\n",
       "|         6847 | [PLANNING-2707](https://jira.deeproute.ai/browse/PLANNING-2707)         | True     | False    |\n",
       "|         6973 | [PLANNING-926](https://jira.deeproute.ai/browse/PLANNING-926)           | True     | False    |\n",
       "|         7519 | [PLANNING-2480](https://jira.deeproute.ai/browse/PLANNING-2480)         | True     | False    |\n",
       "|         8384 | [PLANNING-3089](https://jira.deeproute.ai/browse/PLANNING-3089)         | True     | False    |\n",
       "|         8417 | [PLANNING-1647](https://jira.deeproute.ai/browse/PLANNING-1647)         | True     | False    |\n",
       "|         8650 | [PLANNING-2563](https://jira.deeproute.ai/browse/PLANNING-2563)         | True     | False    |\n",
       "|         8654 | [PLANNING-2541](https://jira.deeproute.ai/browse/PLANNING-2541)         | True     | False    |\n",
       "|         8803 | [PLANNING-1357](https://jira.deeproute.ai/browse/PLANNING-1357)         | True     | False    |\n",
       "|         9139 | [PLANNING-1496](https://jira.deeproute.ai/browse/PLANNING-1496)         | True     | False    |\n",
       "|         9286 | [PLANNING-2486](https://jira.deeproute.ai/browse/PLANNING-2486)         | True     | False    |\n",
       "|         9287 | [PLANNING-2483](https://jira.deeproute.ai/browse/PLANNING-2483)         | True     | False    |\n",
       "|         9302 | [PLANNING-2487](https://jira.deeproute.ai/browse/PLANNING-2487)         | True     | False    |\n",
       "|        10320 | [PLANNING-2918](https://jira.deeproute.ai/browse/PLANNING-2918)         | True     | False    |\n",
       "|        10727 | [PLANNING-3518](https://jira.deeproute.ai/browse/PLANNING-3518)         | True     | False    |\n",
       "|        11365 | [PLANNING-2312](https://jira.deeproute.ai/browse/PLANNING-2312)         | True     | False    |\n",
       "|        11515 | [PLANNING-3299](https://jira.deeproute.ai/browse/PLANNING-3299)         | True     | False    |\n",
       "|        16672 | [PLANNING-3938](https://jira.deeproute.ai/browse/PLANNING-3938)         | True     | False    |\n",
       "|        16780 | [PLANNING-625](https://jira.deeproute.ai/browse/PLANNING-625)           | True     | False    |\n",
       "|        17064 | [PLANNING-1757](https://jira.deeproute.ai/browse/PLANNING-1757)         | True     | False    |\n",
       "|        20935 | [PLANNING-4566](https://jira.deeproute.ai/browse/PLANNING-4566)         | True     | False    |\n",
       "|        28141 | [PLANNING-5649](https://jira.deeproute.ai/browse/PLANNING-5649)         | True     | False    |\n",
       "|        29893 | [PLANNING-5838](https://jira.deeproute.ai/browse/PLANNING-5838)         | True     | False    |\n",
       "|        30357 | [PLANNING-5858](https://jira.deeproute.ai/browse/PLANNING-5858)         | True     | False    |\n",
       "|        31851 | [PLANNING-6086](https://jira.deeproute.ai/browse/PLANNING-6086)         | True     | False    |\n",
       "|        38667 | [PLANNING-6849](https://jira.deeproute.ai/browse/PLANNING-6849)         | True     | False    |\n",
       "|        40358 | [PLANNING-6994](https://jira.deeproute.ai/browse/PLANNING-6994)         | True     | False    |\n",
       "|        40509 | [PLANNING-7010](https://jira.deeproute.ai/browse/PLANNING-7010)         | True     | False    |\n",
       "|        40702 | [PLANNING-7071](https://jira.deeproute.ai/browse/PLANNING-7071)         | True     | False    |\n",
       "|        41720 | [PLANNING-7282](https://jira.deeproute.ai/browse/PLANNING-7282)         | True     | False    |\n",
       "|        43089 | [PLANNING-9099](https://jira.deeproute.ai/browse/PLANNING-9099)         | True     | False    |\n",
       "|        43225 | [PLANNING-9175](https://jira.deeproute.ai/browse/PLANNING-9175)         | True     | False    |\n",
       "|        46985 | [PLANNING-9298](https://jira.deeproute.ai/browse/PLANNING-9298)         | True     | False    |\n",
       "|        47222 | [PLANNING-9366](https://jira.deeproute.ai/browse/PLANNING-9366)         | True     | False    |\n",
       "|        47346 | [PLANNING-9450](https://jira.deeproute.ai/browse/PLANNING-9450)         | True     | False    |\n",
       "|        47513 | [PLANNING-9546](https://jira.deeproute.ai/browse/PLANNING-9546)         | True     | False    |\n",
       "|        47578 | [ZYQK-219](https://jira.deeproute.ai/browse/ZYQK-219)                   | True     | False    |\n",
       "|        48064 | [PLANNING-9937](https://jira.deeproute.ai/browse/PLANNING-9937)         | True     | False    |\n",
       "|        48226 | [PLANNING-10058](https://jira.deeproute.ai/browse/PLANNING-10058)       | True     | False    |\n",
       "|        48486 | [PLANNING-10264](https://jira.deeproute.ai/browse/PLANNING-10264)       | True     | False    |\n",
       "|        49292 | [PLANNING-10777](https://jira.deeproute.ai/browse/PLANNING-10777)       | True     | False    |\n",
       "|        50060 | [PLANNING-11370](https://jira.deeproute.ai/browse/PLANNING-11370)       | True     | False    |\n",
       "|        50286 | [PLANNING-11279](https://jira.deeproute.ai/browse/PLANNING-11279)       | True     | False    |\n",
       "|        50680 | [PLANNING-11863](https://jira.deeproute.ai/browse/PLANNING-11863)       | True     | False    |\n",
       "|        50698 | [PLANNING-11880](https://jira.deeproute.ai/browse/PLANNING-11880)       | True     | False    |\n",
       "|        50809 | [PLANNING-11965](https://jira.deeproute.ai/browse/PLANNING-11965)       | True     | False    |\n",
       "|        50998 | [PLANNING-12107](https://jira.deeproute.ai/browse/PLANNING-12107)       | True     | False    |\n",
       "|        52007 | [None](https://jira.deeproute.ai/browse/None)                           | True     | False    |\n",
       "|        52112 | [None](https://jira.deeproute.ai/browse/None)                           | True     | False    |\n",
       "|        52270 | [PLANNING-12633](https://jira.deeproute.ai/browse/PLANNING-12633)       | True     | False    |\n",
       "|        52326 | [None](https://jira.deeproute.ai/browse/None)                           | True     | False    |\n",
       "|        53306 | [PLANNING-13000](https://jira.deeproute.ai/browse/PLANNING-13000)       | True     | False    |"
      ],
      "text/plain": [
       "<IPython.core.display.Markdown object>"
      ]
     },
     "metadata": {},
     "output_type": "display_data"
    }
   ],
   "source": [
    "data = pd.read_excel(\"intersected_df.xlsx\")\n",
    "data = data.loc[(data['0.62.1']== True) & (data['0.63.3']== False)] #\n",
    "data = data[['scenarioId', 'jiraId', '0.62.1', '0.63.3']]\n",
    "link_func = lambda ot: '[%s](https://jira.deeproute.ai/browse/%s)'%(ot,ot)\n",
    "data['jiraId'] = data['jiraId'].apply(link_func)\n",
    "display(Markdown(data.to_markdown(index=False)))"
   ]
  },
  {
   "cell_type": "markdown",
   "metadata": {},
   "source": [
    "### 4.2 新增case"
   ]
  },
  {
   "cell_type": "code",
   "execution_count": 7,
   "metadata": {},
   "outputs": [
    {
     "data": {
      "text/markdown": [
       "| jiraId                                                            | summary                                                                                                 | 问题类别描述                                                    |\n",
       "|:------------------------------------------------------------------|:--------------------------------------------------------------------------------------------------------|:----------------------------------------------------------------|\n",
       "| [PLANNING-13731](https://jira.deeproute.ai/browse/PLANNING-13731) | planning-prediction-dev=0.63.3;前方马上左拐，堵车过程中，多余变道                                       | 通行效率 -  不必要换道（UNNECESSARY_LANE_CHANGE）               |\n",
       "| [PLANNING-13824](https://jira.deeproute.ai/browse/PLANNING-13824) | planning-prediction-dev=0.63.3;测试车辆没有压线绕障                                                     | 通行效率 - 通行效率过低（ LOW_TRAFFIC_EFFICIENCY）              |\n",
       "| [PLANNING-13768](https://jira.deeproute.ai/browse/PLANNING-13768) | planning-prediction-dev=0.63.3;红绿灯路口，实线变道                                                     | 交规 - 压实线/双黄线/半实半虚线行驶（ DRIVING_OVER_SOLID_LINE） |\n",
       "| [PLANNING-13816](https://jira.deeproute.ai/browse/PLANNING-13816) | planning-prediction-dev=0.63.3;不必要变道规划，路口左转时规划变道，增加风险                             | 安全                                                            |\n",
       "| [PLANNING-13780](https://jira.deeproute.ai/browse/PLANNING-13780) | planning-prediction-dev=0.63.3;测试车辆一直压着边线行驶                                                 | 交规 - 不按规定路线行驶（OFF_ROUTING）                          |\n",
       "| [PLANNING-13822](https://jira.deeproute.ai/browse/PLANNING-13822) | planning-prediction-dev=0.63.3;测试车辆不必要变道                                                       | 通行效率 -  不必要换道（UNNECESSARY_LANE_CHANGE）               |\n",
       "| [PLANNING-13813](https://jira.deeproute.ai/browse/PLANNING-13813) | planning-prediction-dev=0.63.3;直行时出现不明停止线（emergency stop）                                   | 通行效率                                                        |\n",
       "| [PLANNING-13767](https://jira.deeproute.ai/browse/PLANNING-13767) | planning-prediction-dev=0.63.3;不合理停止线（emergency stop）                                           | 通行效率 - 不合理的停车（UNREASONABLE_STOP）                    |\n",
       "| [PLANNING-13820](https://jira.deeproute.ai/browse/PLANNING-13820) | planning-prediction-dev=0.63.3;不必要变道规划，应该可以绕行通过                                         | 未分类问题（ISSUE_UNCLASSIFIED）                                |\n",
       "| [PLANNING-13819](https://jira.deeproute.ai/browse/PLANNING-13819) | planning-prediction-dev=0.63.3;反复规划、取消变道，path甩动                                             | 体感                                                            |\n",
       "| [PLANNING-13812](https://jira.deeproute.ai/browse/PLANNING-13812) | planning-prediction-dev=0.63.3;不必要绕行规划                                                           | 通行效率                                                        |\n",
       "| [PLANNING-13778](https://jira.deeproute.ai/browse/PLANNING-13778) | planning-prediction-dev=0.63.3;测试车辆在变道过程中带着刹车                                             | 体感 - 点刹（  SLIGHT_BRAKE）                                   |\n",
       "| [PLANNING-13777](https://jira.deeproute.ai/browse/PLANNING-13777) | planning-prediction-dev=0.63.3;不必要点刹                                                               | 体感 - 点刹（  SLIGHT_BRAKE）                                   |\n",
       "| [PLANNING-13773](https://jira.deeproute.ai/browse/PLANNING-13773) | planning-prediction-dev=0.63.3;测试车辆不必要一直刹车礼让后车                                           | 体感 - 点刹（  SLIGHT_BRAKE）                                   |\n",
       "| [PLANNING-13717](https://jira.deeproute.ai/browse/PLANNING-13717) | planning-prediction-dev=0.63.3;终点停车不规范，没有靠边停车                                             | 交规                                                            |\n",
       "| [PLANNING-13765](https://jira.deeproute.ai/browse/PLANNING-13765) | planning-prediction-dev=0.63.3;测试车辆没有靠边停车                                                     | 流程                                                            |\n",
       "| [PLANNING-13730](https://jira.deeproute.ai/browse/PLANNING-13730) | planning-prediction-dev=0.63.3;向左变道幅度过大，车身摇晃                                               | 体感 -  横向转向过大（ EXCESSIVE_LATERAL_STEER）                |\n",
       "| [PLANNING-13779](https://jira.deeproute.ai/browse/PLANNING-13779) | planning-prediction-dev=0.63.3;测试车辆偏离path线                                                       | 未分类问题（ISSUE_UNCLASSIFIED）                                |\n",
       "| [PLANNING-13818](https://jira.deeproute.ai/browse/PLANNING-13818) | planning-prediction-dev=0.63.3;不必要急刹，通行效率低                                                   | 安全                                                            |\n",
       "| [PLANNING-13821](https://jira.deeproute.ai/browse/PLANNING-13821) | planning-prediction-dev=0.63.3;直行时不明减速至停车                                                     | 未分类问题（ISSUE_UNCLASSIFIED）                                |\n",
       "| [PLANNING-13764](https://jira.deeproute.ai/browse/PLANNING-13764) | planning-prediction-dev=0.63.3;测试车辆出现不明点刹                                                     | 体感 - 点刹（  SLIGHT_BRAKE）                                   |\n",
       "| [PLANNING-13769](https://jira.deeproute.ai/browse/PLANNING-13769) | planning-prediction-dev=0.63.3;测试车辆变道，转向太大                                                   | 体感 -  横向转向过大（ EXCESSIVE_LATERAL_STEER）                |\n",
       "| [PLANNING-13889](https://jira.deeproute.ai/browse/PLANNING-13889) | planning-prediction-dev=0.63.3;前方有洒水车，车辆左右来回变道幅度频率较大                               | 安全 - 车辆摇晃 （WOBBLE）                                      |\n",
       "| [PLANNING-13811](https://jira.deeproute.ai/browse/PLANNING-13811) | planning-prediction-dev=0.63.3;前方需要右转，一直走直行车道随后出停止线                                 | 未分类问题（ISSUE_UNCLASSIFIED）                                |\n",
       "| [PLANNING-13828](https://jira.deeproute.ai/browse/PLANNING-13828) | planning-prediction-dev=0.63.3;直行通过红绿灯路口时，莫名点刹                                           | 体感 - 点刹（  SLIGHT_BRAKE）                                   |\n",
       "| [PLANNING-13833](https://jira.deeproute.ai/browse/PLANNING-13833) | planning-prediction-dev=0.63.3;来回变道，体感差                                                         | 通行效率 - 通行效率过低（ LOW_TRAFFIC_EFFICIENCY）              |\n",
       "| [PLANNING-13834](https://jira.deeproute.ai/browse/PLANNING-13834) | planning-prediction-dev=0.63.3;绕行效率慢，应该提前变道                                                 | 通行效率 - 通行效率过低（ LOW_TRAFFIC_EFFICIENCY）              |\n",
       "| [PLANNING-13886](https://jira.deeproute.ai/browse/PLANNING-13886) | planning-prediction-dev=0.63.3;前方有违停车辆，车辆压双黄实线绕行通过。                                 | 交规 - 压实线/双黄线/半实半虚线行驶（ DRIVING_OVER_SOLID_LINE） |\n",
       "| [PLANNING-13947](https://jira.deeproute.ai/browse/PLANNING-13947) | planning-prediction-dev=0.63.3;掉头效率太慢                                                             | 通行效率 - 通行效率过低（ LOW_TRAFFIC_EFFICIENCY）              |\n",
       "| [PLANNING-13829](https://jira.deeproute.ai/browse/PLANNING-13829) | planning-prediction-dev=0.63.3;掉头效率低出现停止线，接管                                               | 通行效率 - 通行效率过低（ LOW_TRAFFIC_EFFICIENCY）              |\n",
       "| [PLANNING-13968](https://jira.deeproute.ai/browse/PLANNING-13968) | planning-prediction-dev=0.63.3;变道不看后方来车。                                                       | 安全 - 危险变道（DANGEROUS_LANE_CHANGE）                        |\n",
       "| [PLANNING-13831](https://jira.deeproute.ai/browse/PLANNING-13831) | planning-prediction-dev=0.63.3;与行人交互时无避让，prediction线也有异常                                 | 安全 -  太靠近行人（TOO_CLOSE_TO_PEDESTRIAN）                   |\n",
       "| [PLANNING-14092](https://jira.deeproute.ai/browse/PLANNING-14092) | planning-prediction-rasmap-dev=0.63.3;右转时出停止线不走                                                | 未分类问题（ISSUE_UNCLASSIFIED）                                |\n",
       "| [PLANNING-14091](https://jira.deeproute.ai/browse/PLANNING-14091) | planning-prediction-rasmap-dev=0.63.3; 车辆path往马路牙上规划，走到了人行道上                           | 未分类问题（ISSUE_UNCLASSIFIED）                                |\n",
       "| [PLANNING-13830](https://jira.deeproute.ai/browse/PLANNING-13830) | planning-prediction-dev=0.63.3;对象车道有车行驶时，车辆强行抢道绕行                                     | 安全 - 太靠近他车（TOO_CLOSE_TO_VEHICLE）                       |\n",
       "| [PLANNING-13827](https://jira.deeproute.ai/browse/PLANNING-13827) | planning-prediction-dev=0.63.3;不必要变道，想压实线变道                                                 | 通行效率 -  不必要换道（UNNECESSARY_LANE_CHANGE）               |\n",
       "| [PLANNING-14095](https://jira.deeproute.ai/browse/PLANNING-14095) | planning-prediction-rasmap-dev=0.63.3;红绿灯path往右侧实线欲变道                                        | 交规 - 压实线/双黄线/半实半虚线行驶（ DRIVING_OVER_SOLID_LINE） |\n",
       "| [PLANNING-14096](https://jira.deeproute.ai/browse/PLANNING-14096) | planning-prediction-rasmap-dev=0.63.3;红绿灯路口直行绿灯时车辆出停止线不走                              | 未分类问题（ISSUE_UNCLASSIFIED）                                |\n",
       "| [PLANNING-13967](https://jira.deeproute.ai/browse/PLANNING-13967) | planning-prediction-dev=0.63.3;右侧突然窜出车辆。手动横向接管。                                         | 安全 - 太靠近他车（TOO_CLOSE_TO_VEHICLE）                       |\n",
       "| [PLANNING-14093](https://jira.deeproute.ai/browse/PLANNING-14093) | planning-prediction-rasmap-dev=0.63.3;path往马路牙子上规划走                                            | 未分类问题（ISSUE_UNCLASSIFIED）                                |\n",
       "| [PLANNING-14094](https://jira.deeproute.ai/browse/PLANNING-14094) | planning-prediction-rasmap-dev=0.63.3;path往马路牙子上行驶，紧接着红绿灯路口左转绿灯时出停止线不走      | 未分类问题（ISSUE_UNCLASSIFIED）                                |\n",
       "| [PLANNING-13823](https://jira.deeproute.ai/browse/PLANNING-13823) | planning-prediction-dev=0.63.3；测试车辆在变道过程中减速过多                                            | 通行效率 - 通行效率过低（ LOW_TRAFFIC_EFFICIENCY）              |\n",
       "| [PLANNING-13775](https://jira.deeproute.ai/browse/PLANNING-13775) | planning-prediction-dev=0.63.3;高速误检，不必要点刹                                                     | 体感 - 点刹（  SLIGHT_BRAKE）                                   |\n",
       "| [PLANNING-13776](https://jira.deeproute.ai/browse/PLANNING-13776) | planning-prediction-dev=0.63.3;高速变道时，测试车辆偏离path线                                           | 未分类问题（ISSUE_UNCLASSIFIED）                                |\n",
       "| [PLANNING-13949](https://jira.deeproute.ai/browse/PLANNING-13949) | planning-prediction-dev=0.63.3;遇障碍压实线变道                                                         | 交规 - 压实线/双黄线/半实半虚线行驶（ DRIVING_OVER_SOLID_LINE） |\n",
       "| [PLANNING-13887](https://jira.deeproute.ai/browse/PLANNING-13887) | planning-prediction-dev=0.63.3;车辆遇 左侧公交车变道斜插车头前，未减速避让                              | 安全 - 太靠近他车（TOO_CLOSE_TO_VEHICLE）                       |\n",
       "| [PLANNING-13888](https://jira.deeproute.ai/browse/PLANNING-13888) | planning-prediction-dev=0.63.3;车辆直行通过路口时选择最右侧违停车辆较多的车道，然后再变道，降低通行效率 | 通行效率 -  不必要换道（UNNECESSARY_LANE_CHANGE）               |\n",
       "| [PLANNING-13885](https://jira.deeproute.ai/browse/PLANNING-13885) | planning-prediction-dev=0.63.3;车辆方向盘左右摇晃次数频繁                                               | 安全 - 车辆摇晃 （WOBBLE）                                      |\n",
       "| [PLANNING-13890](https://jira.deeproute.ai/browse/PLANNING-13890) | planning-prediction-dev=0.63.3;车辆压实线行驶                                                           | 交规 - 压实线/双黄线/半实半虚线行驶（ DRIVING_OVER_SOLID_LINE） |\n",
       "| [PLANNING-13814](https://jira.deeproute.ai/browse/PLANNING-13814) | planning-prediction-dev=0.63.3;路口直行时，有对向车道社会车辆左转，未减速避让                           | 安全 - 太靠近他车（TOO_CLOSE_TO_VEHICLE）                       |\n",
       "| [PLANNING-13718](https://jira.deeproute.ai/browse/PLANNING-13718) | planning-prediction-dev=0.63.3;路口左转时通行效率过低，只有4km/h的速度                                  | 通行效率 - 通行效率过低（ LOW_TRAFFIC_EFFICIENCY）              |"
      ],
      "text/plain": [
       "<IPython.core.display.Markdown object>"
      ]
     },
     "metadata": {},
     "output_type": "display_data"
    }
   ],
   "source": [
    "display(Markdown(ana.part_3c().to_markdown(index=False)))"
   ]
  }
 ],
 "metadata": {
  "interpreter": {
   "hash": "7b004cb377420e648f6d53743a6d6f5ef9f7ce4da96d13ce7165192009dcb12d"
  },
  "kernelspec": {
   "display_name": "Python 3.9.7 ('base')",
   "language": "python",
   "name": "python3"
  },
  "language_info": {
   "codemirror_mode": {
    "name": "ipython",
    "version": 3
   },
   "file_extension": ".py",
   "mimetype": "text/x-python",
   "name": "python",
   "nbconvert_exporter": "python",
   "pygments_lexer": "ipython3",
   "version": "3.9.7"
  },
  "orig_nbformat": 4
 },
 "nbformat": 4,
 "nbformat_minor": 2
}
