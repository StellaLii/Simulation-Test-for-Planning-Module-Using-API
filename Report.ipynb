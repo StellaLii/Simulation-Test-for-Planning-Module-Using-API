{
 "cells": [
  {
   "cell_type": "markdown",
   "metadata": {},
   "source": [
    "## Planning-prediction-Dev=0.63.6 仿真报告\n",
    "0.63.3  \n",
    "http://argo-prod.aliyun.simulation.deeproute.net/workflows/simulation-platform-prod/planning-cicd-single-frame-test-2-2-0-4hwdl  \n",
    "http://argo-prod.aliyun.simulation.deeproute.net/workflows/simulation-platform-prod/planning-cicd-single-frame-test-2-2-0-vzr7v  \n",
    "0.63.6  \n",
    "http://argo-prod.aliyun.simulation.deeproute.net/workflows/simulation-platform-prod/planning-cicd-single-frame-test-2-2-0-krxwq  \n",
    "http://argo-prod.aliyun.simulation.deeproute.net/workflows/simulation-platform-prod/planning-cicd-single-frame-test-2-2-0-tbr6v"
   ]
  },
  {
   "cell_type": "markdown",
   "metadata": {},
   "source": [
    "#### 0.63.6主要改动：\n",
    "1. end of path前如果条件允许，可以压实线变道，主要看一看会不会在不合适的时候压实线\n",
    "2. 修复了pull over时候减速过多行为不正常的问题\n",
    "3. 优化了运行效率"
   ]
  },
  {
   "cell_type": "code",
   "execution_count": 1,
   "metadata": {},
   "outputs": [],
   "source": [
    "import os\n",
    "import sys\n",
    "sys.path.append(os.path.realpath('.'))\n",
    "sys.path.append(os.path.realpath('..'))\n"
   ]
  },
  {
   "cell_type": "code",
   "execution_count": 2,
   "metadata": {},
   "outputs": [],
   "source": [
    "from analysis import analysis\n",
    "import pandas as pd\n",
    "import markdown\n",
    "import datetime\n",
    "from IPython.display import display, HTML, Markdown\n",
    "import plotly.express as px\n",
    "from jupyter_dash import JupyterDash\n",
    "# from dash import dcc\n",
    "# import dash_core_components as dcc\n",
    "from dash import html\n",
    "from dash.dependencies import Input, Output\n",
    "import plotly.graph_objects as go\n",
    "ana = analysis()"
   ]
  },
  {
   "cell_type": "markdown",
   "metadata": {},
   "source": [
    "## Part1 整体表现对比\n",
    "对比新版本 0.63.6 和上一个版本 0.63.3的整体表现"
   ]
  },
  {
   "cell_type": "code",
   "execution_count": 3,
   "metadata": {},
   "outputs": [
    {
     "data": {
      "text/html": [
       "<table border=\"1\" class=\"dataframe\">\n",
       "  <thead>\n",
       "    <tr style=\"text-align: right;\">\n",
       "      <th>scenarioResults</th>\n",
       "      <th>Count</th>\n",
       "      <th>Percent(%)</th>\n",
       "      <th>Version</th>\n",
       "      <th>Count</th>\n",
       "      <th>Percent(%)</th>\n",
       "      <th>Version</th>\n",
       "    </tr>\n",
       "  </thead>\n",
       "  <tbody>\n",
       "    <tr>\n",
       "      <td>False</td>\n",
       "      <td>1558</td>\n",
       "      <td>51.57</td>\n",
       "      <td>0.63.3</td>\n",
       "      <td>1402</td>\n",
       "      <td>46.38</td>\n",
       "      <td>0.63.6</td>\n",
       "    </tr>\n",
       "    <tr>\n",
       "      <td>True</td>\n",
       "      <td>1463</td>\n",
       "      <td>48.43</td>\n",
       "      <td>0.63.3</td>\n",
       "      <td>1621</td>\n",
       "      <td>53.62</td>\n",
       "      <td>0.63.6</td>\n",
       "    </tr>\n",
       "  </tbody>\n",
       "</table>"
      ],
      "text/plain": [
       "<IPython.core.display.HTML object>"
      ]
     },
     "metadata": {},
     "output_type": "display_data"
    }
   ],
   "source": [
    "display(HTML(ana.part_1a().to_html(index=False)))"
   ]
  },
  {
   "cell_type": "code",
   "execution_count": 4,
   "metadata": {},
   "outputs": [
    {
     "data": {
      "application/vnd.plotly.v1+json": {
       "config": {
        "plotlyServerURL": "https://plot.ly"
       },
       "data": [
        {
         "alignmentgroup": "True",
         "hovertemplate": "scenarioResults=False<br>Version=%{x}<br>Percent(%)=%{y}<extra></extra>",
         "legendgroup": "False",
         "marker": {
          "color": "#EF553B",
          "pattern": {
           "shape": ""
          }
         },
         "name": "False",
         "offsetgroup": "False",
         "orientation": "v",
         "showlegend": true,
         "textposition": "auto",
         "texttemplate": "%{y}",
         "type": "bar",
         "x": [
          "0.63.3",
          "0.63.6"
         ],
         "xaxis": "x",
         "y": [
          51.57,
          46.38
         ],
         "yaxis": "y"
        },
        {
         "alignmentgroup": "True",
         "hovertemplate": "scenarioResults=True<br>Version=%{x}<br>Percent(%)=%{y}<extra></extra>",
         "legendgroup": "True",
         "marker": {
          "color": "#00cc96",
          "pattern": {
           "shape": ""
          }
         },
         "name": "True",
         "offsetgroup": "True",
         "orientation": "v",
         "showlegend": true,
         "textposition": "auto",
         "texttemplate": "%{y}",
         "type": "bar",
         "x": [
          "0.63.3",
          "0.63.6"
         ],
         "xaxis": "x",
         "y": [
          48.43,
          53.62
         ],
         "yaxis": "y"
        }
       ],
       "layout": {
        "barmode": "relative",
        "legend": {
         "title": {
          "text": "scenarioResults"
         },
         "tracegroupgap": 0
        },
        "margin": {
         "t": 60
        },
        "template": {
         "data": {
          "bar": [
           {
            "error_x": {
             "color": "#2a3f5f"
            },
            "error_y": {
             "color": "#2a3f5f"
            },
            "marker": {
             "line": {
              "color": "#E5ECF6",
              "width": 0.5
             },
             "pattern": {
              "fillmode": "overlay",
              "size": 10,
              "solidity": 0.2
             }
            },
            "type": "bar"
           }
          ],
          "barpolar": [
           {
            "marker": {
             "line": {
              "color": "#E5ECF6",
              "width": 0.5
             },
             "pattern": {
              "fillmode": "overlay",
              "size": 10,
              "solidity": 0.2
             }
            },
            "type": "barpolar"
           }
          ],
          "carpet": [
           {
            "aaxis": {
             "endlinecolor": "#2a3f5f",
             "gridcolor": "white",
             "linecolor": "white",
             "minorgridcolor": "white",
             "startlinecolor": "#2a3f5f"
            },
            "baxis": {
             "endlinecolor": "#2a3f5f",
             "gridcolor": "white",
             "linecolor": "white",
             "minorgridcolor": "white",
             "startlinecolor": "#2a3f5f"
            },
            "type": "carpet"
           }
          ],
          "choropleth": [
           {
            "colorbar": {
             "outlinewidth": 0,
             "ticks": ""
            },
            "type": "choropleth"
           }
          ],
          "contour": [
           {
            "colorbar": {
             "outlinewidth": 0,
             "ticks": ""
            },
            "colorscale": [
             [
              0,
              "#0d0887"
             ],
             [
              0.1111111111111111,
              "#46039f"
             ],
             [
              0.2222222222222222,
              "#7201a8"
             ],
             [
              0.3333333333333333,
              "#9c179e"
             ],
             [
              0.4444444444444444,
              "#bd3786"
             ],
             [
              0.5555555555555556,
              "#d8576b"
             ],
             [
              0.6666666666666666,
              "#ed7953"
             ],
             [
              0.7777777777777778,
              "#fb9f3a"
             ],
             [
              0.8888888888888888,
              "#fdca26"
             ],
             [
              1,
              "#f0f921"
             ]
            ],
            "type": "contour"
           }
          ],
          "contourcarpet": [
           {
            "colorbar": {
             "outlinewidth": 0,
             "ticks": ""
            },
            "type": "contourcarpet"
           }
          ],
          "heatmap": [
           {
            "colorbar": {
             "outlinewidth": 0,
             "ticks": ""
            },
            "colorscale": [
             [
              0,
              "#0d0887"
             ],
             [
              0.1111111111111111,
              "#46039f"
             ],
             [
              0.2222222222222222,
              "#7201a8"
             ],
             [
              0.3333333333333333,
              "#9c179e"
             ],
             [
              0.4444444444444444,
              "#bd3786"
             ],
             [
              0.5555555555555556,
              "#d8576b"
             ],
             [
              0.6666666666666666,
              "#ed7953"
             ],
             [
              0.7777777777777778,
              "#fb9f3a"
             ],
             [
              0.8888888888888888,
              "#fdca26"
             ],
             [
              1,
              "#f0f921"
             ]
            ],
            "type": "heatmap"
           }
          ],
          "heatmapgl": [
           {
            "colorbar": {
             "outlinewidth": 0,
             "ticks": ""
            },
            "colorscale": [
             [
              0,
              "#0d0887"
             ],
             [
              0.1111111111111111,
              "#46039f"
             ],
             [
              0.2222222222222222,
              "#7201a8"
             ],
             [
              0.3333333333333333,
              "#9c179e"
             ],
             [
              0.4444444444444444,
              "#bd3786"
             ],
             [
              0.5555555555555556,
              "#d8576b"
             ],
             [
              0.6666666666666666,
              "#ed7953"
             ],
             [
              0.7777777777777778,
              "#fb9f3a"
             ],
             [
              0.8888888888888888,
              "#fdca26"
             ],
             [
              1,
              "#f0f921"
             ]
            ],
            "type": "heatmapgl"
           }
          ],
          "histogram": [
           {
            "marker": {
             "pattern": {
              "fillmode": "overlay",
              "size": 10,
              "solidity": 0.2
             }
            },
            "type": "histogram"
           }
          ],
          "histogram2d": [
           {
            "colorbar": {
             "outlinewidth": 0,
             "ticks": ""
            },
            "colorscale": [
             [
              0,
              "#0d0887"
             ],
             [
              0.1111111111111111,
              "#46039f"
             ],
             [
              0.2222222222222222,
              "#7201a8"
             ],
             [
              0.3333333333333333,
              "#9c179e"
             ],
             [
              0.4444444444444444,
              "#bd3786"
             ],
             [
              0.5555555555555556,
              "#d8576b"
             ],
             [
              0.6666666666666666,
              "#ed7953"
             ],
             [
              0.7777777777777778,
              "#fb9f3a"
             ],
             [
              0.8888888888888888,
              "#fdca26"
             ],
             [
              1,
              "#f0f921"
             ]
            ],
            "type": "histogram2d"
           }
          ],
          "histogram2dcontour": [
           {
            "colorbar": {
             "outlinewidth": 0,
             "ticks": ""
            },
            "colorscale": [
             [
              0,
              "#0d0887"
             ],
             [
              0.1111111111111111,
              "#46039f"
             ],
             [
              0.2222222222222222,
              "#7201a8"
             ],
             [
              0.3333333333333333,
              "#9c179e"
             ],
             [
              0.4444444444444444,
              "#bd3786"
             ],
             [
              0.5555555555555556,
              "#d8576b"
             ],
             [
              0.6666666666666666,
              "#ed7953"
             ],
             [
              0.7777777777777778,
              "#fb9f3a"
             ],
             [
              0.8888888888888888,
              "#fdca26"
             ],
             [
              1,
              "#f0f921"
             ]
            ],
            "type": "histogram2dcontour"
           }
          ],
          "mesh3d": [
           {
            "colorbar": {
             "outlinewidth": 0,
             "ticks": ""
            },
            "type": "mesh3d"
           }
          ],
          "parcoords": [
           {
            "line": {
             "colorbar": {
              "outlinewidth": 0,
              "ticks": ""
             }
            },
            "type": "parcoords"
           }
          ],
          "pie": [
           {
            "automargin": true,
            "type": "pie"
           }
          ],
          "scatter": [
           {
            "fillpattern": {
             "fillmode": "overlay",
             "size": 10,
             "solidity": 0.2
            },
            "type": "scatter"
           }
          ],
          "scatter3d": [
           {
            "line": {
             "colorbar": {
              "outlinewidth": 0,
              "ticks": ""
             }
            },
            "marker": {
             "colorbar": {
              "outlinewidth": 0,
              "ticks": ""
             }
            },
            "type": "scatter3d"
           }
          ],
          "scattercarpet": [
           {
            "marker": {
             "colorbar": {
              "outlinewidth": 0,
              "ticks": ""
             }
            },
            "type": "scattercarpet"
           }
          ],
          "scattergeo": [
           {
            "marker": {
             "colorbar": {
              "outlinewidth": 0,
              "ticks": ""
             }
            },
            "type": "scattergeo"
           }
          ],
          "scattergl": [
           {
            "marker": {
             "colorbar": {
              "outlinewidth": 0,
              "ticks": ""
             }
            },
            "type": "scattergl"
           }
          ],
          "scattermapbox": [
           {
            "marker": {
             "colorbar": {
              "outlinewidth": 0,
              "ticks": ""
             }
            },
            "type": "scattermapbox"
           }
          ],
          "scatterpolar": [
           {
            "marker": {
             "colorbar": {
              "outlinewidth": 0,
              "ticks": ""
             }
            },
            "type": "scatterpolar"
           }
          ],
          "scatterpolargl": [
           {
            "marker": {
             "colorbar": {
              "outlinewidth": 0,
              "ticks": ""
             }
            },
            "type": "scatterpolargl"
           }
          ],
          "scatterternary": [
           {
            "marker": {
             "colorbar": {
              "outlinewidth": 0,
              "ticks": ""
             }
            },
            "type": "scatterternary"
           }
          ],
          "surface": [
           {
            "colorbar": {
             "outlinewidth": 0,
             "ticks": ""
            },
            "colorscale": [
             [
              0,
              "#0d0887"
             ],
             [
              0.1111111111111111,
              "#46039f"
             ],
             [
              0.2222222222222222,
              "#7201a8"
             ],
             [
              0.3333333333333333,
              "#9c179e"
             ],
             [
              0.4444444444444444,
              "#bd3786"
             ],
             [
              0.5555555555555556,
              "#d8576b"
             ],
             [
              0.6666666666666666,
              "#ed7953"
             ],
             [
              0.7777777777777778,
              "#fb9f3a"
             ],
             [
              0.8888888888888888,
              "#fdca26"
             ],
             [
              1,
              "#f0f921"
             ]
            ],
            "type": "surface"
           }
          ],
          "table": [
           {
            "cells": {
             "fill": {
              "color": "#EBF0F8"
             },
             "line": {
              "color": "white"
             }
            },
            "header": {
             "fill": {
              "color": "#C8D4E3"
             },
             "line": {
              "color": "white"
             }
            },
            "type": "table"
           }
          ]
         },
         "layout": {
          "annotationdefaults": {
           "arrowcolor": "#2a3f5f",
           "arrowhead": 0,
           "arrowwidth": 1
          },
          "autotypenumbers": "strict",
          "coloraxis": {
           "colorbar": {
            "outlinewidth": 0,
            "ticks": ""
           }
          },
          "colorscale": {
           "diverging": [
            [
             0,
             "#8e0152"
            ],
            [
             0.1,
             "#c51b7d"
            ],
            [
             0.2,
             "#de77ae"
            ],
            [
             0.3,
             "#f1b6da"
            ],
            [
             0.4,
             "#fde0ef"
            ],
            [
             0.5,
             "#f7f7f7"
            ],
            [
             0.6,
             "#e6f5d0"
            ],
            [
             0.7,
             "#b8e186"
            ],
            [
             0.8,
             "#7fbc41"
            ],
            [
             0.9,
             "#4d9221"
            ],
            [
             1,
             "#276419"
            ]
           ],
           "sequential": [
            [
             0,
             "#0d0887"
            ],
            [
             0.1111111111111111,
             "#46039f"
            ],
            [
             0.2222222222222222,
             "#7201a8"
            ],
            [
             0.3333333333333333,
             "#9c179e"
            ],
            [
             0.4444444444444444,
             "#bd3786"
            ],
            [
             0.5555555555555556,
             "#d8576b"
            ],
            [
             0.6666666666666666,
             "#ed7953"
            ],
            [
             0.7777777777777778,
             "#fb9f3a"
            ],
            [
             0.8888888888888888,
             "#fdca26"
            ],
            [
             1,
             "#f0f921"
            ]
           ],
           "sequentialminus": [
            [
             0,
             "#0d0887"
            ],
            [
             0.1111111111111111,
             "#46039f"
            ],
            [
             0.2222222222222222,
             "#7201a8"
            ],
            [
             0.3333333333333333,
             "#9c179e"
            ],
            [
             0.4444444444444444,
             "#bd3786"
            ],
            [
             0.5555555555555556,
             "#d8576b"
            ],
            [
             0.6666666666666666,
             "#ed7953"
            ],
            [
             0.7777777777777778,
             "#fb9f3a"
            ],
            [
             0.8888888888888888,
             "#fdca26"
            ],
            [
             1,
             "#f0f921"
            ]
           ]
          },
          "colorway": [
           "#636efa",
           "#EF553B",
           "#00cc96",
           "#ab63fa",
           "#FFA15A",
           "#19d3f3",
           "#FF6692",
           "#B6E880",
           "#FF97FF",
           "#FECB52"
          ],
          "font": {
           "color": "#2a3f5f"
          },
          "geo": {
           "bgcolor": "white",
           "lakecolor": "white",
           "landcolor": "#E5ECF6",
           "showlakes": true,
           "showland": true,
           "subunitcolor": "white"
          },
          "hoverlabel": {
           "align": "left"
          },
          "hovermode": "closest",
          "mapbox": {
           "style": "light"
          },
          "paper_bgcolor": "white",
          "plot_bgcolor": "#E5ECF6",
          "polar": {
           "angularaxis": {
            "gridcolor": "white",
            "linecolor": "white",
            "ticks": ""
           },
           "bgcolor": "#E5ECF6",
           "radialaxis": {
            "gridcolor": "white",
            "linecolor": "white",
            "ticks": ""
           }
          },
          "scene": {
           "xaxis": {
            "backgroundcolor": "#E5ECF6",
            "gridcolor": "white",
            "gridwidth": 2,
            "linecolor": "white",
            "showbackground": true,
            "ticks": "",
            "zerolinecolor": "white"
           },
           "yaxis": {
            "backgroundcolor": "#E5ECF6",
            "gridcolor": "white",
            "gridwidth": 2,
            "linecolor": "white",
            "showbackground": true,
            "ticks": "",
            "zerolinecolor": "white"
           },
           "zaxis": {
            "backgroundcolor": "#E5ECF6",
            "gridcolor": "white",
            "gridwidth": 2,
            "linecolor": "white",
            "showbackground": true,
            "ticks": "",
            "zerolinecolor": "white"
           }
          },
          "shapedefaults": {
           "line": {
            "color": "#2a3f5f"
           }
          },
          "ternary": {
           "aaxis": {
            "gridcolor": "white",
            "linecolor": "white",
            "ticks": ""
           },
           "baxis": {
            "gridcolor": "white",
            "linecolor": "white",
            "ticks": ""
           },
           "bgcolor": "#E5ECF6",
           "caxis": {
            "gridcolor": "white",
            "linecolor": "white",
            "ticks": ""
           }
          },
          "title": {
           "x": 0.05
          },
          "xaxis": {
           "automargin": true,
           "gridcolor": "white",
           "linecolor": "white",
           "ticks": "",
           "title": {
            "standoff": 15
           },
           "zerolinecolor": "white",
           "zerolinewidth": 2
          },
          "yaxis": {
           "automargin": true,
           "gridcolor": "white",
           "linecolor": "white",
           "ticks": "",
           "title": {
            "standoff": 15
           },
           "zerolinecolor": "white",
           "zerolinewidth": 2
          }
         }
        },
        "xaxis": {
         "anchor": "y",
         "domain": [
          0,
          1
         ],
         "title": {
          "text": "Version"
         }
        },
        "yaxis": {
         "anchor": "x",
         "domain": [
          0,
          1
         ],
         "title": {
          "text": "Percent(%)"
         }
        }
       }
      }
     },
     "metadata": {},
     "output_type": "display_data"
    }
   ],
   "source": [
    "data = ana.part_1b()\n",
    "fig = px.bar(data,x=\"Version\", y=\"Percent(%)\", color=\"scenarioResults\", text_auto=True, color_discrete_map={\"True\": 'green'})\n",
    "fig.show()"
   ]
  },
  {
   "cell_type": "markdown",
   "metadata": {},
   "source": [
    "## Part2 类型对比\n",
    "### 2.1 对比常见路测问题类型的新版本 0.63.6 和上一个版本 0.63.3的整体表现"
   ]
  },
  {
   "cell_type": "code",
   "execution_count": 5,
   "metadata": {},
   "outputs": [],
   "source": [
    "data = pd.concat([ana.part_2a(),ana.part_2b(), ana.part_2c(), ana.part_2d(), ana.part_2e(), ana.part_2f()],axis=0)\n",
    "# file_name = 'example.xlsx'\n",
    "  \n",
    "# # saving the excel\n",
    "# df.to_excel(file_name)\n",
    "\n",
    "# data = pd.read_excel(\"example.xlsx\")\n",
    "# data"
   ]
  },
  {
   "cell_type": "code",
   "execution_count": 6,
   "metadata": {},
   "outputs": [
    {
     "data": {
      "application/vnd.plotly.v1+json": {
       "config": {
        "plotlyServerURL": "https://plot.ly"
       },
       "data": [
        {
         "alignmentgroup": "True",
         "hovertemplate": "scenarioResults=False<br>Type=Routing<br>Version=%{x}<br>Percent(%)=%{y}<extra></extra>",
         "legendgroup": "False",
         "marker": {
          "color": "#636efa",
          "pattern": {
           "shape": ""
          }
         },
         "name": "False",
         "offsetgroup": "False",
         "orientation": "v",
         "showlegend": true,
         "textposition": "auto",
         "texttemplate": "%{y}",
         "type": "bar",
         "x": [
          "0.63.3",
          "0.63.6"
         ],
         "xaxis": "x",
         "y": [
          53.57,
          57.14
         ],
         "yaxis": "y"
        },
        {
         "alignmentgroup": "True",
         "hovertemplate": "scenarioResults=False<br>Type=Path<br>Version=%{x}<br>Percent(%)=%{y}<extra></extra>",
         "legendgroup": "False",
         "marker": {
          "color": "#636efa",
          "pattern": {
           "shape": ""
          }
         },
         "name": "False",
         "offsetgroup": "False",
         "orientation": "v",
         "showlegend": false,
         "textposition": "auto",
         "texttemplate": "%{y}",
         "type": "bar",
         "x": [
          "0.63.3",
          "0.63.6"
         ],
         "xaxis": "x2",
         "y": [
          51.61,
          54.26
         ],
         "yaxis": "y2"
        },
        {
         "alignmentgroup": "True",
         "hovertemplate": "scenarioResults=False<br>Type=速度<br>Version=%{x}<br>Percent(%)=%{y}<extra></extra>",
         "legendgroup": "False",
         "marker": {
          "color": "#636efa",
          "pattern": {
           "shape": ""
          }
         },
         "name": "False",
         "offsetgroup": "False",
         "orientation": "v",
         "showlegend": false,
         "textposition": "auto",
         "texttemplate": "%{y}",
         "type": "bar",
         "x": [
          "0.63.3",
          "0.63.6"
         ],
         "xaxis": "x3",
         "y": [
          44.72,
          43.72
         ],
         "yaxis": "y3"
        },
        {
         "alignmentgroup": "True",
         "hovertemplate": "scenarioResults=False<br>Type=变道<br>Version=%{x}<br>Percent(%)=%{y}<extra></extra>",
         "legendgroup": "False",
         "marker": {
          "color": "#636efa",
          "pattern": {
           "shape": ""
          }
         },
         "name": "False",
         "offsetgroup": "False",
         "orientation": "v",
         "showlegend": false,
         "textposition": "auto",
         "texttemplate": "%{y}",
         "type": "bar",
         "x": [
          "0.63.3",
          "0.63.6"
         ],
         "xaxis": "x4",
         "y": [
          48.34,
          44.54
         ],
         "yaxis": "y4"
        },
        {
         "alignmentgroup": "True",
         "hovertemplate": "scenarioResults=False<br>Type=程序异常<br>Version=%{x}<br>Percent(%)=%{y}<extra></extra>",
         "legendgroup": "False",
         "marker": {
          "color": "#636efa",
          "pattern": {
           "shape": ""
          }
         },
         "name": "False",
         "offsetgroup": "False",
         "orientation": "v",
         "showlegend": false,
         "textposition": "auto",
         "texttemplate": "%{y}",
         "type": "bar",
         "x": [
          "0.63.3",
          "0.63.6"
         ],
         "xaxis": "x5",
         "y": [
          42.86,
          50
         ],
         "yaxis": "y5"
        },
        {
         "alignmentgroup": "True",
         "hovertemplate": "scenarioResults=False<br>Type=其他<br>Version=%{x}<br>Percent(%)=%{y}<extra></extra>",
         "legendgroup": "False",
         "marker": {
          "color": "#636efa",
          "pattern": {
           "shape": ""
          }
         },
         "name": "False",
         "offsetgroup": "False",
         "orientation": "v",
         "showlegend": false,
         "textposition": "auto",
         "texttemplate": "%{y}",
         "type": "bar",
         "x": [
          "0.63.3",
          "0.63.6"
         ],
         "xaxis": "x6",
         "y": [
          54.7,
          54.46
         ],
         "yaxis": "y6"
        },
        {
         "alignmentgroup": "True",
         "hovertemplate": "scenarioResults=True<br>Type=Routing<br>Version=%{x}<br>Percent(%)=%{y}<extra></extra>",
         "legendgroup": "True",
         "marker": {
          "color": "#EF553B",
          "pattern": {
           "shape": ""
          }
         },
         "name": "True",
         "offsetgroup": "True",
         "orientation": "v",
         "showlegend": true,
         "textposition": "auto",
         "texttemplate": "%{y}",
         "type": "bar",
         "x": [
          "0.63.3",
          "0.63.6"
         ],
         "xaxis": "x",
         "y": [
          46.43,
          42.86
         ],
         "yaxis": "y"
        },
        {
         "alignmentgroup": "True",
         "hovertemplate": "scenarioResults=True<br>Type=Path<br>Version=%{x}<br>Percent(%)=%{y}<extra></extra>",
         "legendgroup": "True",
         "marker": {
          "color": "#EF553B",
          "pattern": {
           "shape": ""
          }
         },
         "name": "True",
         "offsetgroup": "True",
         "orientation": "v",
         "showlegend": false,
         "textposition": "auto",
         "texttemplate": "%{y}",
         "type": "bar",
         "x": [
          "0.63.3",
          "0.63.6"
         ],
         "xaxis": "x2",
         "y": [
          48.39,
          45.74
         ],
         "yaxis": "y2"
        },
        {
         "alignmentgroup": "True",
         "hovertemplate": "scenarioResults=True<br>Type=速度<br>Version=%{x}<br>Percent(%)=%{y}<extra></extra>",
         "legendgroup": "True",
         "marker": {
          "color": "#EF553B",
          "pattern": {
           "shape": ""
          }
         },
         "name": "True",
         "offsetgroup": "True",
         "orientation": "v",
         "showlegend": false,
         "textposition": "auto",
         "texttemplate": "%{y}",
         "type": "bar",
         "x": [
          "0.63.3",
          "0.63.6"
         ],
         "xaxis": "x3",
         "y": [
          55.28,
          56.28
         ],
         "yaxis": "y3"
        },
        {
         "alignmentgroup": "True",
         "hovertemplate": "scenarioResults=True<br>Type=变道<br>Version=%{x}<br>Percent(%)=%{y}<extra></extra>",
         "legendgroup": "True",
         "marker": {
          "color": "#EF553B",
          "pattern": {
           "shape": ""
          }
         },
         "name": "True",
         "offsetgroup": "True",
         "orientation": "v",
         "showlegend": false,
         "textposition": "auto",
         "texttemplate": "%{y}",
         "type": "bar",
         "x": [
          "0.63.3",
          "0.63.6"
         ],
         "xaxis": "x4",
         "y": [
          51.66,
          55.46
         ],
         "yaxis": "y4"
        },
        {
         "alignmentgroup": "True",
         "hovertemplate": "scenarioResults=True<br>Type=程序异常<br>Version=%{x}<br>Percent(%)=%{y}<extra></extra>",
         "legendgroup": "True",
         "marker": {
          "color": "#EF553B",
          "pattern": {
           "shape": ""
          }
         },
         "name": "True",
         "offsetgroup": "True",
         "orientation": "v",
         "showlegend": false,
         "textposition": "auto",
         "texttemplate": "%{y}",
         "type": "bar",
         "x": [
          "0.63.3",
          "0.63.6"
         ],
         "xaxis": "x5",
         "y": [
          57.14,
          50
         ],
         "yaxis": "y5"
        },
        {
         "alignmentgroup": "True",
         "hovertemplate": "scenarioResults=True<br>Type=其他<br>Version=%{x}<br>Percent(%)=%{y}<extra></extra>",
         "legendgroup": "True",
         "marker": {
          "color": "#EF553B",
          "pattern": {
           "shape": ""
          }
         },
         "name": "True",
         "offsetgroup": "True",
         "orientation": "v",
         "showlegend": false,
         "textposition": "auto",
         "texttemplate": "%{y}",
         "type": "bar",
         "x": [
          "0.63.3",
          "0.63.6"
         ],
         "xaxis": "x6",
         "y": [
          45.3,
          45.54
         ],
         "yaxis": "y6"
        }
       ],
       "layout": {
        "annotations": [
         {
          "font": {},
          "showarrow": false,
          "text": "Type=Routing",
          "x": 0.075,
          "xanchor": "center",
          "xref": "paper",
          "y": 1,
          "yanchor": "bottom",
          "yref": "paper"
         },
         {
          "font": {},
          "showarrow": false,
          "text": "Type=Path",
          "x": 0.24499999999999997,
          "xanchor": "center",
          "xref": "paper",
          "y": 1,
          "yanchor": "bottom",
          "yref": "paper"
         },
         {
          "font": {},
          "showarrow": false,
          "text": "Type=速度",
          "x": 0.415,
          "xanchor": "center",
          "xref": "paper",
          "y": 1,
          "yanchor": "bottom",
          "yref": "paper"
         },
         {
          "font": {},
          "showarrow": false,
          "text": "Type=变道",
          "x": 0.585,
          "xanchor": "center",
          "xref": "paper",
          "y": 1,
          "yanchor": "bottom",
          "yref": "paper"
         },
         {
          "font": {},
          "showarrow": false,
          "text": "Type=程序异常",
          "x": 0.7549999999999999,
          "xanchor": "center",
          "xref": "paper",
          "y": 1,
          "yanchor": "bottom",
          "yref": "paper"
         },
         {
          "font": {},
          "showarrow": false,
          "text": "Type=其他",
          "x": 0.925,
          "xanchor": "center",
          "xref": "paper",
          "y": 1,
          "yanchor": "bottom",
          "yref": "paper"
         }
        ],
        "barmode": "relative",
        "legend": {
         "title": {
          "text": "scenarioResults"
         },
         "tracegroupgap": 0
        },
        "margin": {
         "t": 60
        },
        "template": {
         "data": {
          "bar": [
           {
            "error_x": {
             "color": "#2a3f5f"
            },
            "error_y": {
             "color": "#2a3f5f"
            },
            "marker": {
             "line": {
              "color": "#E5ECF6",
              "width": 0.5
             },
             "pattern": {
              "fillmode": "overlay",
              "size": 10,
              "solidity": 0.2
             }
            },
            "type": "bar"
           }
          ],
          "barpolar": [
           {
            "marker": {
             "line": {
              "color": "#E5ECF6",
              "width": 0.5
             },
             "pattern": {
              "fillmode": "overlay",
              "size": 10,
              "solidity": 0.2
             }
            },
            "type": "barpolar"
           }
          ],
          "carpet": [
           {
            "aaxis": {
             "endlinecolor": "#2a3f5f",
             "gridcolor": "white",
             "linecolor": "white",
             "minorgridcolor": "white",
             "startlinecolor": "#2a3f5f"
            },
            "baxis": {
             "endlinecolor": "#2a3f5f",
             "gridcolor": "white",
             "linecolor": "white",
             "minorgridcolor": "white",
             "startlinecolor": "#2a3f5f"
            },
            "type": "carpet"
           }
          ],
          "choropleth": [
           {
            "colorbar": {
             "outlinewidth": 0,
             "ticks": ""
            },
            "type": "choropleth"
           }
          ],
          "contour": [
           {
            "colorbar": {
             "outlinewidth": 0,
             "ticks": ""
            },
            "colorscale": [
             [
              0,
              "#0d0887"
             ],
             [
              0.1111111111111111,
              "#46039f"
             ],
             [
              0.2222222222222222,
              "#7201a8"
             ],
             [
              0.3333333333333333,
              "#9c179e"
             ],
             [
              0.4444444444444444,
              "#bd3786"
             ],
             [
              0.5555555555555556,
              "#d8576b"
             ],
             [
              0.6666666666666666,
              "#ed7953"
             ],
             [
              0.7777777777777778,
              "#fb9f3a"
             ],
             [
              0.8888888888888888,
              "#fdca26"
             ],
             [
              1,
              "#f0f921"
             ]
            ],
            "type": "contour"
           }
          ],
          "contourcarpet": [
           {
            "colorbar": {
             "outlinewidth": 0,
             "ticks": ""
            },
            "type": "contourcarpet"
           }
          ],
          "heatmap": [
           {
            "colorbar": {
             "outlinewidth": 0,
             "ticks": ""
            },
            "colorscale": [
             [
              0,
              "#0d0887"
             ],
             [
              0.1111111111111111,
              "#46039f"
             ],
             [
              0.2222222222222222,
              "#7201a8"
             ],
             [
              0.3333333333333333,
              "#9c179e"
             ],
             [
              0.4444444444444444,
              "#bd3786"
             ],
             [
              0.5555555555555556,
              "#d8576b"
             ],
             [
              0.6666666666666666,
              "#ed7953"
             ],
             [
              0.7777777777777778,
              "#fb9f3a"
             ],
             [
              0.8888888888888888,
              "#fdca26"
             ],
             [
              1,
              "#f0f921"
             ]
            ],
            "type": "heatmap"
           }
          ],
          "heatmapgl": [
           {
            "colorbar": {
             "outlinewidth": 0,
             "ticks": ""
            },
            "colorscale": [
             [
              0,
              "#0d0887"
             ],
             [
              0.1111111111111111,
              "#46039f"
             ],
             [
              0.2222222222222222,
              "#7201a8"
             ],
             [
              0.3333333333333333,
              "#9c179e"
             ],
             [
              0.4444444444444444,
              "#bd3786"
             ],
             [
              0.5555555555555556,
              "#d8576b"
             ],
             [
              0.6666666666666666,
              "#ed7953"
             ],
             [
              0.7777777777777778,
              "#fb9f3a"
             ],
             [
              0.8888888888888888,
              "#fdca26"
             ],
             [
              1,
              "#f0f921"
             ]
            ],
            "type": "heatmapgl"
           }
          ],
          "histogram": [
           {
            "marker": {
             "pattern": {
              "fillmode": "overlay",
              "size": 10,
              "solidity": 0.2
             }
            },
            "type": "histogram"
           }
          ],
          "histogram2d": [
           {
            "colorbar": {
             "outlinewidth": 0,
             "ticks": ""
            },
            "colorscale": [
             [
              0,
              "#0d0887"
             ],
             [
              0.1111111111111111,
              "#46039f"
             ],
             [
              0.2222222222222222,
              "#7201a8"
             ],
             [
              0.3333333333333333,
              "#9c179e"
             ],
             [
              0.4444444444444444,
              "#bd3786"
             ],
             [
              0.5555555555555556,
              "#d8576b"
             ],
             [
              0.6666666666666666,
              "#ed7953"
             ],
             [
              0.7777777777777778,
              "#fb9f3a"
             ],
             [
              0.8888888888888888,
              "#fdca26"
             ],
             [
              1,
              "#f0f921"
             ]
            ],
            "type": "histogram2d"
           }
          ],
          "histogram2dcontour": [
           {
            "colorbar": {
             "outlinewidth": 0,
             "ticks": ""
            },
            "colorscale": [
             [
              0,
              "#0d0887"
             ],
             [
              0.1111111111111111,
              "#46039f"
             ],
             [
              0.2222222222222222,
              "#7201a8"
             ],
             [
              0.3333333333333333,
              "#9c179e"
             ],
             [
              0.4444444444444444,
              "#bd3786"
             ],
             [
              0.5555555555555556,
              "#d8576b"
             ],
             [
              0.6666666666666666,
              "#ed7953"
             ],
             [
              0.7777777777777778,
              "#fb9f3a"
             ],
             [
              0.8888888888888888,
              "#fdca26"
             ],
             [
              1,
              "#f0f921"
             ]
            ],
            "type": "histogram2dcontour"
           }
          ],
          "mesh3d": [
           {
            "colorbar": {
             "outlinewidth": 0,
             "ticks": ""
            },
            "type": "mesh3d"
           }
          ],
          "parcoords": [
           {
            "line": {
             "colorbar": {
              "outlinewidth": 0,
              "ticks": ""
             }
            },
            "type": "parcoords"
           }
          ],
          "pie": [
           {
            "automargin": true,
            "type": "pie"
           }
          ],
          "scatter": [
           {
            "fillpattern": {
             "fillmode": "overlay",
             "size": 10,
             "solidity": 0.2
            },
            "type": "scatter"
           }
          ],
          "scatter3d": [
           {
            "line": {
             "colorbar": {
              "outlinewidth": 0,
              "ticks": ""
             }
            },
            "marker": {
             "colorbar": {
              "outlinewidth": 0,
              "ticks": ""
             }
            },
            "type": "scatter3d"
           }
          ],
          "scattercarpet": [
           {
            "marker": {
             "colorbar": {
              "outlinewidth": 0,
              "ticks": ""
             }
            },
            "type": "scattercarpet"
           }
          ],
          "scattergeo": [
           {
            "marker": {
             "colorbar": {
              "outlinewidth": 0,
              "ticks": ""
             }
            },
            "type": "scattergeo"
           }
          ],
          "scattergl": [
           {
            "marker": {
             "colorbar": {
              "outlinewidth": 0,
              "ticks": ""
             }
            },
            "type": "scattergl"
           }
          ],
          "scattermapbox": [
           {
            "marker": {
             "colorbar": {
              "outlinewidth": 0,
              "ticks": ""
             }
            },
            "type": "scattermapbox"
           }
          ],
          "scatterpolar": [
           {
            "marker": {
             "colorbar": {
              "outlinewidth": 0,
              "ticks": ""
             }
            },
            "type": "scatterpolar"
           }
          ],
          "scatterpolargl": [
           {
            "marker": {
             "colorbar": {
              "outlinewidth": 0,
              "ticks": ""
             }
            },
            "type": "scatterpolargl"
           }
          ],
          "scatterternary": [
           {
            "marker": {
             "colorbar": {
              "outlinewidth": 0,
              "ticks": ""
             }
            },
            "type": "scatterternary"
           }
          ],
          "surface": [
           {
            "colorbar": {
             "outlinewidth": 0,
             "ticks": ""
            },
            "colorscale": [
             [
              0,
              "#0d0887"
             ],
             [
              0.1111111111111111,
              "#46039f"
             ],
             [
              0.2222222222222222,
              "#7201a8"
             ],
             [
              0.3333333333333333,
              "#9c179e"
             ],
             [
              0.4444444444444444,
              "#bd3786"
             ],
             [
              0.5555555555555556,
              "#d8576b"
             ],
             [
              0.6666666666666666,
              "#ed7953"
             ],
             [
              0.7777777777777778,
              "#fb9f3a"
             ],
             [
              0.8888888888888888,
              "#fdca26"
             ],
             [
              1,
              "#f0f921"
             ]
            ],
            "type": "surface"
           }
          ],
          "table": [
           {
            "cells": {
             "fill": {
              "color": "#EBF0F8"
             },
             "line": {
              "color": "white"
             }
            },
            "header": {
             "fill": {
              "color": "#C8D4E3"
             },
             "line": {
              "color": "white"
             }
            },
            "type": "table"
           }
          ]
         },
         "layout": {
          "annotationdefaults": {
           "arrowcolor": "#2a3f5f",
           "arrowhead": 0,
           "arrowwidth": 1
          },
          "autotypenumbers": "strict",
          "coloraxis": {
           "colorbar": {
            "outlinewidth": 0,
            "ticks": ""
           }
          },
          "colorscale": {
           "diverging": [
            [
             0,
             "#8e0152"
            ],
            [
             0.1,
             "#c51b7d"
            ],
            [
             0.2,
             "#de77ae"
            ],
            [
             0.3,
             "#f1b6da"
            ],
            [
             0.4,
             "#fde0ef"
            ],
            [
             0.5,
             "#f7f7f7"
            ],
            [
             0.6,
             "#e6f5d0"
            ],
            [
             0.7,
             "#b8e186"
            ],
            [
             0.8,
             "#7fbc41"
            ],
            [
             0.9,
             "#4d9221"
            ],
            [
             1,
             "#276419"
            ]
           ],
           "sequential": [
            [
             0,
             "#0d0887"
            ],
            [
             0.1111111111111111,
             "#46039f"
            ],
            [
             0.2222222222222222,
             "#7201a8"
            ],
            [
             0.3333333333333333,
             "#9c179e"
            ],
            [
             0.4444444444444444,
             "#bd3786"
            ],
            [
             0.5555555555555556,
             "#d8576b"
            ],
            [
             0.6666666666666666,
             "#ed7953"
            ],
            [
             0.7777777777777778,
             "#fb9f3a"
            ],
            [
             0.8888888888888888,
             "#fdca26"
            ],
            [
             1,
             "#f0f921"
            ]
           ],
           "sequentialminus": [
            [
             0,
             "#0d0887"
            ],
            [
             0.1111111111111111,
             "#46039f"
            ],
            [
             0.2222222222222222,
             "#7201a8"
            ],
            [
             0.3333333333333333,
             "#9c179e"
            ],
            [
             0.4444444444444444,
             "#bd3786"
            ],
            [
             0.5555555555555556,
             "#d8576b"
            ],
            [
             0.6666666666666666,
             "#ed7953"
            ],
            [
             0.7777777777777778,
             "#fb9f3a"
            ],
            [
             0.8888888888888888,
             "#fdca26"
            ],
            [
             1,
             "#f0f921"
            ]
           ]
          },
          "colorway": [
           "#636efa",
           "#EF553B",
           "#00cc96",
           "#ab63fa",
           "#FFA15A",
           "#19d3f3",
           "#FF6692",
           "#B6E880",
           "#FF97FF",
           "#FECB52"
          ],
          "font": {
           "color": "#2a3f5f"
          },
          "geo": {
           "bgcolor": "white",
           "lakecolor": "white",
           "landcolor": "#E5ECF6",
           "showlakes": true,
           "showland": true,
           "subunitcolor": "white"
          },
          "hoverlabel": {
           "align": "left"
          },
          "hovermode": "closest",
          "mapbox": {
           "style": "light"
          },
          "paper_bgcolor": "white",
          "plot_bgcolor": "#E5ECF6",
          "polar": {
           "angularaxis": {
            "gridcolor": "white",
            "linecolor": "white",
            "ticks": ""
           },
           "bgcolor": "#E5ECF6",
           "radialaxis": {
            "gridcolor": "white",
            "linecolor": "white",
            "ticks": ""
           }
          },
          "scene": {
           "xaxis": {
            "backgroundcolor": "#E5ECF6",
            "gridcolor": "white",
            "gridwidth": 2,
            "linecolor": "white",
            "showbackground": true,
            "ticks": "",
            "zerolinecolor": "white"
           },
           "yaxis": {
            "backgroundcolor": "#E5ECF6",
            "gridcolor": "white",
            "gridwidth": 2,
            "linecolor": "white",
            "showbackground": true,
            "ticks": "",
            "zerolinecolor": "white"
           },
           "zaxis": {
            "backgroundcolor": "#E5ECF6",
            "gridcolor": "white",
            "gridwidth": 2,
            "linecolor": "white",
            "showbackground": true,
            "ticks": "",
            "zerolinecolor": "white"
           }
          },
          "shapedefaults": {
           "line": {
            "color": "#2a3f5f"
           }
          },
          "ternary": {
           "aaxis": {
            "gridcolor": "white",
            "linecolor": "white",
            "ticks": ""
           },
           "baxis": {
            "gridcolor": "white",
            "linecolor": "white",
            "ticks": ""
           },
           "bgcolor": "#E5ECF6",
           "caxis": {
            "gridcolor": "white",
            "linecolor": "white",
            "ticks": ""
           }
          },
          "title": {
           "x": 0.05
          },
          "xaxis": {
           "automargin": true,
           "gridcolor": "white",
           "linecolor": "white",
           "ticks": "",
           "title": {
            "standoff": 15
           },
           "zerolinecolor": "white",
           "zerolinewidth": 2
          },
          "yaxis": {
           "automargin": true,
           "gridcolor": "white",
           "linecolor": "white",
           "ticks": "",
           "title": {
            "standoff": 15
           },
           "zerolinecolor": "white",
           "zerolinewidth": 2
          }
         }
        },
        "xaxis": {
         "anchor": "y",
         "domain": [
          0,
          0.15
         ],
         "title": {
          "text": "Version"
         }
        },
        "xaxis2": {
         "anchor": "y2",
         "domain": [
          0.16999999999999998,
          0.31999999999999995
         ],
         "matches": "x",
         "title": {
          "text": "Version"
         }
        },
        "xaxis3": {
         "anchor": "y3",
         "domain": [
          0.33999999999999997,
          0.49
         ],
         "matches": "x",
         "title": {
          "text": "Version"
         }
        },
        "xaxis4": {
         "anchor": "y4",
         "domain": [
          0.51,
          0.66
         ],
         "matches": "x",
         "title": {
          "text": "Version"
         }
        },
        "xaxis5": {
         "anchor": "y5",
         "domain": [
          0.6799999999999999,
          0.83
         ],
         "matches": "x",
         "title": {
          "text": "Version"
         }
        },
        "xaxis6": {
         "anchor": "y6",
         "domain": [
          0.85,
          1
         ],
         "matches": "x",
         "title": {
          "text": "Version"
         }
        },
        "yaxis": {
         "anchor": "x",
         "domain": [
          0,
          1
         ],
         "title": {
          "text": "Percent(%)"
         }
        },
        "yaxis2": {
         "anchor": "x2",
         "domain": [
          0,
          1
         ],
         "matches": "y",
         "showticklabels": false
        },
        "yaxis3": {
         "anchor": "x3",
         "domain": [
          0,
          1
         ],
         "matches": "y",
         "showticklabels": false
        },
        "yaxis4": {
         "anchor": "x4",
         "domain": [
          0,
          1
         ],
         "matches": "y",
         "showticklabels": false
        },
        "yaxis5": {
         "anchor": "x5",
         "domain": [
          0,
          1
         ],
         "matches": "y",
         "showticklabels": false
        },
        "yaxis6": {
         "anchor": "x6",
         "domain": [
          0,
          1
         ],
         "matches": "y",
         "showticklabels": false
        }
       }
      }
     },
     "metadata": {},
     "output_type": "display_data"
    }
   ],
   "source": [
    "# data = pd.read_excel(\"example.xlsx\")\n",
    "# df1 = data[data['Type'] == 'Routing']\n",
    "# df2 = data[data['Type'] == 'Path']\n",
    "# df3 = data[data['Type'] == '速度']\n",
    "# df4 = data[data['Type'] == '变道']\n",
    "# df5 = data[data['Type'] == '程序异常']\n",
    "# df6 = data[data['Type'] == '其他']\n",
    "\n",
    "fig = px.bar(data,x=\"Version\", y=\"Percent(%)\", color=\"scenarioResults\", text_auto=True,\n",
    "            facet_col=\"Type\", color_discrete_map={\"True\": 'green'})\n",
    "\n",
    "\n",
    "fig.show()"
   ]
  },
  {
   "cell_type": "markdown",
   "metadata": {},
   "source": [
    "### 2.2 0.63.6和0.63.3的针对无变道相关问题的版本表现对比"
   ]
  },
  {
   "cell_type": "code",
   "execution_count": 7,
   "metadata": {},
   "outputs": [
    {
     "data": {
      "application/vnd.plotly.v1+json": {
       "config": {
        "plotlyServerURL": "https://plot.ly"
       },
       "data": [
        {
         "alignmentgroup": "True",
         "hovertemplate": "scenarioResults=False<br>Type=无变道相关<br>Version=%{x}<br>Percent(%)=%{y}<extra></extra>",
         "legendgroup": "False",
         "marker": {
          "color": "#EF553B",
          "pattern": {
           "shape": ""
          }
         },
         "name": "False",
         "offsetgroup": "False",
         "orientation": "v",
         "showlegend": true,
         "textposition": "auto",
         "texttemplate": "%{y}",
         "type": "bar",
         "x": [
          "0.63.3",
          "0.63.6"
         ],
         "xaxis": "x",
         "y": [
          57.58,
          48.48
         ],
         "yaxis": "y"
        },
        {
         "alignmentgroup": "True",
         "hovertemplate": "scenarioResults=True<br>Type=无变道相关<br>Version=%{x}<br>Percent(%)=%{y}<extra></extra>",
         "legendgroup": "True",
         "marker": {
          "color": "#00cc96",
          "pattern": {
           "shape": ""
          }
         },
         "name": "True",
         "offsetgroup": "True",
         "orientation": "v",
         "showlegend": true,
         "textposition": "auto",
         "texttemplate": "%{y}",
         "type": "bar",
         "x": [
          "0.63.3",
          "0.63.6"
         ],
         "xaxis": "x",
         "y": [
          42.42,
          51.52
         ],
         "yaxis": "y"
        }
       ],
       "layout": {
        "annotations": [
         {
          "font": {},
          "showarrow": false,
          "text": "Type=无变道相关",
          "x": 0.5,
          "xanchor": "center",
          "xref": "paper",
          "y": 1,
          "yanchor": "bottom",
          "yref": "paper"
         }
        ],
        "barmode": "relative",
        "legend": {
         "title": {
          "text": "scenarioResults"
         },
         "tracegroupgap": 0
        },
        "margin": {
         "t": 60
        },
        "template": {
         "data": {
          "bar": [
           {
            "error_x": {
             "color": "#2a3f5f"
            },
            "error_y": {
             "color": "#2a3f5f"
            },
            "marker": {
             "line": {
              "color": "#E5ECF6",
              "width": 0.5
             },
             "pattern": {
              "fillmode": "overlay",
              "size": 10,
              "solidity": 0.2
             }
            },
            "type": "bar"
           }
          ],
          "barpolar": [
           {
            "marker": {
             "line": {
              "color": "#E5ECF6",
              "width": 0.5
             },
             "pattern": {
              "fillmode": "overlay",
              "size": 10,
              "solidity": 0.2
             }
            },
            "type": "barpolar"
           }
          ],
          "carpet": [
           {
            "aaxis": {
             "endlinecolor": "#2a3f5f",
             "gridcolor": "white",
             "linecolor": "white",
             "minorgridcolor": "white",
             "startlinecolor": "#2a3f5f"
            },
            "baxis": {
             "endlinecolor": "#2a3f5f",
             "gridcolor": "white",
             "linecolor": "white",
             "minorgridcolor": "white",
             "startlinecolor": "#2a3f5f"
            },
            "type": "carpet"
           }
          ],
          "choropleth": [
           {
            "colorbar": {
             "outlinewidth": 0,
             "ticks": ""
            },
            "type": "choropleth"
           }
          ],
          "contour": [
           {
            "colorbar": {
             "outlinewidth": 0,
             "ticks": ""
            },
            "colorscale": [
             [
              0,
              "#0d0887"
             ],
             [
              0.1111111111111111,
              "#46039f"
             ],
             [
              0.2222222222222222,
              "#7201a8"
             ],
             [
              0.3333333333333333,
              "#9c179e"
             ],
             [
              0.4444444444444444,
              "#bd3786"
             ],
             [
              0.5555555555555556,
              "#d8576b"
             ],
             [
              0.6666666666666666,
              "#ed7953"
             ],
             [
              0.7777777777777778,
              "#fb9f3a"
             ],
             [
              0.8888888888888888,
              "#fdca26"
             ],
             [
              1,
              "#f0f921"
             ]
            ],
            "type": "contour"
           }
          ],
          "contourcarpet": [
           {
            "colorbar": {
             "outlinewidth": 0,
             "ticks": ""
            },
            "type": "contourcarpet"
           }
          ],
          "heatmap": [
           {
            "colorbar": {
             "outlinewidth": 0,
             "ticks": ""
            },
            "colorscale": [
             [
              0,
              "#0d0887"
             ],
             [
              0.1111111111111111,
              "#46039f"
             ],
             [
              0.2222222222222222,
              "#7201a8"
             ],
             [
              0.3333333333333333,
              "#9c179e"
             ],
             [
              0.4444444444444444,
              "#bd3786"
             ],
             [
              0.5555555555555556,
              "#d8576b"
             ],
             [
              0.6666666666666666,
              "#ed7953"
             ],
             [
              0.7777777777777778,
              "#fb9f3a"
             ],
             [
              0.8888888888888888,
              "#fdca26"
             ],
             [
              1,
              "#f0f921"
             ]
            ],
            "type": "heatmap"
           }
          ],
          "heatmapgl": [
           {
            "colorbar": {
             "outlinewidth": 0,
             "ticks": ""
            },
            "colorscale": [
             [
              0,
              "#0d0887"
             ],
             [
              0.1111111111111111,
              "#46039f"
             ],
             [
              0.2222222222222222,
              "#7201a8"
             ],
             [
              0.3333333333333333,
              "#9c179e"
             ],
             [
              0.4444444444444444,
              "#bd3786"
             ],
             [
              0.5555555555555556,
              "#d8576b"
             ],
             [
              0.6666666666666666,
              "#ed7953"
             ],
             [
              0.7777777777777778,
              "#fb9f3a"
             ],
             [
              0.8888888888888888,
              "#fdca26"
             ],
             [
              1,
              "#f0f921"
             ]
            ],
            "type": "heatmapgl"
           }
          ],
          "histogram": [
           {
            "marker": {
             "pattern": {
              "fillmode": "overlay",
              "size": 10,
              "solidity": 0.2
             }
            },
            "type": "histogram"
           }
          ],
          "histogram2d": [
           {
            "colorbar": {
             "outlinewidth": 0,
             "ticks": ""
            },
            "colorscale": [
             [
              0,
              "#0d0887"
             ],
             [
              0.1111111111111111,
              "#46039f"
             ],
             [
              0.2222222222222222,
              "#7201a8"
             ],
             [
              0.3333333333333333,
              "#9c179e"
             ],
             [
              0.4444444444444444,
              "#bd3786"
             ],
             [
              0.5555555555555556,
              "#d8576b"
             ],
             [
              0.6666666666666666,
              "#ed7953"
             ],
             [
              0.7777777777777778,
              "#fb9f3a"
             ],
             [
              0.8888888888888888,
              "#fdca26"
             ],
             [
              1,
              "#f0f921"
             ]
            ],
            "type": "histogram2d"
           }
          ],
          "histogram2dcontour": [
           {
            "colorbar": {
             "outlinewidth": 0,
             "ticks": ""
            },
            "colorscale": [
             [
              0,
              "#0d0887"
             ],
             [
              0.1111111111111111,
              "#46039f"
             ],
             [
              0.2222222222222222,
              "#7201a8"
             ],
             [
              0.3333333333333333,
              "#9c179e"
             ],
             [
              0.4444444444444444,
              "#bd3786"
             ],
             [
              0.5555555555555556,
              "#d8576b"
             ],
             [
              0.6666666666666666,
              "#ed7953"
             ],
             [
              0.7777777777777778,
              "#fb9f3a"
             ],
             [
              0.8888888888888888,
              "#fdca26"
             ],
             [
              1,
              "#f0f921"
             ]
            ],
            "type": "histogram2dcontour"
           }
          ],
          "mesh3d": [
           {
            "colorbar": {
             "outlinewidth": 0,
             "ticks": ""
            },
            "type": "mesh3d"
           }
          ],
          "parcoords": [
           {
            "line": {
             "colorbar": {
              "outlinewidth": 0,
              "ticks": ""
             }
            },
            "type": "parcoords"
           }
          ],
          "pie": [
           {
            "automargin": true,
            "type": "pie"
           }
          ],
          "scatter": [
           {
            "fillpattern": {
             "fillmode": "overlay",
             "size": 10,
             "solidity": 0.2
            },
            "type": "scatter"
           }
          ],
          "scatter3d": [
           {
            "line": {
             "colorbar": {
              "outlinewidth": 0,
              "ticks": ""
             }
            },
            "marker": {
             "colorbar": {
              "outlinewidth": 0,
              "ticks": ""
             }
            },
            "type": "scatter3d"
           }
          ],
          "scattercarpet": [
           {
            "marker": {
             "colorbar": {
              "outlinewidth": 0,
              "ticks": ""
             }
            },
            "type": "scattercarpet"
           }
          ],
          "scattergeo": [
           {
            "marker": {
             "colorbar": {
              "outlinewidth": 0,
              "ticks": ""
             }
            },
            "type": "scattergeo"
           }
          ],
          "scattergl": [
           {
            "marker": {
             "colorbar": {
              "outlinewidth": 0,
              "ticks": ""
             }
            },
            "type": "scattergl"
           }
          ],
          "scattermapbox": [
           {
            "marker": {
             "colorbar": {
              "outlinewidth": 0,
              "ticks": ""
             }
            },
            "type": "scattermapbox"
           }
          ],
          "scatterpolar": [
           {
            "marker": {
             "colorbar": {
              "outlinewidth": 0,
              "ticks": ""
             }
            },
            "type": "scatterpolar"
           }
          ],
          "scatterpolargl": [
           {
            "marker": {
             "colorbar": {
              "outlinewidth": 0,
              "ticks": ""
             }
            },
            "type": "scatterpolargl"
           }
          ],
          "scatterternary": [
           {
            "marker": {
             "colorbar": {
              "outlinewidth": 0,
              "ticks": ""
             }
            },
            "type": "scatterternary"
           }
          ],
          "surface": [
           {
            "colorbar": {
             "outlinewidth": 0,
             "ticks": ""
            },
            "colorscale": [
             [
              0,
              "#0d0887"
             ],
             [
              0.1111111111111111,
              "#46039f"
             ],
             [
              0.2222222222222222,
              "#7201a8"
             ],
             [
              0.3333333333333333,
              "#9c179e"
             ],
             [
              0.4444444444444444,
              "#bd3786"
             ],
             [
              0.5555555555555556,
              "#d8576b"
             ],
             [
              0.6666666666666666,
              "#ed7953"
             ],
             [
              0.7777777777777778,
              "#fb9f3a"
             ],
             [
              0.8888888888888888,
              "#fdca26"
             ],
             [
              1,
              "#f0f921"
             ]
            ],
            "type": "surface"
           }
          ],
          "table": [
           {
            "cells": {
             "fill": {
              "color": "#EBF0F8"
             },
             "line": {
              "color": "white"
             }
            },
            "header": {
             "fill": {
              "color": "#C8D4E3"
             },
             "line": {
              "color": "white"
             }
            },
            "type": "table"
           }
          ]
         },
         "layout": {
          "annotationdefaults": {
           "arrowcolor": "#2a3f5f",
           "arrowhead": 0,
           "arrowwidth": 1
          },
          "autotypenumbers": "strict",
          "coloraxis": {
           "colorbar": {
            "outlinewidth": 0,
            "ticks": ""
           }
          },
          "colorscale": {
           "diverging": [
            [
             0,
             "#8e0152"
            ],
            [
             0.1,
             "#c51b7d"
            ],
            [
             0.2,
             "#de77ae"
            ],
            [
             0.3,
             "#f1b6da"
            ],
            [
             0.4,
             "#fde0ef"
            ],
            [
             0.5,
             "#f7f7f7"
            ],
            [
             0.6,
             "#e6f5d0"
            ],
            [
             0.7,
             "#b8e186"
            ],
            [
             0.8,
             "#7fbc41"
            ],
            [
             0.9,
             "#4d9221"
            ],
            [
             1,
             "#276419"
            ]
           ],
           "sequential": [
            [
             0,
             "#0d0887"
            ],
            [
             0.1111111111111111,
             "#46039f"
            ],
            [
             0.2222222222222222,
             "#7201a8"
            ],
            [
             0.3333333333333333,
             "#9c179e"
            ],
            [
             0.4444444444444444,
             "#bd3786"
            ],
            [
             0.5555555555555556,
             "#d8576b"
            ],
            [
             0.6666666666666666,
             "#ed7953"
            ],
            [
             0.7777777777777778,
             "#fb9f3a"
            ],
            [
             0.8888888888888888,
             "#fdca26"
            ],
            [
             1,
             "#f0f921"
            ]
           ],
           "sequentialminus": [
            [
             0,
             "#0d0887"
            ],
            [
             0.1111111111111111,
             "#46039f"
            ],
            [
             0.2222222222222222,
             "#7201a8"
            ],
            [
             0.3333333333333333,
             "#9c179e"
            ],
            [
             0.4444444444444444,
             "#bd3786"
            ],
            [
             0.5555555555555556,
             "#d8576b"
            ],
            [
             0.6666666666666666,
             "#ed7953"
            ],
            [
             0.7777777777777778,
             "#fb9f3a"
            ],
            [
             0.8888888888888888,
             "#fdca26"
            ],
            [
             1,
             "#f0f921"
            ]
           ]
          },
          "colorway": [
           "#636efa",
           "#EF553B",
           "#00cc96",
           "#ab63fa",
           "#FFA15A",
           "#19d3f3",
           "#FF6692",
           "#B6E880",
           "#FF97FF",
           "#FECB52"
          ],
          "font": {
           "color": "#2a3f5f"
          },
          "geo": {
           "bgcolor": "white",
           "lakecolor": "white",
           "landcolor": "#E5ECF6",
           "showlakes": true,
           "showland": true,
           "subunitcolor": "white"
          },
          "hoverlabel": {
           "align": "left"
          },
          "hovermode": "closest",
          "mapbox": {
           "style": "light"
          },
          "paper_bgcolor": "white",
          "plot_bgcolor": "#E5ECF6",
          "polar": {
           "angularaxis": {
            "gridcolor": "white",
            "linecolor": "white",
            "ticks": ""
           },
           "bgcolor": "#E5ECF6",
           "radialaxis": {
            "gridcolor": "white",
            "linecolor": "white",
            "ticks": ""
           }
          },
          "scene": {
           "xaxis": {
            "backgroundcolor": "#E5ECF6",
            "gridcolor": "white",
            "gridwidth": 2,
            "linecolor": "white",
            "showbackground": true,
            "ticks": "",
            "zerolinecolor": "white"
           },
           "yaxis": {
            "backgroundcolor": "#E5ECF6",
            "gridcolor": "white",
            "gridwidth": 2,
            "linecolor": "white",
            "showbackground": true,
            "ticks": "",
            "zerolinecolor": "white"
           },
           "zaxis": {
            "backgroundcolor": "#E5ECF6",
            "gridcolor": "white",
            "gridwidth": 2,
            "linecolor": "white",
            "showbackground": true,
            "ticks": "",
            "zerolinecolor": "white"
           }
          },
          "shapedefaults": {
           "line": {
            "color": "#2a3f5f"
           }
          },
          "ternary": {
           "aaxis": {
            "gridcolor": "white",
            "linecolor": "white",
            "ticks": ""
           },
           "baxis": {
            "gridcolor": "white",
            "linecolor": "white",
            "ticks": ""
           },
           "bgcolor": "#E5ECF6",
           "caxis": {
            "gridcolor": "white",
            "linecolor": "white",
            "ticks": ""
           }
          },
          "title": {
           "x": 0.05
          },
          "xaxis": {
           "automargin": true,
           "gridcolor": "white",
           "linecolor": "white",
           "ticks": "",
           "title": {
            "standoff": 15
           },
           "zerolinecolor": "white",
           "zerolinewidth": 2
          },
          "yaxis": {
           "automargin": true,
           "gridcolor": "white",
           "linecolor": "white",
           "ticks": "",
           "title": {
            "standoff": 15
           },
           "zerolinecolor": "white",
           "zerolinewidth": 2
          }
         }
        },
        "xaxis": {
         "anchor": "y",
         "domain": [
          0,
          1
         ],
         "title": {
          "text": "Version"
         }
        },
        "yaxis": {
         "anchor": "x",
         "domain": [
          0,
          1
         ],
         "title": {
          "text": "Percent(%)"
         }
        }
       }
      }
     },
     "metadata": {},
     "output_type": "display_data"
    }
   ],
   "source": [
    "data = ana.part_2g()\n",
    "fig = px.bar(data,x=\"Version\", y=\"Percent(%)\", color=\"scenarioResults\", text_auto=True,\n",
    "            facet_col=\"Type\", color_discrete_map={\"True\": 'green'})\n",
    "\n",
    "\n",
    "fig.show()"
   ]
  },
  {
   "cell_type": "markdown",
   "metadata": {},
   "source": [
    "## Part3 新增Issue概况"
   ]
  },
  {
   "cell_type": "code",
   "execution_count": 8,
   "metadata": {},
   "outputs": [
    {
     "data": {
      "application/vnd.plotly.v1+json": {
       "config": {
        "plotlyServerURL": "https://plot.ly"
       },
       "data": [
        {
         "domain": {
          "x": [
           0,
           1
          ],
          "y": [
           0,
           1
          ]
         },
         "hovertemplate": "label=%{label}<br>value=%{value}<extra></extra>",
         "labels": [
          "体感 -  横向转向过大（ EXCESSIVE_LATERAL_STEER）",
          "体感 - 急刹车（SUDDEN_BRAKE）",
          "体感 - 点刹（  SLIGHT_BRAKE）",
          "安全 -  太靠近行人（TOO_CLOSE_TO_PEDESTRIAN）",
          "安全 - 危险变道（DANGEROUS_LANE_CHANGE）",
          "安全 - 太靠近他车（TOO_CLOSE_TO_VEHICLE）",
          "未分类问题（ISSUE_UNCLASSIFIED）",
          "流程",
          "流程 - 正常接收订单，剩余距离计算错误（OPERATION_INCORRECT_REMAINING_DISTANCE）",
          "通行效率",
          "通行效率 -  不必要换道（UNNECESSARY_LANE_CHANGE）",
          "通行效率 - 不合理的停车（UNREASONABLE_STOP）",
          "通行效率 - 不必要取消换道（  UNNECESSARY_LANE_CHANGE_CANCEL）",
          "通行效率 - 通行效率过低（ LOW_TRAFFIC_EFFICIENCY）"
         ],
         "legendgroup": "",
         "name": "",
         "showlegend": true,
         "textinfo": "percent+label",
         "textposition": "inside",
         "type": "pie",
         "values": [
          1,
          1,
          3,
          1,
          3,
          5,
          1,
          3,
          2,
          1,
          4,
          2,
          1,
          10
         ]
        }
       ],
       "layout": {
        "height": 1200,
        "legend": {
         "tracegroupgap": 0
        },
        "margin": {
         "t": 60
        },
        "template": {
         "data": {
          "bar": [
           {
            "error_x": {
             "color": "#2a3f5f"
            },
            "error_y": {
             "color": "#2a3f5f"
            },
            "marker": {
             "line": {
              "color": "#E5ECF6",
              "width": 0.5
             },
             "pattern": {
              "fillmode": "overlay",
              "size": 10,
              "solidity": 0.2
             }
            },
            "type": "bar"
           }
          ],
          "barpolar": [
           {
            "marker": {
             "line": {
              "color": "#E5ECF6",
              "width": 0.5
             },
             "pattern": {
              "fillmode": "overlay",
              "size": 10,
              "solidity": 0.2
             }
            },
            "type": "barpolar"
           }
          ],
          "carpet": [
           {
            "aaxis": {
             "endlinecolor": "#2a3f5f",
             "gridcolor": "white",
             "linecolor": "white",
             "minorgridcolor": "white",
             "startlinecolor": "#2a3f5f"
            },
            "baxis": {
             "endlinecolor": "#2a3f5f",
             "gridcolor": "white",
             "linecolor": "white",
             "minorgridcolor": "white",
             "startlinecolor": "#2a3f5f"
            },
            "type": "carpet"
           }
          ],
          "choropleth": [
           {
            "colorbar": {
             "outlinewidth": 0,
             "ticks": ""
            },
            "type": "choropleth"
           }
          ],
          "contour": [
           {
            "colorbar": {
             "outlinewidth": 0,
             "ticks": ""
            },
            "colorscale": [
             [
              0,
              "#0d0887"
             ],
             [
              0.1111111111111111,
              "#46039f"
             ],
             [
              0.2222222222222222,
              "#7201a8"
             ],
             [
              0.3333333333333333,
              "#9c179e"
             ],
             [
              0.4444444444444444,
              "#bd3786"
             ],
             [
              0.5555555555555556,
              "#d8576b"
             ],
             [
              0.6666666666666666,
              "#ed7953"
             ],
             [
              0.7777777777777778,
              "#fb9f3a"
             ],
             [
              0.8888888888888888,
              "#fdca26"
             ],
             [
              1,
              "#f0f921"
             ]
            ],
            "type": "contour"
           }
          ],
          "contourcarpet": [
           {
            "colorbar": {
             "outlinewidth": 0,
             "ticks": ""
            },
            "type": "contourcarpet"
           }
          ],
          "heatmap": [
           {
            "colorbar": {
             "outlinewidth": 0,
             "ticks": ""
            },
            "colorscale": [
             [
              0,
              "#0d0887"
             ],
             [
              0.1111111111111111,
              "#46039f"
             ],
             [
              0.2222222222222222,
              "#7201a8"
             ],
             [
              0.3333333333333333,
              "#9c179e"
             ],
             [
              0.4444444444444444,
              "#bd3786"
             ],
             [
              0.5555555555555556,
              "#d8576b"
             ],
             [
              0.6666666666666666,
              "#ed7953"
             ],
             [
              0.7777777777777778,
              "#fb9f3a"
             ],
             [
              0.8888888888888888,
              "#fdca26"
             ],
             [
              1,
              "#f0f921"
             ]
            ],
            "type": "heatmap"
           }
          ],
          "heatmapgl": [
           {
            "colorbar": {
             "outlinewidth": 0,
             "ticks": ""
            },
            "colorscale": [
             [
              0,
              "#0d0887"
             ],
             [
              0.1111111111111111,
              "#46039f"
             ],
             [
              0.2222222222222222,
              "#7201a8"
             ],
             [
              0.3333333333333333,
              "#9c179e"
             ],
             [
              0.4444444444444444,
              "#bd3786"
             ],
             [
              0.5555555555555556,
              "#d8576b"
             ],
             [
              0.6666666666666666,
              "#ed7953"
             ],
             [
              0.7777777777777778,
              "#fb9f3a"
             ],
             [
              0.8888888888888888,
              "#fdca26"
             ],
             [
              1,
              "#f0f921"
             ]
            ],
            "type": "heatmapgl"
           }
          ],
          "histogram": [
           {
            "marker": {
             "pattern": {
              "fillmode": "overlay",
              "size": 10,
              "solidity": 0.2
             }
            },
            "type": "histogram"
           }
          ],
          "histogram2d": [
           {
            "colorbar": {
             "outlinewidth": 0,
             "ticks": ""
            },
            "colorscale": [
             [
              0,
              "#0d0887"
             ],
             [
              0.1111111111111111,
              "#46039f"
             ],
             [
              0.2222222222222222,
              "#7201a8"
             ],
             [
              0.3333333333333333,
              "#9c179e"
             ],
             [
              0.4444444444444444,
              "#bd3786"
             ],
             [
              0.5555555555555556,
              "#d8576b"
             ],
             [
              0.6666666666666666,
              "#ed7953"
             ],
             [
              0.7777777777777778,
              "#fb9f3a"
             ],
             [
              0.8888888888888888,
              "#fdca26"
             ],
             [
              1,
              "#f0f921"
             ]
            ],
            "type": "histogram2d"
           }
          ],
          "histogram2dcontour": [
           {
            "colorbar": {
             "outlinewidth": 0,
             "ticks": ""
            },
            "colorscale": [
             [
              0,
              "#0d0887"
             ],
             [
              0.1111111111111111,
              "#46039f"
             ],
             [
              0.2222222222222222,
              "#7201a8"
             ],
             [
              0.3333333333333333,
              "#9c179e"
             ],
             [
              0.4444444444444444,
              "#bd3786"
             ],
             [
              0.5555555555555556,
              "#d8576b"
             ],
             [
              0.6666666666666666,
              "#ed7953"
             ],
             [
              0.7777777777777778,
              "#fb9f3a"
             ],
             [
              0.8888888888888888,
              "#fdca26"
             ],
             [
              1,
              "#f0f921"
             ]
            ],
            "type": "histogram2dcontour"
           }
          ],
          "mesh3d": [
           {
            "colorbar": {
             "outlinewidth": 0,
             "ticks": ""
            },
            "type": "mesh3d"
           }
          ],
          "parcoords": [
           {
            "line": {
             "colorbar": {
              "outlinewidth": 0,
              "ticks": ""
             }
            },
            "type": "parcoords"
           }
          ],
          "pie": [
           {
            "automargin": true,
            "type": "pie"
           }
          ],
          "scatter": [
           {
            "fillpattern": {
             "fillmode": "overlay",
             "size": 10,
             "solidity": 0.2
            },
            "type": "scatter"
           }
          ],
          "scatter3d": [
           {
            "line": {
             "colorbar": {
              "outlinewidth": 0,
              "ticks": ""
             }
            },
            "marker": {
             "colorbar": {
              "outlinewidth": 0,
              "ticks": ""
             }
            },
            "type": "scatter3d"
           }
          ],
          "scattercarpet": [
           {
            "marker": {
             "colorbar": {
              "outlinewidth": 0,
              "ticks": ""
             }
            },
            "type": "scattercarpet"
           }
          ],
          "scattergeo": [
           {
            "marker": {
             "colorbar": {
              "outlinewidth": 0,
              "ticks": ""
             }
            },
            "type": "scattergeo"
           }
          ],
          "scattergl": [
           {
            "marker": {
             "colorbar": {
              "outlinewidth": 0,
              "ticks": ""
             }
            },
            "type": "scattergl"
           }
          ],
          "scattermapbox": [
           {
            "marker": {
             "colorbar": {
              "outlinewidth": 0,
              "ticks": ""
             }
            },
            "type": "scattermapbox"
           }
          ],
          "scatterpolar": [
           {
            "marker": {
             "colorbar": {
              "outlinewidth": 0,
              "ticks": ""
             }
            },
            "type": "scatterpolar"
           }
          ],
          "scatterpolargl": [
           {
            "marker": {
             "colorbar": {
              "outlinewidth": 0,
              "ticks": ""
             }
            },
            "type": "scatterpolargl"
           }
          ],
          "scatterternary": [
           {
            "marker": {
             "colorbar": {
              "outlinewidth": 0,
              "ticks": ""
             }
            },
            "type": "scatterternary"
           }
          ],
          "surface": [
           {
            "colorbar": {
             "outlinewidth": 0,
             "ticks": ""
            },
            "colorscale": [
             [
              0,
              "#0d0887"
             ],
             [
              0.1111111111111111,
              "#46039f"
             ],
             [
              0.2222222222222222,
              "#7201a8"
             ],
             [
              0.3333333333333333,
              "#9c179e"
             ],
             [
              0.4444444444444444,
              "#bd3786"
             ],
             [
              0.5555555555555556,
              "#d8576b"
             ],
             [
              0.6666666666666666,
              "#ed7953"
             ],
             [
              0.7777777777777778,
              "#fb9f3a"
             ],
             [
              0.8888888888888888,
              "#fdca26"
             ],
             [
              1,
              "#f0f921"
             ]
            ],
            "type": "surface"
           }
          ],
          "table": [
           {
            "cells": {
             "fill": {
              "color": "#EBF0F8"
             },
             "line": {
              "color": "white"
             }
            },
            "header": {
             "fill": {
              "color": "#C8D4E3"
             },
             "line": {
              "color": "white"
             }
            },
            "type": "table"
           }
          ]
         },
         "layout": {
          "annotationdefaults": {
           "arrowcolor": "#2a3f5f",
           "arrowhead": 0,
           "arrowwidth": 1
          },
          "autotypenumbers": "strict",
          "coloraxis": {
           "colorbar": {
            "outlinewidth": 0,
            "ticks": ""
           }
          },
          "colorscale": {
           "diverging": [
            [
             0,
             "#8e0152"
            ],
            [
             0.1,
             "#c51b7d"
            ],
            [
             0.2,
             "#de77ae"
            ],
            [
             0.3,
             "#f1b6da"
            ],
            [
             0.4,
             "#fde0ef"
            ],
            [
             0.5,
             "#f7f7f7"
            ],
            [
             0.6,
             "#e6f5d0"
            ],
            [
             0.7,
             "#b8e186"
            ],
            [
             0.8,
             "#7fbc41"
            ],
            [
             0.9,
             "#4d9221"
            ],
            [
             1,
             "#276419"
            ]
           ],
           "sequential": [
            [
             0,
             "#0d0887"
            ],
            [
             0.1111111111111111,
             "#46039f"
            ],
            [
             0.2222222222222222,
             "#7201a8"
            ],
            [
             0.3333333333333333,
             "#9c179e"
            ],
            [
             0.4444444444444444,
             "#bd3786"
            ],
            [
             0.5555555555555556,
             "#d8576b"
            ],
            [
             0.6666666666666666,
             "#ed7953"
            ],
            [
             0.7777777777777778,
             "#fb9f3a"
            ],
            [
             0.8888888888888888,
             "#fdca26"
            ],
            [
             1,
             "#f0f921"
            ]
           ],
           "sequentialminus": [
            [
             0,
             "#0d0887"
            ],
            [
             0.1111111111111111,
             "#46039f"
            ],
            [
             0.2222222222222222,
             "#7201a8"
            ],
            [
             0.3333333333333333,
             "#9c179e"
            ],
            [
             0.4444444444444444,
             "#bd3786"
            ],
            [
             0.5555555555555556,
             "#d8576b"
            ],
            [
             0.6666666666666666,
             "#ed7953"
            ],
            [
             0.7777777777777778,
             "#fb9f3a"
            ],
            [
             0.8888888888888888,
             "#fdca26"
            ],
            [
             1,
             "#f0f921"
            ]
           ]
          },
          "colorway": [
           "#636efa",
           "#EF553B",
           "#00cc96",
           "#ab63fa",
           "#FFA15A",
           "#19d3f3",
           "#FF6692",
           "#B6E880",
           "#FF97FF",
           "#FECB52"
          ],
          "font": {
           "color": "#2a3f5f"
          },
          "geo": {
           "bgcolor": "white",
           "lakecolor": "white",
           "landcolor": "#E5ECF6",
           "showlakes": true,
           "showland": true,
           "subunitcolor": "white"
          },
          "hoverlabel": {
           "align": "left"
          },
          "hovermode": "closest",
          "mapbox": {
           "style": "light"
          },
          "paper_bgcolor": "white",
          "plot_bgcolor": "#E5ECF6",
          "polar": {
           "angularaxis": {
            "gridcolor": "white",
            "linecolor": "white",
            "ticks": ""
           },
           "bgcolor": "#E5ECF6",
           "radialaxis": {
            "gridcolor": "white",
            "linecolor": "white",
            "ticks": ""
           }
          },
          "scene": {
           "xaxis": {
            "backgroundcolor": "#E5ECF6",
            "gridcolor": "white",
            "gridwidth": 2,
            "linecolor": "white",
            "showbackground": true,
            "ticks": "",
            "zerolinecolor": "white"
           },
           "yaxis": {
            "backgroundcolor": "#E5ECF6",
            "gridcolor": "white",
            "gridwidth": 2,
            "linecolor": "white",
            "showbackground": true,
            "ticks": "",
            "zerolinecolor": "white"
           },
           "zaxis": {
            "backgroundcolor": "#E5ECF6",
            "gridcolor": "white",
            "gridwidth": 2,
            "linecolor": "white",
            "showbackground": true,
            "ticks": "",
            "zerolinecolor": "white"
           }
          },
          "shapedefaults": {
           "line": {
            "color": "#2a3f5f"
           }
          },
          "ternary": {
           "aaxis": {
            "gridcolor": "white",
            "linecolor": "white",
            "ticks": ""
           },
           "baxis": {
            "gridcolor": "white",
            "linecolor": "white",
            "ticks": ""
           },
           "bgcolor": "#E5ECF6",
           "caxis": {
            "gridcolor": "white",
            "linecolor": "white",
            "ticks": ""
           }
          },
          "title": {
           "x": 0.05
          },
          "xaxis": {
           "automargin": true,
           "gridcolor": "white",
           "linecolor": "white",
           "ticks": "",
           "title": {
            "standoff": 15
           },
           "zerolinecolor": "white",
           "zerolinewidth": 2
          },
          "yaxis": {
           "automargin": true,
           "gridcolor": "white",
           "linecolor": "white",
           "ticks": "",
           "title": {
            "standoff": 15
           },
           "zerolinecolor": "white",
           "zerolinewidth": 2
          }
         }
        },
        "title": {
         "text": "新增Issues类型分布",
         "x": 0.5,
         "xanchor": "center"
        },
        "width": 1500
       }
      }
     },
     "metadata": {},
     "output_type": "display_data"
    }
   ],
   "source": [
    "ana.part_3a().show()"
   ]
  },
  {
   "cell_type": "code",
   "execution_count": 9,
   "metadata": {},
   "outputs": [
    {
     "data": {
      "application/vnd.plotly.v1+json": {
       "config": {
        "plotlyServerURL": "https://plot.ly"
       },
       "data": [
        {
         "domain": {
          "x": [
           0,
           1
          ],
          "y": [
           0,
           1
          ]
         },
         "hovertemplate": "label=%{label}<br>value=%{value}<extra></extra>",
         "labels": [
          "Path",
          "Routing",
          "其他",
          "变道",
          "速度"
         ],
         "legendgroup": "",
         "name": "",
         "showlegend": true,
         "textinfo": "percent+label",
         "textposition": "inside",
         "type": "pie",
         "values": [
          9,
          1,
          9,
          19,
          5
         ]
        }
       ],
       "layout": {
        "height": 800,
        "legend": {
         "tracegroupgap": 0
        },
        "margin": {
         "t": 60
        },
        "template": {
         "data": {
          "bar": [
           {
            "error_x": {
             "color": "#2a3f5f"
            },
            "error_y": {
             "color": "#2a3f5f"
            },
            "marker": {
             "line": {
              "color": "#E5ECF6",
              "width": 0.5
             },
             "pattern": {
              "fillmode": "overlay",
              "size": 10,
              "solidity": 0.2
             }
            },
            "type": "bar"
           }
          ],
          "barpolar": [
           {
            "marker": {
             "line": {
              "color": "#E5ECF6",
              "width": 0.5
             },
             "pattern": {
              "fillmode": "overlay",
              "size": 10,
              "solidity": 0.2
             }
            },
            "type": "barpolar"
           }
          ],
          "carpet": [
           {
            "aaxis": {
             "endlinecolor": "#2a3f5f",
             "gridcolor": "white",
             "linecolor": "white",
             "minorgridcolor": "white",
             "startlinecolor": "#2a3f5f"
            },
            "baxis": {
             "endlinecolor": "#2a3f5f",
             "gridcolor": "white",
             "linecolor": "white",
             "minorgridcolor": "white",
             "startlinecolor": "#2a3f5f"
            },
            "type": "carpet"
           }
          ],
          "choropleth": [
           {
            "colorbar": {
             "outlinewidth": 0,
             "ticks": ""
            },
            "type": "choropleth"
           }
          ],
          "contour": [
           {
            "colorbar": {
             "outlinewidth": 0,
             "ticks": ""
            },
            "colorscale": [
             [
              0,
              "#0d0887"
             ],
             [
              0.1111111111111111,
              "#46039f"
             ],
             [
              0.2222222222222222,
              "#7201a8"
             ],
             [
              0.3333333333333333,
              "#9c179e"
             ],
             [
              0.4444444444444444,
              "#bd3786"
             ],
             [
              0.5555555555555556,
              "#d8576b"
             ],
             [
              0.6666666666666666,
              "#ed7953"
             ],
             [
              0.7777777777777778,
              "#fb9f3a"
             ],
             [
              0.8888888888888888,
              "#fdca26"
             ],
             [
              1,
              "#f0f921"
             ]
            ],
            "type": "contour"
           }
          ],
          "contourcarpet": [
           {
            "colorbar": {
             "outlinewidth": 0,
             "ticks": ""
            },
            "type": "contourcarpet"
           }
          ],
          "heatmap": [
           {
            "colorbar": {
             "outlinewidth": 0,
             "ticks": ""
            },
            "colorscale": [
             [
              0,
              "#0d0887"
             ],
             [
              0.1111111111111111,
              "#46039f"
             ],
             [
              0.2222222222222222,
              "#7201a8"
             ],
             [
              0.3333333333333333,
              "#9c179e"
             ],
             [
              0.4444444444444444,
              "#bd3786"
             ],
             [
              0.5555555555555556,
              "#d8576b"
             ],
             [
              0.6666666666666666,
              "#ed7953"
             ],
             [
              0.7777777777777778,
              "#fb9f3a"
             ],
             [
              0.8888888888888888,
              "#fdca26"
             ],
             [
              1,
              "#f0f921"
             ]
            ],
            "type": "heatmap"
           }
          ],
          "heatmapgl": [
           {
            "colorbar": {
             "outlinewidth": 0,
             "ticks": ""
            },
            "colorscale": [
             [
              0,
              "#0d0887"
             ],
             [
              0.1111111111111111,
              "#46039f"
             ],
             [
              0.2222222222222222,
              "#7201a8"
             ],
             [
              0.3333333333333333,
              "#9c179e"
             ],
             [
              0.4444444444444444,
              "#bd3786"
             ],
             [
              0.5555555555555556,
              "#d8576b"
             ],
             [
              0.6666666666666666,
              "#ed7953"
             ],
             [
              0.7777777777777778,
              "#fb9f3a"
             ],
             [
              0.8888888888888888,
              "#fdca26"
             ],
             [
              1,
              "#f0f921"
             ]
            ],
            "type": "heatmapgl"
           }
          ],
          "histogram": [
           {
            "marker": {
             "pattern": {
              "fillmode": "overlay",
              "size": 10,
              "solidity": 0.2
             }
            },
            "type": "histogram"
           }
          ],
          "histogram2d": [
           {
            "colorbar": {
             "outlinewidth": 0,
             "ticks": ""
            },
            "colorscale": [
             [
              0,
              "#0d0887"
             ],
             [
              0.1111111111111111,
              "#46039f"
             ],
             [
              0.2222222222222222,
              "#7201a8"
             ],
             [
              0.3333333333333333,
              "#9c179e"
             ],
             [
              0.4444444444444444,
              "#bd3786"
             ],
             [
              0.5555555555555556,
              "#d8576b"
             ],
             [
              0.6666666666666666,
              "#ed7953"
             ],
             [
              0.7777777777777778,
              "#fb9f3a"
             ],
             [
              0.8888888888888888,
              "#fdca26"
             ],
             [
              1,
              "#f0f921"
             ]
            ],
            "type": "histogram2d"
           }
          ],
          "histogram2dcontour": [
           {
            "colorbar": {
             "outlinewidth": 0,
             "ticks": ""
            },
            "colorscale": [
             [
              0,
              "#0d0887"
             ],
             [
              0.1111111111111111,
              "#46039f"
             ],
             [
              0.2222222222222222,
              "#7201a8"
             ],
             [
              0.3333333333333333,
              "#9c179e"
             ],
             [
              0.4444444444444444,
              "#bd3786"
             ],
             [
              0.5555555555555556,
              "#d8576b"
             ],
             [
              0.6666666666666666,
              "#ed7953"
             ],
             [
              0.7777777777777778,
              "#fb9f3a"
             ],
             [
              0.8888888888888888,
              "#fdca26"
             ],
             [
              1,
              "#f0f921"
             ]
            ],
            "type": "histogram2dcontour"
           }
          ],
          "mesh3d": [
           {
            "colorbar": {
             "outlinewidth": 0,
             "ticks": ""
            },
            "type": "mesh3d"
           }
          ],
          "parcoords": [
           {
            "line": {
             "colorbar": {
              "outlinewidth": 0,
              "ticks": ""
             }
            },
            "type": "parcoords"
           }
          ],
          "pie": [
           {
            "automargin": true,
            "type": "pie"
           }
          ],
          "scatter": [
           {
            "fillpattern": {
             "fillmode": "overlay",
             "size": 10,
             "solidity": 0.2
            },
            "type": "scatter"
           }
          ],
          "scatter3d": [
           {
            "line": {
             "colorbar": {
              "outlinewidth": 0,
              "ticks": ""
             }
            },
            "marker": {
             "colorbar": {
              "outlinewidth": 0,
              "ticks": ""
             }
            },
            "type": "scatter3d"
           }
          ],
          "scattercarpet": [
           {
            "marker": {
             "colorbar": {
              "outlinewidth": 0,
              "ticks": ""
             }
            },
            "type": "scattercarpet"
           }
          ],
          "scattergeo": [
           {
            "marker": {
             "colorbar": {
              "outlinewidth": 0,
              "ticks": ""
             }
            },
            "type": "scattergeo"
           }
          ],
          "scattergl": [
           {
            "marker": {
             "colorbar": {
              "outlinewidth": 0,
              "ticks": ""
             }
            },
            "type": "scattergl"
           }
          ],
          "scattermapbox": [
           {
            "marker": {
             "colorbar": {
              "outlinewidth": 0,
              "ticks": ""
             }
            },
            "type": "scattermapbox"
           }
          ],
          "scatterpolar": [
           {
            "marker": {
             "colorbar": {
              "outlinewidth": 0,
              "ticks": ""
             }
            },
            "type": "scatterpolar"
           }
          ],
          "scatterpolargl": [
           {
            "marker": {
             "colorbar": {
              "outlinewidth": 0,
              "ticks": ""
             }
            },
            "type": "scatterpolargl"
           }
          ],
          "scatterternary": [
           {
            "marker": {
             "colorbar": {
              "outlinewidth": 0,
              "ticks": ""
             }
            },
            "type": "scatterternary"
           }
          ],
          "surface": [
           {
            "colorbar": {
             "outlinewidth": 0,
             "ticks": ""
            },
            "colorscale": [
             [
              0,
              "#0d0887"
             ],
             [
              0.1111111111111111,
              "#46039f"
             ],
             [
              0.2222222222222222,
              "#7201a8"
             ],
             [
              0.3333333333333333,
              "#9c179e"
             ],
             [
              0.4444444444444444,
              "#bd3786"
             ],
             [
              0.5555555555555556,
              "#d8576b"
             ],
             [
              0.6666666666666666,
              "#ed7953"
             ],
             [
              0.7777777777777778,
              "#fb9f3a"
             ],
             [
              0.8888888888888888,
              "#fdca26"
             ],
             [
              1,
              "#f0f921"
             ]
            ],
            "type": "surface"
           }
          ],
          "table": [
           {
            "cells": {
             "fill": {
              "color": "#EBF0F8"
             },
             "line": {
              "color": "white"
             }
            },
            "header": {
             "fill": {
              "color": "#C8D4E3"
             },
             "line": {
              "color": "white"
             }
            },
            "type": "table"
           }
          ]
         },
         "layout": {
          "annotationdefaults": {
           "arrowcolor": "#2a3f5f",
           "arrowhead": 0,
           "arrowwidth": 1
          },
          "autotypenumbers": "strict",
          "coloraxis": {
           "colorbar": {
            "outlinewidth": 0,
            "ticks": ""
           }
          },
          "colorscale": {
           "diverging": [
            [
             0,
             "#8e0152"
            ],
            [
             0.1,
             "#c51b7d"
            ],
            [
             0.2,
             "#de77ae"
            ],
            [
             0.3,
             "#f1b6da"
            ],
            [
             0.4,
             "#fde0ef"
            ],
            [
             0.5,
             "#f7f7f7"
            ],
            [
             0.6,
             "#e6f5d0"
            ],
            [
             0.7,
             "#b8e186"
            ],
            [
             0.8,
             "#7fbc41"
            ],
            [
             0.9,
             "#4d9221"
            ],
            [
             1,
             "#276419"
            ]
           ],
           "sequential": [
            [
             0,
             "#0d0887"
            ],
            [
             0.1111111111111111,
             "#46039f"
            ],
            [
             0.2222222222222222,
             "#7201a8"
            ],
            [
             0.3333333333333333,
             "#9c179e"
            ],
            [
             0.4444444444444444,
             "#bd3786"
            ],
            [
             0.5555555555555556,
             "#d8576b"
            ],
            [
             0.6666666666666666,
             "#ed7953"
            ],
            [
             0.7777777777777778,
             "#fb9f3a"
            ],
            [
             0.8888888888888888,
             "#fdca26"
            ],
            [
             1,
             "#f0f921"
            ]
           ],
           "sequentialminus": [
            [
             0,
             "#0d0887"
            ],
            [
             0.1111111111111111,
             "#46039f"
            ],
            [
             0.2222222222222222,
             "#7201a8"
            ],
            [
             0.3333333333333333,
             "#9c179e"
            ],
            [
             0.4444444444444444,
             "#bd3786"
            ],
            [
             0.5555555555555556,
             "#d8576b"
            ],
            [
             0.6666666666666666,
             "#ed7953"
            ],
            [
             0.7777777777777778,
             "#fb9f3a"
            ],
            [
             0.8888888888888888,
             "#fdca26"
            ],
            [
             1,
             "#f0f921"
            ]
           ]
          },
          "colorway": [
           "#636efa",
           "#EF553B",
           "#00cc96",
           "#ab63fa",
           "#FFA15A",
           "#19d3f3",
           "#FF6692",
           "#B6E880",
           "#FF97FF",
           "#FECB52"
          ],
          "font": {
           "color": "#2a3f5f"
          },
          "geo": {
           "bgcolor": "white",
           "lakecolor": "white",
           "landcolor": "#E5ECF6",
           "showlakes": true,
           "showland": true,
           "subunitcolor": "white"
          },
          "hoverlabel": {
           "align": "left"
          },
          "hovermode": "closest",
          "mapbox": {
           "style": "light"
          },
          "paper_bgcolor": "white",
          "plot_bgcolor": "#E5ECF6",
          "polar": {
           "angularaxis": {
            "gridcolor": "white",
            "linecolor": "white",
            "ticks": ""
           },
           "bgcolor": "#E5ECF6",
           "radialaxis": {
            "gridcolor": "white",
            "linecolor": "white",
            "ticks": ""
           }
          },
          "scene": {
           "xaxis": {
            "backgroundcolor": "#E5ECF6",
            "gridcolor": "white",
            "gridwidth": 2,
            "linecolor": "white",
            "showbackground": true,
            "ticks": "",
            "zerolinecolor": "white"
           },
           "yaxis": {
            "backgroundcolor": "#E5ECF6",
            "gridcolor": "white",
            "gridwidth": 2,
            "linecolor": "white",
            "showbackground": true,
            "ticks": "",
            "zerolinecolor": "white"
           },
           "zaxis": {
            "backgroundcolor": "#E5ECF6",
            "gridcolor": "white",
            "gridwidth": 2,
            "linecolor": "white",
            "showbackground": true,
            "ticks": "",
            "zerolinecolor": "white"
           }
          },
          "shapedefaults": {
           "line": {
            "color": "#2a3f5f"
           }
          },
          "ternary": {
           "aaxis": {
            "gridcolor": "white",
            "linecolor": "white",
            "ticks": ""
           },
           "baxis": {
            "gridcolor": "white",
            "linecolor": "white",
            "ticks": ""
           },
           "bgcolor": "#E5ECF6",
           "caxis": {
            "gridcolor": "white",
            "linecolor": "white",
            "ticks": ""
           }
          },
          "title": {
           "x": 0.05
          },
          "xaxis": {
           "automargin": true,
           "gridcolor": "white",
           "linecolor": "white",
           "ticks": "",
           "title": {
            "standoff": 15
           },
           "zerolinecolor": "white",
           "zerolinewidth": 2
          },
          "yaxis": {
           "automargin": true,
           "gridcolor": "white",
           "linecolor": "white",
           "ticks": "",
           "title": {
            "standoff": 15
           },
           "zerolinecolor": "white",
           "zerolinewidth": 2
          }
         }
        },
        "title": {
         "text": "新增Issues类型分布",
         "x": 0.5,
         "xanchor": "center"
        },
        "width": 1000
       }
      }
     },
     "metadata": {},
     "output_type": "display_data"
    }
   ],
   "source": [
    "ana.part_3b().show()"
   ]
  },
  {
   "cell_type": "code",
   "execution_count": 10,
   "metadata": {},
   "outputs": [
    {
     "data": {
      "text/markdown": [
       "| jiraId                                                            | summary                                                                                                 | 问题类别描述                                                    |\n",
       "|:------------------------------------------------------------------|:--------------------------------------------------------------------------------------------------------|:----------------------------------------------------------------|\n",
       "| [PLANNING-14092](https://jira.deeproute.ai/browse/PLANNING-14092) | planning-prediction-rasmap-dev=0.63.3;右转时出停止线不走                                                | 未分类问题（ISSUE_UNCLASSIFIED）                                |\n",
       "| [PLANNING-14091](https://jira.deeproute.ai/browse/PLANNING-14091) | planning-prediction-rasmap-dev=0.63.3; 车辆path往马路牙上规划，走到了人行道上                           | 未分类问题（ISSUE_UNCLASSIFIED）                                |\n",
       "| [PLANNING-14095](https://jira.deeproute.ai/browse/PLANNING-14095) | planning-prediction-rasmap-dev=0.63.3;红绿灯path往右侧实线欲变道                                        | 交规 - 压实线/双黄线/半实半虚线行驶（ DRIVING_OVER_SOLID_LINE） |\n",
       "| [PLANNING-14096](https://jira.deeproute.ai/browse/PLANNING-14096) | planning-prediction-rasmap-dev=0.63.3;红绿灯路口直行绿灯时车辆出停止线不走                              | 未分类问题（ISSUE_UNCLASSIFIED）                                |\n",
       "| [PLANNING-14093](https://jira.deeproute.ai/browse/PLANNING-14093) | planning-prediction-rasmap-dev=0.63.3;path往马路牙子上规划走                                            | 未分类问题（ISSUE_UNCLASSIFIED）                                |\n",
       "| [PLANNING-14094](https://jira.deeproute.ai/browse/PLANNING-14094) | planning-prediction-rasmap-dev=0.63.3;path往马路牙子上行驶，紧接着红绿灯路口左转绿灯时出停止线不走      | 未分类问题（ISSUE_UNCLASSIFIED）                                |\n",
       "| [PLANNING-13823](https://jira.deeproute.ai/browse/PLANNING-13823) | planning-prediction-dev=0.63.3；测试车辆在变道过程中减速过多                                            | 通行效率 - 通行效率过低（ LOW_TRAFFIC_EFFICIENCY）              |\n",
       "| [PLANNING-13776](https://jira.deeproute.ai/browse/PLANNING-13776) | planning-prediction-dev=0.63.3;高速变道时，测试车辆偏离path线                                           | 未分类问题（ISSUE_UNCLASSIFIED）                                |\n",
       "| [PLANNING-13949](https://jira.deeproute.ai/browse/PLANNING-13949) | planning-prediction-dev=0.63.3;遇障碍压实线变道                                                         | 交规 - 压实线/双黄线/半实半虚线行驶（ DRIVING_OVER_SOLID_LINE） |\n",
       "| [PLANNING-13887](https://jira.deeproute.ai/browse/PLANNING-13887) | planning-prediction-dev=0.63.3;车辆遇 左侧公交车变道斜插车头前，未减速避让                              | 安全 - 太靠近他车（TOO_CLOSE_TO_VEHICLE）                       |\n",
       "| [PLANNING-13888](https://jira.deeproute.ai/browse/PLANNING-13888) | planning-prediction-dev=0.63.3;车辆直行通过路口时选择最右侧违停车辆较多的车道，然后再变道，降低通行效率 | 通行效率 -  不必要换道（UNNECESSARY_LANE_CHANGE）               |\n",
       "| [PLANNING-13890](https://jira.deeproute.ai/browse/PLANNING-13890) | planning-prediction-dev=0.63.3;车辆压实线行驶                                                           | 交规 - 压实线/双黄线/半实半虚线行驶（ DRIVING_OVER_SOLID_LINE） |\n",
       "| [PLANNING-13814](https://jira.deeproute.ai/browse/PLANNING-13814) | planning-prediction-dev=0.63.3;路口直行时，有对向车道社会车辆左转，未减速避让                           | 安全 - 太靠近他车（TOO_CLOSE_TO_VEHICLE）                       |\n",
       "| [PLANNING-13717](https://jira.deeproute.ai/browse/PLANNING-13717) | planning-prediction-dev=0.63.3;终点停车不规范，没有靠边停车                                             | 交规                                                            |\n",
       "| [PLANNING-13828](https://jira.deeproute.ai/browse/PLANNING-13828) | planning-prediction-dev=0.63.3;直行通过红绿灯路口时，莫名点刹                                           | 体感 - 点刹（  SLIGHT_BRAKE）                                   |\n",
       "| [PLANNING-13768](https://jira.deeproute.ai/browse/PLANNING-13768) | planning-prediction-dev=0.63.3;红绿灯路口，实线变道                                                     | 交规 - 压实线/双黄线/半实半虚线行驶（ DRIVING_OVER_SOLID_LINE） |\n",
       "| [PLANNING-13834](https://jira.deeproute.ai/browse/PLANNING-13834) | planning-prediction-dev=0.63.3;绕行效率慢，应该提前变道                                                 | 通行效率 - 通行效率过低（ LOW_TRAFFIC_EFFICIENCY）              |\n",
       "| [PLANNING-13813](https://jira.deeproute.ai/browse/PLANNING-13813) | planning-prediction-dev=0.63.3;直行时出现不明停止线（emergency stop）                                   | 通行效率                                                        |\n",
       "| [PLANNING-13821](https://jira.deeproute.ai/browse/PLANNING-13821) | planning-prediction-dev=0.63.3;直行时不明减速至停车                                                     | 未分类问题（ISSUE_UNCLASSIFIED）                                |\n",
       "| [PLANNING-13765](https://jira.deeproute.ai/browse/PLANNING-13765) | planning-prediction-dev=0.63.3;测试车辆没有靠边停车                                                     | 流程                                                            |\n",
       "| [PLANNING-13824](https://jira.deeproute.ai/browse/PLANNING-13824) | planning-prediction-dev=0.63.3;测试车辆没有压线绕障                                                     | 通行效率 - 通行效率过低（ LOW_TRAFFIC_EFFICIENCY）              |\n",
       "| [PLANNING-13769](https://jira.deeproute.ai/browse/PLANNING-13769) | planning-prediction-dev=0.63.3;测试车辆变道，转向太大                                                   | 体感 -  横向转向过大（ EXCESSIVE_LATERAL_STEER）                |\n",
       "| [PLANNING-13764](https://jira.deeproute.ai/browse/PLANNING-13764) | planning-prediction-dev=0.63.3;测试车辆出现不明点刹                                                     | 体感 - 点刹（  SLIGHT_BRAKE）                                   |\n",
       "| [PLANNING-13822](https://jira.deeproute.ai/browse/PLANNING-13822) | planning-prediction-dev=0.63.3;测试车辆不必要变道                                                       | 通行效率 -  不必要换道（UNNECESSARY_LANE_CHANGE）               |\n",
       "| [PLANNING-13779](https://jira.deeproute.ai/browse/PLANNING-13779) | planning-prediction-dev=0.63.3;测试车辆偏离path线                                                       | 未分类问题（ISSUE_UNCLASSIFIED）                                |\n",
       "| [PLANNING-13778](https://jira.deeproute.ai/browse/PLANNING-13778) | planning-prediction-dev=0.63.3; 感知出低速前前车导致减速                                                | 体感 - 点刹（  SLIGHT_BRAKE）                                   |\n",
       "| [PLANNING-13773](https://jira.deeproute.ai/browse/PLANNING-13773) | planning-prediction-dev=0.63.3;测试车辆不必要一直刹车礼让后车                                           | 体感 - 点刹（  SLIGHT_BRAKE）                                   |\n",
       "| [PLANNING-13780](https://jira.deeproute.ai/browse/PLANNING-13780) | planning-prediction-dev=0.63.3;测试车辆一直压着边线行驶                                                 | 交规 - 不按规定路线行驶（OFF_ROUTING）                          |\n",
       "| [PLANNING-13833](https://jira.deeproute.ai/browse/PLANNING-13833) | planning-prediction-dev=0.63.3;来回变道，体感差                                                         | 通行效率 - 通行效率过低（ LOW_TRAFFIC_EFFICIENCY）              |\n",
       "| [PLANNING-13829](https://jira.deeproute.ai/browse/PLANNING-13829) | planning-prediction-dev=0.63.3;掉头效率低出现停止线，接管                                               | 通行效率 - 通行效率过低（ LOW_TRAFFIC_EFFICIENCY）              |\n",
       "| [PLANNING-13947](https://jira.deeproute.ai/browse/PLANNING-13947) | planning-prediction-dev=0.63.3;掉头效率太慢                                                             | 通行效率 - 通行效率过低（ LOW_TRAFFIC_EFFICIENCY）              |\n",
       "| [PLANNING-13830](https://jira.deeproute.ai/browse/PLANNING-13830) | planning-prediction-dev=0.63.3;对象车道有车行驶时，车辆强行抢道绕行                                     | 安全 - 太靠近他车（TOO_CLOSE_TO_VEHICLE）                       |\n",
       "| [PLANNING-13967](https://jira.deeproute.ai/browse/PLANNING-13967) | planning-prediction-dev=0.63.3;右侧突然窜出车辆。手动横向接管。                                         | 安全 - 太靠近他车（TOO_CLOSE_TO_VEHICLE）                       |\n",
       "| [PLANNING-13968](https://jira.deeproute.ai/browse/PLANNING-13968) | planning-prediction-dev=0.63.3;变道不看后方来车。                                                       | 安全 - 危险变道（DANGEROUS_LANE_CHANGE）                        |\n",
       "| [PLANNING-13819](https://jira.deeproute.ai/browse/PLANNING-13819) | planning-prediction-dev=0.63.3;反复规划、取消变道，path甩动                                             | 体感                                                            |\n",
       "| [PLANNING-13731](https://jira.deeproute.ai/browse/PLANNING-13731) | planning-prediction-dev=0.63.3;前方马上左拐，堵车过程中，多余变道                                       | 通行效率 -  不必要换道（UNNECESSARY_LANE_CHANGE）               |\n",
       "| [PLANNING-13811](https://jira.deeproute.ai/browse/PLANNING-13811) | planning-prediction-dev=0.63.3;前方需要右转，一直走直行车道随后出停止线                                 | 未分类问题（ISSUE_UNCLASSIFIED）                                |\n",
       "| [PLANNING-13831](https://jira.deeproute.ai/browse/PLANNING-13831) | planning-prediction-dev=0.63.3;与行人交互时无避让，prediction线也有异常                                 | 安全 -  太靠近行人（TOO_CLOSE_TO_PEDESTRIAN）                   |\n",
       "| [PLANNING-13812](https://jira.deeproute.ai/browse/PLANNING-13812) | planning-prediction-dev=0.63.3;不必要绕行规划                                                           | 通行效率                                                        |\n",
       "| [PLANNING-13777](https://jira.deeproute.ai/browse/PLANNING-13777) | planning-prediction-dev=0.63.3;不必要点刹                                                               | 体感 - 点刹（  SLIGHT_BRAKE）                                   |\n",
       "| [PLANNING-13818](https://jira.deeproute.ai/browse/PLANNING-13818) | planning-prediction-dev=0.63.3;不必要急刹，通行效率低                                                   | 安全                                                            |\n",
       "| [PLANNING-13827](https://jira.deeproute.ai/browse/PLANNING-13827) | planning-prediction-dev=0.63.3;不必要变道，想压实线变道                                                 | 通行效率 -  不必要换道（UNNECESSARY_LANE_CHANGE）               |\n",
       "| [PLANNING-13816](https://jira.deeproute.ai/browse/PLANNING-13816) | planning-prediction-dev=0.63.3;不必要变道规划，路口左转时规划变道，增加风险                             | 安全                                                            |\n",
       "| [PLANNING-13820](https://jira.deeproute.ai/browse/PLANNING-13820) | planning-prediction-dev=0.63.3;不必要变道规划，应该可以绕行通过                                         | 未分类问题（ISSUE_UNCLASSIFIED）                                |\n",
       "| [PLANNING-13767](https://jira.deeproute.ai/browse/PLANNING-13767) | planning-prediction-dev=0.63.3;不合理停止线（emergency stop）                                           | 通行效率 - 不合理的停车（UNREASONABLE_STOP）                    |\n",
       "| [PLANNING-13775](https://jira.deeproute.ai/browse/PLANNING-13775) | planning-prediction-dev=0.63.3;高速误检，不必要点刹                                                     | 体感 - 点刹（  SLIGHT_BRAKE）                                   |\n",
       "| [PLANNING-13718](https://jira.deeproute.ai/browse/PLANNING-13718) | planning-prediction-dev=0.63.3;路口左转时通行效率过低，只有4km/h的速度                                  | 通行效率 - 通行效率过低（ LOW_TRAFFIC_EFFICIENCY）              |\n",
       "| [PLANNING-13730](https://jira.deeproute.ai/browse/PLANNING-13730) | planning-prediction-dev=0.63.3;向左变道幅度过大，车身摇晃                                               | 体感 -  横向转向过大（ EXCESSIVE_LATERAL_STEER）                |\n",
       "| [PLANNING-13886](https://jira.deeproute.ai/browse/PLANNING-13886) | planning-prediction-dev=0.63.3;前方有违停车辆，车辆压双黄实线绕行通过。                                 | 交规 - 压实线/双黄线/半实半虚线行驶（ DRIVING_OVER_SOLID_LINE） |\n",
       "| [PLANNING-13889](https://jira.deeproute.ai/browse/PLANNING-13889) | planning-prediction-dev=0.63.3;前方有洒水车，车辆左右来回变道幅度频率较大                               | 安全 - 车辆摇晃 （WOBBLE）                                      |\n",
       "| [PLANNING-13885](https://jira.deeproute.ai/browse/PLANNING-13885) | planning-prediction-dev=0.63.3;车辆方向盘左右摇晃次数频繁                                               | 安全 - 车辆摇晃 （WOBBLE）                                      |"
      ],
      "text/plain": [
       "<IPython.core.display.Markdown object>"
      ]
     },
     "metadata": {},
     "output_type": "display_data"
    }
   ],
   "source": [
    "display(Markdown(ana.part_3c().to_markdown(index=False)))"
   ]
  },
  {
   "cell_type": "markdown",
   "metadata": {},
   "source": [
    "## Part4 Appendix\n",
    "### 4.1 失败metrics的统计"
   ]
  },
  {
   "cell_type": "code",
   "execution_count": 11,
   "metadata": {},
   "outputs": [
    {
     "data": {
      "text/markdown": [
       "| failedMetrics                                |   Count |\n",
       "|:---------------------------------------------|--------:|\n",
       "| position_max                                 |     634 |\n",
       "| position_average                             |     582 |\n",
       "| distance_max                                 |     246 |\n",
       "| distance_average                             |     246 |\n",
       "| longitudinal_acc_average                     |     222 |\n",
       "| longitudinal_acc_max                         |     192 |\n",
       "| angular_vel_human_driving_max                |     160 |\n",
       "| angular_vel_human_driving_average            |     160 |\n",
       "| target_lane_consistency_max                  |     154 |\n",
       "| target_lane_consistency_average              |     146 |\n",
       "| hard_brake_auto_gen_average                  |      84 |\n",
       "| safety_distance_to_object_average            |      82 |\n",
       "| hard_brake_auto_gen_max                      |      80 |\n",
       "| uncrossable_boundary_average                 |      68 |\n",
       "| safety_distance_to_object_max                |      66 |\n",
       "| uncrossable_boundary_max                     |      60 |\n",
       "| position_average                             |      52 |\n",
       "| speed_max                                    |      48 |\n",
       "| speed_average                                |      42 |\n",
       "| distance_to_boundary_average                 |      30 |\n",
       "| longitudinal_acc_max                         |      30 |\n",
       "| safety_distance_to_physical_boundary_max     |      24 |\n",
       "| safety_distance_to_physical_boundary_average |      24 |\n",
       "| distance_to_boundary_max                     |      18 |\n",
       "| lateral_acc_average                          |      18 |\n",
       "| lateral_acc_max                              |      18 |\n",
       "| longitudinal_distance_max                    |      16 |\n",
       "| longitudinal_distance_average                |      16 |\n",
       "| abnormal_label_max                           |      16 |\n",
       "| abnormal_label_average                       |      16 |\n",
       "| safety_distance_to_object_max                |      16 |\n",
       "| lateral_jerk_average                         |      14 |\n",
       "| lateral_jerk_max                             |      14 |\n",
       "| distance_to_boundary_max                     |      12 |\n",
       "| traj_dist_to_physical_boundary_max           |      12 |\n",
       "| red_traffic_light_max                        |       8 |\n",
       "| red_traffic_light_average                    |       8 |\n",
       "| uncrossable_boundary_max                     |       8 |\n",
       "| traj_dist_to_physical_boundary_average       |       8 |\n",
       "| target_lane_consistency_average              |       8 |\n",
       "| speed_average                                |       6 |\n",
       "| hard_brake_auto_gen_max                      |       6 |\n",
       "| lat_jerk_human_driving_max                   |       4 |\n",
       "| longitudinal_jerk_average                    |       4 |\n",
       "| lat_jerk_human_driving_average               |       4 |\n",
       "| traj_dist_to_physical_boundary_average       |       4 |\n",
       "| lateral_distance_max                         |       4 |\n",
       "| lateral_distance_average                     |       4 |\n",
       "| longitudinal_jerk_max                        |       4 |\n",
       "| max_speed_limit_max                          |       2 |\n",
       "| detour_average                               |       2 |\n",
       "| detour_max                                   |       2 |\n",
       "| max_speed_limit_average                      |       2 |\n",
       "| hard_brake_auto_gen_average                  |       2 |"
      ],
      "text/plain": [
       "<IPython.core.display.Markdown object>"
      ]
     },
     "metadata": {},
     "output_type": "display_data"
    }
   ],
   "source": [
    "display(Markdown(ana.part_4().to_markdown(index=False)))"
   ]
  },
  {
   "cell_type": "markdown",
   "metadata": {},
   "source": [
    "### 4.2 失败场景具体failed metrics"
   ]
  },
  {
   "cell_type": "markdown",
   "metadata": {},
   "source": [
    "https://rqk9rsooi4.feishu.cn/sheets/shtcngBXmYWIH7eKjNY9QQnZV3g"
   ]
  },
  {
   "cell_type": "markdown",
   "metadata": {},
   "source": [
    "### 4.3 表现更差的case"
   ]
  },
  {
   "cell_type": "code",
   "execution_count": 12,
   "metadata": {},
   "outputs": [
    {
     "data": {
      "text/markdown": [
       "|   scenarioId | jiraId                                                            | 0.63.3   | 0.63.6   |\n",
       "|-------------:|:------------------------------------------------------------------|:---------|:---------|\n",
       "|         5983 | [PLANNING-403](https://jira.deeproute.ai/browse/PLANNING-403)     | True     | False    |\n",
       "|         6907 | [PLANNING-856](https://jira.deeproute.ai/browse/PLANNING-856)     | True     | False    |\n",
       "|         7249 | [PLANNING-1691](https://jira.deeproute.ai/browse/PLANNING-1691)   | True     | False    |\n",
       "|         7305 | [PLANNING-1654](https://jira.deeproute.ai/browse/PLANNING-1654)   | True     | False    |\n",
       "|         7495 | [PLANNING-3079](https://jira.deeproute.ai/browse/PLANNING-3079)   | True     | False    |\n",
       "|         7603 | [PLANNING-1713](https://jira.deeproute.ai/browse/PLANNING-1713)   | True     | False    |\n",
       "|         7625 | [PLANNING-1725](https://jira.deeproute.ai/browse/PLANNING-1725)   | True     | False    |\n",
       "|         8259 | [PLANNING-3149](https://jira.deeproute.ai/browse/PLANNING-3149)   | True     | False    |\n",
       "|         8334 | [PLANNING-1554](https://jira.deeproute.ai/browse/PLANNING-1554)   | True     | False    |\n",
       "|         8479 | [PLANNING-1512](https://jira.deeproute.ai/browse/PLANNING-1512)   | True     | False    |\n",
       "|         8757 | [PLANNING-1328](https://jira.deeproute.ai/browse/PLANNING-1328)   | True     | False    |\n",
       "|         8761 | [PLANNING-1589](https://jira.deeproute.ai/browse/PLANNING-1589)   | True     | False    |\n",
       "|         8876 | [PLANNING-1609](https://jira.deeproute.ai/browse/PLANNING-1609)   | True     | False    |\n",
       "|         9076 | [PLANNING-3113](https://jira.deeproute.ai/browse/PLANNING-3113)   | True     | False    |\n",
       "|         9397 | [PLANNING-1151](https://jira.deeproute.ai/browse/PLANNING-1151)   | True     | False    |\n",
       "|         9410 | [PLANNING-2593](https://jira.deeproute.ai/browse/PLANNING-2593)   | True     | False    |\n",
       "|         9697 | [PLANNING-1876](https://jira.deeproute.ai/browse/PLANNING-1876)   | True     | False    |\n",
       "|         9901 | [PLANNING-2062](https://jira.deeproute.ai/browse/PLANNING-2062)   | True     | False    |\n",
       "|         9907 | [PLANNING-1014](https://jira.deeproute.ai/browse/PLANNING-1014)   | True     | False    |\n",
       "|         9918 | [PLANNING-1338](https://jira.deeproute.ai/browse/PLANNING-1338)   | True     | False    |\n",
       "|        10328 | [PLANNING-2917](https://jira.deeproute.ai/browse/PLANNING-2917)   | True     | False    |\n",
       "|        10550 | [PLANNING-3537](https://jira.deeproute.ai/browse/PLANNING-3537)   | True     | False    |\n",
       "|        10624 | [PLANNING-1851](https://jira.deeproute.ai/browse/PLANNING-1851)   | True     | False    |\n",
       "|        10691 | [PLANNING-3483](https://jira.deeproute.ai/browse/PLANNING-3483)   | True     | False    |\n",
       "|        10995 | [PLANNING-1411](https://jira.deeproute.ai/browse/PLANNING-1411)   | True     | False    |\n",
       "|        11193 | [PLANNING-3752](https://jira.deeproute.ai/browse/PLANNING-3752)   | True     | False    |\n",
       "|        11469 | [PLANNING-1977](https://jira.deeproute.ai/browse/PLANNING-1977)   | True     | False    |\n",
       "|        16610 | [None](https://jira.deeproute.ai/browse/None)                     | True     | False    |\n",
       "|        16632 | [PLANNING-3957](https://jira.deeproute.ai/browse/PLANNING-3957)   | True     | False    |\n",
       "|        16653 | [PERI-284](https://jira.deeproute.ai/browse/PERI-284)             | True     | False    |\n",
       "|        16738 | [PLANNING-3591](https://jira.deeproute.ai/browse/PLANNING-3591)   | True     | False    |\n",
       "|        16773 | [PLANNING-3571](https://jira.deeproute.ai/browse/PLANNING-3571)   | True     | False    |\n",
       "|        17302 | [PLANNING-3809](https://jira.deeproute.ai/browse/PLANNING-3809)   | True     | False    |\n",
       "|        26495 | [PLANNING-4740](https://jira.deeproute.ai/browse/PLANNING-4740)   | True     | False    |\n",
       "|        28152 | [PLANNING-5627](https://jira.deeproute.ai/browse/PLANNING-5627)   | True     | False    |\n",
       "|        28166 | [PLANNING-5636](https://jira.deeproute.ai/browse/PLANNING-5636)   | True     | False    |\n",
       "|        28173 | [PLANNING-5654](https://jira.deeproute.ai/browse/PLANNING-5654)   | True     | False    |\n",
       "|        29540 | [PLANNING-5600](https://jira.deeproute.ai/browse/PLANNING-5600)   | True     | False    |\n",
       "|        29828 | [PLANNING-5828](https://jira.deeproute.ai/browse/PLANNING-5828)   | True     | False    |\n",
       "|        30756 | [PLANNING-5931](https://jira.deeproute.ai/browse/PLANNING-5931)   | True     | False    |\n",
       "|        31669 | [PLANNING-6074](https://jira.deeproute.ai/browse/PLANNING-6074)   | True     | False    |\n",
       "|        38371 | [PLANNING-6835](https://jira.deeproute.ai/browse/PLANNING-6835)   | True     | False    |\n",
       "|        38668 | [PLANNING-6850](https://jira.deeproute.ai/browse/PLANNING-6850)   | True     | False    |\n",
       "|        38669 | [PLANNING-6851](https://jira.deeproute.ai/browse/PLANNING-6851)   | True     | False    |\n",
       "|        38674 | [PLANNING-6855](https://jira.deeproute.ai/browse/PLANNING-6855)   | True     | False    |\n",
       "|        39540 | [PLANNING-6938](https://jira.deeproute.ai/browse/PLANNING-6938)   | True     | False    |\n",
       "|        40688 | [PLANNING-7062](https://jira.deeproute.ai/browse/PLANNING-7062)   | True     | False    |\n",
       "|        40700 | [PLANNING-7070](https://jira.deeproute.ai/browse/PLANNING-7070)   | True     | False    |\n",
       "|        41382 | [PLANNING-7183](https://jira.deeproute.ai/browse/PLANNING-7183)   | True     | False    |\n",
       "|        41709 | [PLANNING-7276](https://jira.deeproute.ai/browse/PLANNING-7276)   | True     | False    |\n",
       "|        41925 | [PLANNING-7354](https://jira.deeproute.ai/browse/PLANNING-7354)   | True     | False    |\n",
       "|        41933 | [PLANNING-7361](https://jira.deeproute.ai/browse/PLANNING-7361)   | True     | False    |\n",
       "|        42245 | [PLANNING-7441](https://jira.deeproute.ai/browse/PLANNING-7441)   | True     | False    |\n",
       "|        42256 | [PLANNING-7447](https://jira.deeproute.ai/browse/PLANNING-7447)   | True     | False    |\n",
       "|        42279 | [PLANNING-7454](https://jira.deeproute.ai/browse/PLANNING-7454)   | True     | False    |\n",
       "|        42308 | [PLANNING-7459](https://jira.deeproute.ai/browse/PLANNING-7459)   | True     | False    |\n",
       "|        42786 | [PLANNING-7714](https://jira.deeproute.ai/browse/PLANNING-7714)   | True     | False    |\n",
       "|        42802 | [PLANNING-7894](https://jira.deeproute.ai/browse/PLANNING-7894)   | True     | False    |\n",
       "|        42811 | [PLANNING-7955](https://jira.deeproute.ai/browse/PLANNING-7955)   | True     | False    |\n",
       "|        43041 | [PLANNING-9055](https://jira.deeproute.ai/browse/PLANNING-9055)   | True     | False    |\n",
       "|        43075 | [PLANNING-9084](https://jira.deeproute.ai/browse/PLANNING-9084)   | True     | False    |\n",
       "|        43085 | [PLANNING-9093](https://jira.deeproute.ai/browse/PLANNING-9093)   | True     | False    |\n",
       "|        43100 | [PLANNING-9108](https://jira.deeproute.ai/browse/PLANNING-9108)   | True     | False    |\n",
       "|        43154 | [PLANNING-9136](https://jira.deeproute.ai/browse/PLANNING-9136)   | True     | False    |\n",
       "|        43163 | [PLANNING-9144](https://jira.deeproute.ai/browse/PLANNING-9144)   | True     | False    |\n",
       "|        43282 | [PLANNING-9206](https://jira.deeproute.ai/browse/PLANNING-9206)   | True     | False    |\n",
       "|        43310 | [PLANNING-9222](https://jira.deeproute.ai/browse/PLANNING-9222)   | True     | False    |\n",
       "|        43312 | [PLANNING-9224](https://jira.deeproute.ai/browse/PLANNING-9224)   | True     | False    |\n",
       "|        43329 | [PLANNING-9227](https://jira.deeproute.ai/browse/PLANNING-9227)   | True     | False    |\n",
       "|        43330 | [PLANNING-9228](https://jira.deeproute.ai/browse/PLANNING-9228)   | True     | False    |\n",
       "|        46938 | [PLANNING-9261](https://jira.deeproute.ai/browse/PLANNING-9261)   | True     | False    |\n",
       "|        46951 | [PLANNING-9273](https://jira.deeproute.ai/browse/PLANNING-9273)   | True     | False    |\n",
       "|        46972 | [PLANNING-9290](https://jira.deeproute.ai/browse/PLANNING-9290)   | True     | False    |\n",
       "|        47229 | [PLANNING-9373](https://jira.deeproute.ai/browse/PLANNING-9373)   | True     | False    |\n",
       "|        47251 | [PLANNING-9389](https://jira.deeproute.ai/browse/PLANNING-9389)   | True     | False    |\n",
       "|        47263 | [PLANNING-9395](https://jira.deeproute.ai/browse/PLANNING-9395)   | True     | False    |\n",
       "|        47267 | [PLANNING-9393](https://jira.deeproute.ai/browse/PLANNING-9393)   | True     | False    |\n",
       "|        47305 | [PLANNING-9416](https://jira.deeproute.ai/browse/PLANNING-9416)   | True     | False    |\n",
       "|        47309 | [PLANNING-9420](https://jira.deeproute.ai/browse/PLANNING-9420)   | True     | False    |\n",
       "|        47320 | [PLANNING-9426](https://jira.deeproute.ai/browse/PLANNING-9426)   | True     | False    |\n",
       "|        47321 | [PLANNING-9427](https://jira.deeproute.ai/browse/PLANNING-9427)   | True     | False    |\n",
       "|        47348 | [PLANNING-9452](https://jira.deeproute.ai/browse/PLANNING-9452)   | True     | False    |\n",
       "|        47416 | [PLANNING-9490](https://jira.deeproute.ai/browse/PLANNING-9490)   | True     | False    |\n",
       "|        47440 | [PLANNING-9504](https://jira.deeproute.ai/browse/PLANNING-9504)   | True     | False    |\n",
       "|        47448 | [PLANNING-9512](https://jira.deeproute.ai/browse/PLANNING-9512)   | True     | False    |\n",
       "|        47504 | [PLANNING-9535](https://jira.deeproute.ai/browse/PLANNING-9535)   | True     | False    |\n",
       "|        47522 | [PLANNING-9326](https://jira.deeproute.ai/browse/PLANNING-9326)   | True     | False    |\n",
       "|        47523 | [PLANNING-9327](https://jira.deeproute.ai/browse/PLANNING-9327)   | True     | False    |\n",
       "|        47567 | [PLANNING-9568](https://jira.deeproute.ai/browse/PLANNING-9568)   | True     | False    |\n",
       "|        47571 | [PLANNING-9572](https://jira.deeproute.ai/browse/PLANNING-9572)   | True     | False    |\n",
       "|        47636 | [PLANNING-9623](https://jira.deeproute.ai/browse/PLANNING-9623)   | True     | False    |\n",
       "|        47637 | [PLANNING-9624](https://jira.deeproute.ai/browse/PLANNING-9624)   | True     | False    |\n",
       "|        47747 | [PLANNING-9699](https://jira.deeproute.ai/browse/PLANNING-9699)   | True     | False    |\n",
       "|        47754 | [PLANNING-9706](https://jira.deeproute.ai/browse/PLANNING-9706)   | True     | False    |\n",
       "|        47960 | [PLANNING-9858](https://jira.deeproute.ai/browse/PLANNING-9858)   | True     | False    |\n",
       "|        47970 | [None](https://jira.deeproute.ai/browse/None)                     | True     | False    |\n",
       "|        48485 | [PLANNING-10263](https://jira.deeproute.ai/browse/PLANNING-10263) | True     | False    |\n",
       "|        48611 | [PLANNING-10322](https://jira.deeproute.ai/browse/PLANNING-10322) | True     | False    |\n",
       "|        49049 | [PLANNING-10566](https://jira.deeproute.ai/browse/PLANNING-10566) | True     | False    |\n",
       "|        49128 | [PLANNING-10631](https://jira.deeproute.ai/browse/PLANNING-10631) | True     | False    |\n",
       "|        49203 | [PLANNING-10696](https://jira.deeproute.ai/browse/PLANNING-10696) | True     | False    |\n",
       "|        49228 | [PLANNING-10717](https://jira.deeproute.ai/browse/PLANNING-10717) | True     | False    |\n",
       "|        49242 | [PLANNING-10730](https://jira.deeproute.ai/browse/PLANNING-10730) | True     | False    |\n",
       "|        49288 | [PLANNING-10773](https://jira.deeproute.ai/browse/PLANNING-10773) | True     | False    |\n",
       "|        49619 | [PLANNING-10978](https://jira.deeproute.ai/browse/PLANNING-10978) | True     | False    |\n",
       "|        49620 | [PLANNING-10979](https://jira.deeproute.ai/browse/PLANNING-10979) | True     | False    |\n",
       "|        49641 | [PLANNING-11000](https://jira.deeproute.ai/browse/PLANNING-11000) | True     | False    |\n",
       "|        50401 | [PLANNING-11651](https://jira.deeproute.ai/browse/PLANNING-11651) | True     | False    |\n",
       "|        50487 | [PLANNING-11723](https://jira.deeproute.ai/browse/PLANNING-11723) | True     | False    |\n",
       "|        50682 | [PLANNING-11865](https://jira.deeproute.ai/browse/PLANNING-11865) | True     | False    |\n",
       "|        50817 | [PLANNING-11972](https://jira.deeproute.ai/browse/PLANNING-11972) | True     | False    |\n",
       "|        51100 | [PLANNING-12181](https://jira.deeproute.ai/browse/PLANNING-12181) | True     | False    |\n",
       "|        51274 | [PLANNING-12264](https://jira.deeproute.ai/browse/PLANNING-12264) | True     | False    |\n",
       "|        51703 | [None](https://jira.deeproute.ai/browse/None)                     | True     | False    |\n",
       "|        51710 | [None](https://jira.deeproute.ai/browse/None)                     | True     | False    |\n",
       "|        51715 | [None](https://jira.deeproute.ai/browse/None)                     | True     | False    |\n",
       "|        51726 | [None](https://jira.deeproute.ai/browse/None)                     | True     | False    |\n",
       "|        51740 | [None](https://jira.deeproute.ai/browse/None)                     | True     | False    |\n",
       "|        51800 | [None](https://jira.deeproute.ai/browse/None)                     | True     | False    |\n",
       "|        51810 | [None](https://jira.deeproute.ai/browse/None)                     | True     | False    |\n",
       "|        51823 | [None](https://jira.deeproute.ai/browse/None)                     | True     | False    |\n",
       "|        51838 | [None](https://jira.deeproute.ai/browse/None)                     | True     | False    |\n",
       "|        51842 | [None](https://jira.deeproute.ai/browse/None)                     | True     | False    |\n",
       "|        51854 | [None](https://jira.deeproute.ai/browse/None)                     | True     | False    |\n",
       "|        52352 | [PLANNING-12701](https://jira.deeproute.ai/browse/PLANNING-12701) | True     | False    |\n",
       "|        52673 | [PLANNING-12871](https://jira.deeproute.ai/browse/PLANNING-12871) | True     | False    |\n",
       "|        52680 | [PLANNING-12878](https://jira.deeproute.ai/browse/PLANNING-12878) | True     | False    |\n",
       "|        52687 | [PLANNING-12885](https://jira.deeproute.ai/browse/PLANNING-12885) | True     | False    |\n",
       "|        52759 | [PLANNING-12940](https://jira.deeproute.ai/browse/PLANNING-12940) | True     | False    |\n",
       "|        52788 | [PLANNING-12967](https://jira.deeproute.ai/browse/PLANNING-12967) | True     | False    |\n",
       "|        53595 | [PLANNING-13194](https://jira.deeproute.ai/browse/PLANNING-13194) | True     | False    |\n",
       "|        53824 | [PLANNING-13383](https://jira.deeproute.ai/browse/PLANNING-13383) | True     | False    |\n",
       "|        54001 | [PLANNING-13485](https://jira.deeproute.ai/browse/PLANNING-13485) | True     | False    |\n",
       "|        54011 | [PLANNING-13491](https://jira.deeproute.ai/browse/PLANNING-13491) | True     | False    |\n",
       "|        54018 | [PLANNING-13494](https://jira.deeproute.ai/browse/PLANNING-13494) | True     | False    |\n",
       "|        54052 | [PLANNING-13513](https://jira.deeproute.ai/browse/PLANNING-13513) | True     | False    |\n",
       "|         6796 | [PLANNING-3279](https://jira.deeproute.ai/browse/PLANNING-3279)   | True     | False    |\n",
       "|         7695 | [QA-99](https://jira.deeproute.ai/browse/QA-99)                   | True     | False    |\n",
       "|         8285 | [PLANNING-3148](https://jira.deeproute.ai/browse/PLANNING-3148)   | True     | False    |\n",
       "|         8302 | [PLANNING-1033](https://jira.deeproute.ai/browse/PLANNING-1033)   | True     | False    |\n",
       "|         8465 | [PLANNING-3150](https://jira.deeproute.ai/browse/PLANNING-3150)   | True     | False    |\n",
       "|         8649 | [PLANNING-2562](https://jira.deeproute.ai/browse/PLANNING-2562)   | True     | False    |\n",
       "|         9072 | [PLANNING-2146](https://jira.deeproute.ai/browse/PLANNING-2146)   | True     | False    |\n",
       "|        10555 | [PLANNING-3540](https://jira.deeproute.ai/browse/PLANNING-3540)   | True     | False    |\n",
       "|        11034 | [PLANNING-2761](https://jira.deeproute.ai/browse/PLANNING-2761)   | True     | False    |\n",
       "|        29734 | [PLANNING-5819](https://jira.deeproute.ai/browse/PLANNING-5819)   | True     | False    |\n",
       "|        29757 | [PLANNING-5600](https://jira.deeproute.ai/browse/PLANNING-5600)   | True     | False    |\n",
       "|        34897 | [PLANNING-6252](https://jira.deeproute.ai/browse/PLANNING-6252)   | True     | False    |\n",
       "|        34901 | [PLANNING-6254](https://jira.deeproute.ai/browse/PLANNING-6254)   | True     | False    |\n",
       "|        36921 | [PLANNING-6521](https://jira.deeproute.ai/browse/PLANNING-6521)   | True     | False    |\n",
       "|        38978 | [PLANNING-6872](https://jira.deeproute.ai/browse/PLANNING-6872)   | True     | False    |\n",
       "|        40693 | [PLANNING-7064](https://jira.deeproute.ai/browse/PLANNING-7064)   | True     | False    |\n",
       "|        41408 | [PLANNING-7204](https://jira.deeproute.ai/browse/PLANNING-7204)   | True     | False    |\n",
       "|        41722 | [PLANNING-7284](https://jira.deeproute.ai/browse/PLANNING-7284)   | True     | False    |\n",
       "|        43179 | [PLANNING-9159](https://jira.deeproute.ai/browse/PLANNING-9159)   | True     | False    |\n",
       "|        43288 | [PLANNING-9212](https://jira.deeproute.ai/browse/PLANNING-9212)   | True     | False    |\n",
       "|        46990 | [PLANNING-9303](https://jira.deeproute.ai/browse/PLANNING-9303)   | True     | False    |\n",
       "|        47154 | [PLANNING-9353](https://jira.deeproute.ai/browse/PLANNING-9353)   | True     | False    |\n",
       "|        47345 | [PLANNING-9449](https://jira.deeproute.ai/browse/PLANNING-9449)   | True     | False    |\n",
       "|        47481 | [PLANNING-9519](https://jira.deeproute.ai/browse/PLANNING-9519)   | True     | False    |\n",
       "|        47660 | [PLANNING-9638](https://jira.deeproute.ai/browse/PLANNING-9638)   | True     | False    |\n",
       "|        47741 | [PLANNING-9693](https://jira.deeproute.ai/browse/PLANNING-9693)   | True     | False    |\n",
       "|        47768 | [PLANNING-9716](https://jira.deeproute.ai/browse/PLANNING-9716)   | True     | False    |\n",
       "|        48044 | [PLANNING-9921](https://jira.deeproute.ai/browse/PLANNING-9921)   | True     | False    |\n",
       "|        48460 | [PLANNING-10239](https://jira.deeproute.ai/browse/PLANNING-10239) | True     | False    |\n",
       "|        48530 | [PLANNING-10298](https://jira.deeproute.ai/browse/PLANNING-10298) | True     | False    |\n",
       "|        49415 | [PLANNING-10810](https://jira.deeproute.ai/browse/PLANNING-10810) | True     | False    |\n",
       "|        50059 | [PLANNING-11369](https://jira.deeproute.ai/browse/PLANNING-11369) | True     | False    |\n",
       "|        50272 | [PLANNING-11546](https://jira.deeproute.ai/browse/PLANNING-11546) | True     | False    |\n",
       "|        50480 | [PLANNING-11716](https://jira.deeproute.ai/browse/PLANNING-11716) | True     | False    |\n",
       "|        50571 | [PLANNING-11766](https://jira.deeproute.ai/browse/PLANNING-11766) | True     | False    |\n",
       "|        50693 | [PLANNING-11875](https://jira.deeproute.ai/browse/PLANNING-11875) | True     | False    |\n",
       "|        50716 | [PLANNING-11896](https://jira.deeproute.ai/browse/PLANNING-11896) | True     | False    |\n",
       "|        50828 | [PLANNING-11983](https://jira.deeproute.ai/browse/PLANNING-11983) | True     | False    |\n",
       "|        53349 | [PLANNING-13035](https://jira.deeproute.ai/browse/PLANNING-13035) | True     | False    |\n",
       "|        53379 | [PLANNING-13043](https://jira.deeproute.ai/browse/PLANNING-13043) | True     | False    |\n",
       "|        53681 | [None](https://jira.deeproute.ai/browse/None)                     | True     | False    |\n",
       "|        54006 | [PLANNING-13490](https://jira.deeproute.ai/browse/PLANNING-13490) | True     | False    |"
      ],
      "text/plain": [
       "<IPython.core.display.Markdown object>"
      ]
     },
     "metadata": {},
     "output_type": "display_data"
    }
   ],
   "source": [
    "data = pd.read_excel(\"intersected_df.xlsx\")\n",
    "data = data.loc[(data['0.63.3']== True) & (data['0.63.6']== False)] #\n",
    "data = data[['scenarioId', 'jiraId', '0.63.3', '0.63.6']]\n",
    "link_func = lambda ot: '[%s](https://jira.deeproute.ai/browse/%s)'%(ot,ot)\n",
    "data['jiraId'] = data['jiraId'].apply(link_func)\n",
    "display(Markdown(data.to_markdown(index=False)))"
   ]
  },
  {
   "cell_type": "code",
   "execution_count": null,
   "metadata": {},
   "outputs": [],
   "source": []
  }
 ],
 "metadata": {
  "interpreter": {
   "hash": "7b004cb377420e648f6d53743a6d6f5ef9f7ce4da96d13ce7165192009dcb12d"
  },
  "kernelspec": {
   "display_name": "Python 3.9.7 ('base')",
   "language": "python",
   "name": "python3"
  },
  "language_info": {
   "codemirror_mode": {
    "name": "ipython",
    "version": 3
   },
   "file_extension": ".py",
   "mimetype": "text/x-python",
   "name": "python",
   "nbconvert_exporter": "python",
   "pygments_lexer": "ipython3",
   "version": "3.9.7"
  },
  "orig_nbformat": 4
 },
 "nbformat": 4,
 "nbformat_minor": 2
}
